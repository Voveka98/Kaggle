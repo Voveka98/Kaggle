{
 "cells": [
  {
   "cell_type": "code",
   "execution_count": 1,
   "id": "f487a8a0",
   "metadata": {
    "_cell_guid": "b1076dfc-b9ad-4769-8c92-a6c4dae69d19",
    "_uuid": "8f2839f25d086af736a60e9eeb907d3b93b6e0e5",
    "execution": {
     "iopub.execute_input": "2022-01-06T14:32:11.968703Z",
     "iopub.status.busy": "2022-01-06T14:32:11.966593Z",
     "iopub.status.idle": "2022-01-06T14:32:12.005877Z",
     "shell.execute_reply": "2022-01-06T14:32:12.006529Z",
     "shell.execute_reply.started": "2022-01-06T10:02:40.248478Z"
    },
    "papermill": {
     "duration": 0.093323,
     "end_time": "2022-01-06T14:32:12.006823",
     "exception": false,
     "start_time": "2022-01-06T14:32:11.913500",
     "status": "completed"
    },
    "tags": []
   },
   "outputs": [
    {
     "name": "stdout",
     "output_type": "stream",
     "text": [
      "/kaggle/input/headhunter-employer-review-competition/HeadHunter_train.csv\n",
      "/kaggle/input/headhunter-employer-review-competition/HeadHunter_sample_submit.csv\n",
      "/kaggle/input/headhunter-employer-review-competition/HeadHunter_test.csv\n"
     ]
    }
   ],
   "source": [
    "\n",
    "import numpy as np # linear algebra\n",
    "import pandas as pd # data processing, CSV file I/O (e.g. pd.read_csv)\n",
    "import os\n",
    "for dirname, _, filenames in os.walk('/kaggle/input'):\n",
    "    for filename in filenames:\n",
    "        print(os.path.join(dirname, filename))\n",
    "\n",
    "# You can write up to 20GB to the current directory (/kaggle/working/) that gets preserved as output when you create a version using \"Save & Run All\" \n",
    "# You can also write temporary files to /kaggle/temp/, but they won't be saved outside of the current session"
   ]
  },
  {
   "cell_type": "code",
   "execution_count": 2,
   "id": "c5419d6e",
   "metadata": {
    "execution": {
     "iopub.execute_input": "2022-01-06T14:32:12.112778Z",
     "iopub.status.busy": "2022-01-06T14:32:12.106301Z",
     "iopub.status.idle": "2022-01-06T14:32:20.610151Z",
     "shell.execute_reply": "2022-01-06T14:32:20.609265Z",
     "shell.execute_reply.started": "2022-01-06T10:02:40.283770Z"
    },
    "papermill": {
     "duration": 8.555516,
     "end_time": "2022-01-06T14:32:20.610313",
     "exception": false,
     "start_time": "2022-01-06T14:32:12.054797",
     "status": "completed"
    },
    "tags": []
   },
   "outputs": [],
   "source": [
    "import re\n",
    "from tqdm import tqdm\n",
    "import transformers\n",
    "%matplotlib inline\n",
    "\n",
    "from sklearn.model_selection import train_test_split\n",
    "import nltk\n",
    "from nltk import word_tokenize\n",
    "from nltk.corpus import stopwords\n",
    "words = stopwords.words(\"russian\")\n",
    "lemma = nltk.stem.WordNetLemmatizer()\n",
    "\n",
    "\n",
    "import torch\n",
    "from transformers import BertTokenizer\n",
    "from torch.utils.data import TensorDataset, DataLoader, RandomSampler, SequentialSampler\n",
    "import torch.nn as nn\n",
    "import torch.nn.functional as F\n",
    "from transformers import BertModel\n",
    "from transformers import AdamW, get_linear_schedule_with_warmup\n",
    "\n",
    "import random\n",
    "import time"
   ]
  },
  {
   "cell_type": "code",
   "execution_count": 3,
   "id": "8bf61821",
   "metadata": {
    "execution": {
     "iopub.execute_input": "2022-01-06T14:32:20.710664Z",
     "iopub.status.busy": "2022-01-06T14:32:20.710002Z",
     "iopub.status.idle": "2022-01-06T14:32:21.884387Z",
     "shell.execute_reply": "2022-01-06T14:32:21.885164Z",
     "shell.execute_reply.started": "2022-01-06T13:37:39.230477Z"
    },
    "papermill": {
     "duration": 1.227665,
     "end_time": "2022-01-06T14:32:21.885435",
     "exception": false,
     "start_time": "2022-01-06T14:32:20.657770",
     "status": "completed"
    },
    "tags": []
   },
   "outputs": [],
   "source": [
    "train_df = pd.read_csv('/kaggle/input/headhunter-employer-review-competition/HeadHunter_train.csv')"
   ]
  },
  {
   "cell_type": "code",
   "execution_count": 4,
   "id": "d8d82f79",
   "metadata": {
    "execution": {
     "iopub.execute_input": "2022-01-06T14:32:21.997892Z",
     "iopub.status.busy": "2022-01-06T14:32:21.997047Z",
     "iopub.status.idle": "2022-01-06T14:32:22.016117Z",
     "shell.execute_reply": "2022-01-06T14:32:22.016654Z",
     "shell.execute_reply.started": "2022-01-06T13:37:39.799501Z"
    },
    "papermill": {
     "duration": 0.075097,
     "end_time": "2022-01-06T14:32:22.016850",
     "exception": false,
     "start_time": "2022-01-06T14:32:21.941753",
     "status": "completed"
    },
    "tags": []
   },
   "outputs": [
    {
     "data": {
      "text/html": [
       "<div>\n",
       "<style scoped>\n",
       "    .dataframe tbody tr th:only-of-type {\n",
       "        vertical-align: middle;\n",
       "    }\n",
       "\n",
       "    .dataframe tbody tr th {\n",
       "        vertical-align: top;\n",
       "    }\n",
       "\n",
       "    .dataframe thead th {\n",
       "        text-align: right;\n",
       "    }\n",
       "</style>\n",
       "<table border=\"1\" class=\"dataframe\">\n",
       "  <thead>\n",
       "    <tr style=\"text-align: right;\">\n",
       "      <th></th>\n",
       "      <th>review_id</th>\n",
       "      <th>city</th>\n",
       "      <th>position</th>\n",
       "      <th>positive</th>\n",
       "      <th>negative</th>\n",
       "      <th>salary_rating</th>\n",
       "      <th>team_rating</th>\n",
       "      <th>managment_rating</th>\n",
       "      <th>career_rating</th>\n",
       "      <th>workplace_rating</th>\n",
       "      <th>rest_recovery_rating</th>\n",
       "      <th>target</th>\n",
       "    </tr>\n",
       "  </thead>\n",
       "  <tbody>\n",
       "    <tr>\n",
       "      <th>0</th>\n",
       "      <td>0</td>\n",
       "      <td>Ижевск</td>\n",
       "      <td>Кладовщик</td>\n",
       "      <td>Недавно устроился в ****** на должность кладов...</td>\n",
       "      <td>Повысить з/п</td>\n",
       "      <td>5</td>\n",
       "      <td>4</td>\n",
       "      <td>3</td>\n",
       "      <td>3</td>\n",
       "      <td>4</td>\n",
       "      <td>4</td>\n",
       "      <td>0</td>\n",
       "    </tr>\n",
       "    <tr>\n",
       "      <th>1</th>\n",
       "      <td>1</td>\n",
       "      <td>Москва</td>\n",
       "      <td>Руководитель проекта</td>\n",
       "      <td>Расположение офиса, своего рода стабильность (...</td>\n",
       "      <td>Упростить процессы - все процессы ради процесс...</td>\n",
       "      <td>4</td>\n",
       "      <td>4</td>\n",
       "      <td>4</td>\n",
       "      <td>1</td>\n",
       "      <td>1</td>\n",
       "      <td>1</td>\n",
       "      <td>8</td>\n",
       "    </tr>\n",
       "    <tr>\n",
       "      <th>2</th>\n",
       "      <td>2</td>\n",
       "      <td>Екатеринбург</td>\n",
       "      <td>Консультант</td>\n",
       "      <td>В нашем банке все по закону в плане зарплаты и...</td>\n",
       "      <td>Ничего</td>\n",
       "      <td>5</td>\n",
       "      <td>5</td>\n",
       "      <td>5</td>\n",
       "      <td>5</td>\n",
       "      <td>5</td>\n",
       "      <td>5</td>\n",
       "      <td>0</td>\n",
       "    </tr>\n",
       "    <tr>\n",
       "      <th>3</th>\n",
       "      <td>5</td>\n",
       "      <td>Санкт-Петербург</td>\n",
       "      <td>Оператор</td>\n",
       "      <td>Я в ****** около года работаю оператором. Норм...</td>\n",
       "      <td>Нет.</td>\n",
       "      <td>5</td>\n",
       "      <td>5</td>\n",
       "      <td>5</td>\n",
       "      <td>5</td>\n",
       "      <td>5</td>\n",
       "      <td>5</td>\n",
       "      <td>0</td>\n",
       "    </tr>\n",
       "    <tr>\n",
       "      <th>4</th>\n",
       "      <td>7</td>\n",
       "      <td>Москва</td>\n",
       "      <td>Инженер КИПиА</td>\n",
       "      <td>В принципе норм.Работать можно</td>\n",
       "      <td>Всегда есть к чему стремиться</td>\n",
       "      <td>4</td>\n",
       "      <td>5</td>\n",
       "      <td>4</td>\n",
       "      <td>2</td>\n",
       "      <td>5</td>\n",
       "      <td>2</td>\n",
       "      <td>8</td>\n",
       "    </tr>\n",
       "  </tbody>\n",
       "</table>\n",
       "</div>"
      ],
      "text/plain": [
       "   review_id             city              position  \\\n",
       "0          0           Ижевск             Кладовщик   \n",
       "1          1           Москва  Руководитель проекта   \n",
       "2          2     Екатеринбург           Консультант   \n",
       "3          5  Санкт-Петербург              Оператор   \n",
       "4          7           Москва         Инженер КИПиА   \n",
       "\n",
       "                                            positive  \\\n",
       "0  Недавно устроился в ****** на должность кладов...   \n",
       "1  Расположение офиса, своего рода стабильность (...   \n",
       "2  В нашем банке все по закону в плане зарплаты и...   \n",
       "3  Я в ****** около года работаю оператором. Норм...   \n",
       "4                     В принципе норм.Работать можно   \n",
       "\n",
       "                                            negative  salary_rating  \\\n",
       "0                                       Повысить з/п              5   \n",
       "1  Упростить процессы - все процессы ради процесс...              4   \n",
       "2                                             Ничего              5   \n",
       "3                                               Нет.              5   \n",
       "4                      Всегда есть к чему стремиться              4   \n",
       "\n",
       "   team_rating  managment_rating  career_rating  workplace_rating  \\\n",
       "0            4                 3              3                 4   \n",
       "1            4                 4              1                 1   \n",
       "2            5                 5              5                 5   \n",
       "3            5                 5              5                 5   \n",
       "4            5                 4              2                 5   \n",
       "\n",
       "   rest_recovery_rating target  \n",
       "0                     4      0  \n",
       "1                     1      8  \n",
       "2                     5      0  \n",
       "3                     5      0  \n",
       "4                     2      8  "
      ]
     },
     "execution_count": 4,
     "metadata": {},
     "output_type": "execute_result"
    }
   ],
   "source": [
    "train_df.head()"
   ]
  },
  {
   "cell_type": "code",
   "execution_count": 5,
   "id": "556cddeb",
   "metadata": {
    "execution": {
     "iopub.execute_input": "2022-01-06T14:32:22.125209Z",
     "iopub.status.busy": "2022-01-06T14:32:22.123914Z",
     "iopub.status.idle": "2022-01-06T14:32:22.702437Z",
     "shell.execute_reply": "2022-01-06T14:32:22.701688Z",
     "shell.execute_reply.started": "2022-01-06T13:37:40.696652Z"
    },
    "papermill": {
     "duration": 0.637032,
     "end_time": "2022-01-06T14:32:22.702581",
     "exception": false,
     "start_time": "2022-01-06T14:32:22.065549",
     "status": "completed"
    },
    "tags": []
   },
   "outputs": [],
   "source": [
    "train_df['Target_vector'] = train_df.target.apply(lambda target: [1  if number in [int(x) for x in target if x.isdigit()] else 0 for number in range(9)])"
   ]
  },
  {
   "cell_type": "code",
   "execution_count": 6,
   "id": "8aa8b0e3",
   "metadata": {
    "execution": {
     "iopub.execute_input": "2022-01-06T14:32:22.815031Z",
     "iopub.status.busy": "2022-01-06T14:32:22.813690Z",
     "iopub.status.idle": "2022-01-06T14:32:22.855848Z",
     "shell.execute_reply": "2022-01-06T14:32:22.855186Z",
     "shell.execute_reply.started": "2022-01-06T13:37:41.391843Z"
    },
    "papermill": {
     "duration": 0.105817,
     "end_time": "2022-01-06T14:32:22.856020",
     "exception": false,
     "start_time": "2022-01-06T14:32:22.750203",
     "status": "completed"
    },
    "tags": []
   },
   "outputs": [],
   "source": [
    "train_df = train_df[(~train_df.positive.isna())]\n",
    "train_df = train_df[(~train_df.negative.isna())]"
   ]
  },
  {
   "cell_type": "code",
   "execution_count": 7,
   "id": "131740d3",
   "metadata": {
    "execution": {
     "iopub.execute_input": "2022-01-06T14:32:23.001559Z",
     "iopub.status.busy": "2022-01-06T14:32:23.000539Z",
     "iopub.status.idle": "2022-01-06T14:32:23.104643Z",
     "shell.execute_reply": "2022-01-06T14:32:23.105288Z",
     "shell.execute_reply.started": "2022-01-06T13:37:41.905566Z"
    },
    "papermill": {
     "duration": 0.19894,
     "end_time": "2022-01-06T14:32:23.105485",
     "exception": false,
     "start_time": "2022-01-06T14:32:22.906545",
     "status": "completed"
    },
    "tags": []
   },
   "outputs": [
    {
     "name": "stdout",
     "output_type": "stream",
     "text": [
      "135.0042570803524 6000\n",
      "86.50801158871873 6000\n"
     ]
    }
   ],
   "source": [
    "print(train_df.positive.apply(lambda x: len(x)).mean(), train_df.positive.apply(lambda x: len(x)).max())\n",
    "print(train_df.negative.apply(lambda x: len(x)).mean(), train_df.negative.apply(lambda x: len(x)).max())"
   ]
  },
  {
   "cell_type": "code",
   "execution_count": 8,
   "id": "40be704a",
   "metadata": {
    "execution": {
     "iopub.execute_input": "2022-01-06T14:32:23.222457Z",
     "iopub.status.busy": "2022-01-06T14:32:23.221295Z",
     "iopub.status.idle": "2022-01-06T14:32:23.241495Z",
     "shell.execute_reply": "2022-01-06T14:32:23.242183Z",
     "shell.execute_reply.started": "2022-01-06T13:37:51.621815Z"
    },
    "papermill": {
     "duration": 0.083187,
     "end_time": "2022-01-06T14:32:23.242388",
     "exception": false,
     "start_time": "2022-01-06T14:32:23.159201",
     "status": "completed"
    },
    "tags": []
   },
   "outputs": [],
   "source": [
    "train_df, val = train_test_split(train_df, test_size=0.1, random_state=42)"
   ]
  },
  {
   "cell_type": "markdown",
   "id": "78e25022",
   "metadata": {
    "papermill": {
     "duration": 0.054913,
     "end_time": "2022-01-06T14:32:23.351877",
     "exception": false,
     "start_time": "2022-01-06T14:32:23.296964",
     "status": "completed"
    },
    "tags": []
   },
   "source": [
    "## Bert"
   ]
  },
  {
   "cell_type": "code",
   "execution_count": 9,
   "id": "bd3488bf",
   "metadata": {
    "execution": {
     "iopub.execute_input": "2022-01-06T14:32:23.514855Z",
     "iopub.status.busy": "2022-01-06T14:32:23.513848Z",
     "iopub.status.idle": "2022-01-06T14:32:23.517892Z",
     "shell.execute_reply": "2022-01-06T14:32:23.518487Z",
     "shell.execute_reply.started": "2022-01-06T10:02:58.722892Z"
    },
    "papermill": {
     "duration": 0.11677,
     "end_time": "2022-01-06T14:32:23.518714",
     "exception": false,
     "start_time": "2022-01-06T14:32:23.401944",
     "status": "completed"
    },
    "tags": []
   },
   "outputs": [
    {
     "name": "stdout",
     "output_type": "stream",
     "text": [
      "There are 1 GPU(s) available.\n",
      "Device name: Tesla P100-PCIE-16GB\n"
     ]
    }
   ],
   "source": [
    "if torch.cuda.is_available():       \n",
    "    device = torch.device(\"cuda\")\n",
    "    print(f'There are {torch.cuda.device_count()} GPU(s) available.')\n",
    "    print('Device name:', torch.cuda.get_device_name(0))\n",
    "\n",
    "else:\n",
    "    print('No GPU available, using the CPU instead.')\n",
    "    device = torch.device(\"cpu\")"
   ]
  },
  {
   "cell_type": "code",
   "execution_count": 10,
   "id": "410abb17",
   "metadata": {
    "execution": {
     "iopub.execute_input": "2022-01-06T14:32:23.627672Z",
     "iopub.status.busy": "2022-01-06T14:32:23.626599Z",
     "iopub.status.idle": "2022-01-06T14:32:29.445061Z",
     "shell.execute_reply": "2022-01-06T14:32:29.444398Z",
     "shell.execute_reply.started": "2022-01-06T10:03:02.716142Z"
    },
    "papermill": {
     "duration": 5.876426,
     "end_time": "2022-01-06T14:32:29.445256",
     "exception": false,
     "start_time": "2022-01-06T14:32:23.568830",
     "status": "completed"
    },
    "tags": []
   },
   "outputs": [
    {
     "data": {
      "application/vnd.jupyter.widget-view+json": {
       "model_id": "b19daca20a0b4bfaa6c2141c0a616aa6",
       "version_major": 2,
       "version_minor": 0
      },
      "text/plain": [
       "Downloading:   0%|          | 0.00/1.57M [00:00<?, ?B/s]"
      ]
     },
     "metadata": {},
     "output_type": "display_data"
    },
    {
     "data": {
      "application/vnd.jupyter.widget-view+json": {
       "model_id": "c1b008a6a442459294ae12f1b75d936b",
       "version_major": 2,
       "version_minor": 0
      },
      "text/plain": [
       "Downloading:   0%|          | 0.00/112 [00:00<?, ?B/s]"
      ]
     },
     "metadata": {},
     "output_type": "display_data"
    },
    {
     "data": {
      "application/vnd.jupyter.widget-view+json": {
       "model_id": "5743bfd4ef624ee2ac692e1bb85da306",
       "version_major": 2,
       "version_minor": 0
      },
      "text/plain": [
       "Downloading:   0%|          | 0.00/24.0 [00:00<?, ?B/s]"
      ]
     },
     "metadata": {},
     "output_type": "display_data"
    },
    {
     "data": {
      "application/vnd.jupyter.widget-view+json": {
       "model_id": "2a90fa1f393a4ab9940999e8730bf213",
       "version_major": 2,
       "version_minor": 0
      },
      "text/plain": [
       "Downloading:   0%|          | 0.00/642 [00:00<?, ?B/s]"
      ]
     },
     "metadata": {},
     "output_type": "display_data"
    }
   ],
   "source": [
    "tokenizer = BertTokenizer.from_pretrained('DeepPavlov/rubert-base-cased',do_lower_case=True)\n",
    "# Create a funcition to tokenize a set of text\n",
    "\n",
    "def tokenize_text(data):\n",
    "    \"\"\"Perform required preprocessing steps for pretrained BERT.\n",
    "    @param    data (np.array): Array of texts to be processed.\n",
    "    @return   input_ids (torch.Tensor): Tensor of token ids to be fed to a model.\n",
    "    @return   attention_masks (torch.Tensor): Tensor of indices specifying which\n",
    "                  tokens should be attended to by the model.\n",
    "    \"\"\"\n",
    "    # create empty lists to store outputs\n",
    "    input_ids = []\n",
    "    attention_masks = []\n",
    "    \n",
    "    #for every sentence...\n",
    "    \n",
    "    for sent in tqdm(data):\n",
    "        # 'encode_plus will':\n",
    "        # (1) Tokenize the sentence\n",
    "        # (2) Add the `[CLS]` and `[SEP]` token to the start and end\n",
    "        # (3) Truncate/Pad sentence to max length\n",
    "        # (4) Map tokens to their IDs\n",
    "        # (5) Create attention mask\n",
    "        # (6) Return a dictionary of outputs\n",
    "        encoded_sent = tokenizer.encode_plus(\n",
    "            sent,   #preprocess sentence\n",
    "            add_special_tokens = True,         #Add `[CLS]` and `[SEP]`\n",
    "            max_length= 512  ,             #Max length to truncate/pad\n",
    "            pad_to_max_length = True,          #pad sentence to max length \n",
    "            return_attention_mask= True        #Return attention mask \n",
    "        )\n",
    "        # Add the outputs to the lists\n",
    "        input_ids.append(encoded_sent.get('input_ids'))\n",
    "        attention_masks.append(encoded_sent.get('attention_mask'))\n",
    "        \n",
    "    #convert lists to tensors\n",
    "    input_ids = torch.tensor(input_ids)\n",
    "    attention_masks = torch.tensor(attention_masks)\n",
    "    \n",
    "    return input_ids,attention_masks"
   ]
  },
  {
   "cell_type": "code",
   "execution_count": 11,
   "id": "797a4de7",
   "metadata": {
    "execution": {
     "iopub.execute_input": "2022-01-06T14:32:29.557529Z",
     "iopub.status.busy": "2022-01-06T14:32:29.556089Z",
     "iopub.status.idle": "2022-01-06T14:34:33.245531Z",
     "shell.execute_reply": "2022-01-06T14:34:33.246356Z",
     "shell.execute_reply.started": "2022-01-06T10:03:06.260365Z"
    },
    "papermill": {
     "duration": 123.749468,
     "end_time": "2022-01-06T14:34:33.246705",
     "exception": false,
     "start_time": "2022-01-06T14:32:29.497237",
     "status": "completed"
    },
    "tags": []
   },
   "outputs": [
    {
     "name": "stderr",
     "output_type": "stream",
     "text": [
      "  0%|          | 0/45665 [00:00<?, ?it/s]Truncation was not explicitly activated but `max_length` is provided a specific value, please use `truncation=True` to explicitly truncate examples to max length. Defaulting to 'longest_first' truncation strategy. If you encode pairs of sequences (GLUE-style) with the tokenizer you can select this strategy more precisely by providing a specific strategy to `truncation`.\n",
      "/opt/conda/lib/python3.7/site-packages/transformers/tokenization_utils_base.py:2218: FutureWarning: The `pad_to_max_length` argument is deprecated and will be removed in a future version, use `padding=True` or `padding='longest'` to pad to the longest sequence in the batch, or use `padding='max_length'` to pad to a max length. In this case, you can give a specific length with `max_length` (e.g. `max_length=45`) or leave max_length to None to pad to the maximal input size of the model (e.g. 512 for Bert).\n",
      "  FutureWarning,\n",
      "100%|██████████| 45665/45665 [01:00<00:00, 760.68it/s]\n",
      "100%|██████████| 45665/45665 [00:41<00:00, 1104.45it/s]\n",
      "100%|██████████| 5074/5074 [00:06<00:00, 834.45it/s]\n",
      "100%|██████████| 5074/5074 [00:04<00:00, 1197.18it/s]\n"
     ]
    }
   ],
   "source": [
    "input_ids_pos, attention_masks_pos = tokenize_text(train_df.positive.values)\n",
    "input_ids_neg, attention_masks_neg = tokenize_text(train_df.negative.values)\n",
    "train_labels = train_df.Target_vector.tolist()\n",
    "\n",
    "val_input_ids_pos, val_attention_masks_pos = tokenize_text(val.positive.values)\n",
    "val_input_ids_neg, val_attention_masks_neg = tokenize_text(val.negative.values)\n",
    "val_labels = val.Target_vector.tolist()"
   ]
  },
  {
   "cell_type": "code",
   "execution_count": 12,
   "id": "3402a32b",
   "metadata": {
    "execution": {
     "iopub.execute_input": "2022-01-06T14:34:34.453900Z",
     "iopub.status.busy": "2022-01-06T14:34:34.452768Z",
     "iopub.status.idle": "2022-01-06T14:34:34.456034Z",
     "shell.execute_reply": "2022-01-06T14:34:34.455481Z",
     "shell.execute_reply.started": "2022-01-06T10:04:48.027254Z"
    },
    "papermill": {
     "duration": 0.54415,
     "end_time": "2022-01-06T14:34:34.456221",
     "exception": false,
     "start_time": "2022-01-06T14:34:33.912071",
     "status": "completed"
    },
    "tags": []
   },
   "outputs": [],
   "source": [
    "train_labels = torch.Tensor(train_labels)\n",
    "val_labels = torch.Tensor(val_labels)"
   ]
  },
  {
   "cell_type": "code",
   "execution_count": 13,
   "id": "5f1c2321",
   "metadata": {
    "execution": {
     "iopub.execute_input": "2022-01-06T14:34:35.272644Z",
     "iopub.status.busy": "2022-01-06T14:34:35.271642Z",
     "iopub.status.idle": "2022-01-06T14:34:35.274718Z",
     "shell.execute_reply": "2022-01-06T14:34:35.274233Z",
     "shell.execute_reply.started": "2022-01-06T10:04:48.069744Z"
    },
    "papermill": {
     "duration": 0.422374,
     "end_time": "2022-01-06T14:34:35.274876",
     "exception": false,
     "start_time": "2022-01-06T14:34:34.852502",
     "status": "completed"
    },
    "tags": []
   },
   "outputs": [],
   "source": [
    "batch_size = 8\n",
    "\n",
    "train_data = TensorDataset(input_ids_pos, attention_masks_pos, input_ids_neg, attention_masks_neg, train_labels)\n",
    "train_sampler = RandomSampler(train_data)\n",
    "train_dataloader = DataLoader(train_data, sampler=train_sampler, batch_size=batch_size)\n",
    "\n",
    "val_data = TensorDataset(val_input_ids_pos, val_attention_masks_pos, val_input_ids_neg, val_attention_masks_neg, val_labels)\n",
    "val_sampler = SequentialSampler(val_data)\n",
    "val_dataloader = DataLoader(val_data, sampler=val_sampler, batch_size=batch_size)"
   ]
  },
  {
   "cell_type": "code",
   "execution_count": 14,
   "id": "4ffc33e6",
   "metadata": {
    "execution": {
     "iopub.execute_input": "2022-01-06T14:34:36.154628Z",
     "iopub.status.busy": "2022-01-06T14:34:36.152531Z",
     "iopub.status.idle": "2022-01-06T14:34:36.161629Z",
     "shell.execute_reply": "2022-01-06T14:34:36.162505Z",
     "shell.execute_reply.started": "2022-01-06T10:04:48.078735Z"
    },
    "papermill": {
     "duration": 0.500881,
     "end_time": "2022-01-06T14:34:36.162829",
     "exception": false,
     "start_time": "2022-01-06T14:34:35.661948",
     "status": "completed"
    },
    "tags": []
   },
   "outputs": [],
   "source": [
    "\n",
    "class BertClassifier(nn.Module):\n",
    "    \"\"\"\n",
    "        Bert Model for classification Tasks.\n",
    "    \"\"\"\n",
    "    def __init__(self, freeze_bert=False):\n",
    "        \"\"\"\n",
    "        @param   bert: a BertModel object\n",
    "        @param   classifier: a torch.nn.Module classifier\n",
    "        @param   freeze_bert (bool): Set `False` to fine_tune the Bert model\n",
    "        \"\"\"\n",
    "        super(BertClassifier,self).__init__()\n",
    "        # Specify hidden size of Bert, hidden size of our classifier, and number of labels\n",
    "        D_in, H,D_out = 768,30,9\n",
    "        \n",
    "        self.bert = BertModel.from_pretrained('DeepPavlov/rubert-base-cased')\n",
    "        \n",
    "        self.classifier = nn.Sequential(\n",
    "            nn.Dropout(0.4),\n",
    "            nn.Linear(2*D_in, H),\n",
    "            nn.ReLU(),\n",
    "            nn.Linear(H, D_out))\n",
    "        \n",
    "        self.sigmoid = nn.Sigmoid()\n",
    "        # Freeze the Bert Model\n",
    "        if freeze_bert:\n",
    "            for param in self.bert.parameters():\n",
    "                param.requires_grad = False\n",
    "    \n",
    "    def forward(self,input_ids_pos,attention_mask_pos, input_ids_neg,attention_mask_neg):\n",
    "        \"\"\"\n",
    "        Feed input to BERT and the classifier to compute logits.\n",
    "        @param    input_ids (torch.Tensor): an input tensor with shape (batch_size,\n",
    "                      max_length)\n",
    "        @param    attention_mask (torch.Tensor): a tensor that hold attention mask\n",
    "                      information with shape (batch_size, max_length)\n",
    "        @return   logits (torch.Tensor): an output tensor with shape (batch_size,\n",
    "                      num_labels)\n",
    "        \"\"\"\n",
    "        outputs_pos = self.bert(input_ids=input_ids_pos,\n",
    "                           attention_mask = attention_mask_pos)\n",
    "        \n",
    "        \n",
    "        outputs_neg = self.bert(input_ids=input_ids_neg,\n",
    "                           attention_mask = attention_mask_neg)\n",
    "        \n",
    "        \n",
    "        \n",
    "        # Extract the last hidden state of the token `[CLS]` for classification task\n",
    "        last_hidden_state_cls_pos = outputs_pos[0][:,0,:]\n",
    "        last_hidden_state_cls_neg = outputs_neg[0][:,0,:]\n",
    "        \n",
    "        last_hidden_state_cls = torch.cat([last_hidden_state_cls_pos, last_hidden_state_cls_neg], dim=1)\n",
    "        \n",
    "        # Feed input to classifier to compute logits\n",
    "        logit = self.classifier(last_hidden_state_cls)\n",
    "        \n",
    "#         logits = self.sigmoid(logit)\n",
    "        \n",
    "        return logit"
   ]
  },
  {
   "cell_type": "code",
   "execution_count": 15,
   "id": "a0f170b7",
   "metadata": {
    "execution": {
     "iopub.execute_input": "2022-01-06T14:34:37.176941Z",
     "iopub.status.busy": "2022-01-06T14:34:37.176049Z",
     "iopub.status.idle": "2022-01-06T14:34:37.179620Z",
     "shell.execute_reply": "2022-01-06T14:34:37.180144Z",
     "shell.execute_reply.started": "2022-01-06T10:04:48.093951Z"
    },
    "papermill": {
     "duration": 0.406286,
     "end_time": "2022-01-06T14:34:37.180372",
     "exception": false,
     "start_time": "2022-01-06T14:34:36.774086",
     "status": "completed"
    },
    "tags": []
   },
   "outputs": [],
   "source": [
    "def initialize_model(epochs=4):\n",
    "    \"\"\"Initialize the Bert Classifier, the optimizer and the learning rate scheduler.\n",
    "    \"\"\"\n",
    "    \n",
    "    # Instantiate Bert Classifier\n",
    "    bert_classifier = BertClassifier(freeze_bert=False)\n",
    "    \n",
    "    bert_classifier.to(device)\n",
    "    \n",
    "    # Create the optimizer\n",
    "    optimizer = AdamW(bert_classifier.parameters(),\n",
    "                     lr=5e-5, #Default learning rate\n",
    "                     eps=1e-8 #Default epsilon value\n",
    "                     )\n",
    "    \n",
    "    # Total number of training steps\n",
    "    total_steps = len(train_dataloader) * epochs\n",
    "    \n",
    "    # Set up the learning rate scheduler\n",
    "    scheduler = get_linear_schedule_with_warmup(optimizer, \n",
    "                                              num_warmup_steps=0, # Default value\n",
    "                                              num_training_steps=total_steps)\n",
    "    return bert_classifier, optimizer, scheduler"
   ]
  },
  {
   "cell_type": "code",
   "execution_count": 16,
   "id": "ef4e4738",
   "metadata": {
    "execution": {
     "iopub.execute_input": "2022-01-06T14:34:37.974723Z",
     "iopub.status.busy": "2022-01-06T14:34:37.973536Z",
     "iopub.status.idle": "2022-01-06T14:34:37.991268Z",
     "shell.execute_reply": "2022-01-06T14:34:37.990582Z",
     "shell.execute_reply.started": "2022-01-06T10:04:48.106209Z"
    },
    "papermill": {
     "duration": 0.418324,
     "end_time": "2022-01-06T14:34:37.991421",
     "exception": false,
     "start_time": "2022-01-06T14:34:37.573097",
     "status": "completed"
    },
    "tags": []
   },
   "outputs": [],
   "source": [
    "loss_fn = nn.BCEWithLogitsLoss()\n",
    "\n",
    "def set_seed(seed_value=42):\n",
    "    \"\"\"Set seed for reproducibility.\n",
    "    \"\"\"\n",
    "    random.seed(seed_value)\n",
    "    np.random.seed(seed_value)\n",
    "    torch.manual_seed(seed_value)\n",
    "    torch.cuda.manual_seed_all(seed_value)\n",
    "\n",
    "def train(model, train_dataloader, val_dataloader=None, epochs=4, evaluation=False):\n",
    "    \"\"\"Train the BertClassifier model.\n",
    "    \"\"\"\n",
    "    # Start training loop\n",
    "    print(\"Start training...\\n\")\n",
    "    for epoch_i in range(epochs):\n",
    "        # =======================================\n",
    "        #               Training\n",
    "        # =======================================\n",
    "        # Print the header of the result table\n",
    "        print(f\"{'Epoch':^7} | {'Batch':^7} | {'Train Loss':^12} | {'Val Loss':^10} | {'Val Acc':^9} | {'Elapsed':^9}\")\n",
    "        print(\"-\"*70)\n",
    "\n",
    "        # Measure the elapsed time of each epoch\n",
    "        t0_epoch, t0_batch = time.time(), time.time()\n",
    "\n",
    "        # Reset tracking variables at the beginning of each epoch\n",
    "        total_loss, batch_loss, batch_counts = 0, 0, 0\n",
    "\n",
    "        # Put the model into the training mode\n",
    "        model.train()\n",
    "\n",
    "        # For each batch of training data...\n",
    "        for step, batch in enumerate(train_dataloader):\n",
    "            batch_counts +=1\n",
    "            # Load batch to GPU\n",
    "            b_input_ids_pos, b_attn_mask_pos, b_input_ids_neg, b_attn_mask_neg, b_labels = tuple(t.to(device) for t in batch)\n",
    "\n",
    "            # Zero out any previously calculated gradients\n",
    "            model.zero_grad()\n",
    "\n",
    "            # Perform a forward pass. This will return logits.\n",
    "            logits = model(b_input_ids_pos, b_attn_mask_pos, b_input_ids_neg, b_attn_mask_neg)\n",
    "\n",
    "            # Compute loss and accumulate the loss values\n",
    "            loss = loss_fn(logits, b_labels.float())\n",
    "            batch_loss += loss.item()\n",
    "            total_loss += loss.item()\n",
    "\n",
    "            # Perform a backward pass to calculate gradients\n",
    "            loss.backward()\n",
    "\n",
    "            # Clip the norm of the gradients to 1.0 to prevent \"exploding gradients\"\n",
    "            torch.nn.utils.clip_grad_norm_(model.parameters(), 1.0)\n",
    "\n",
    "            # Update parameters and the learning rate\n",
    "            optimizer.step()\n",
    "            scheduler.step()\n",
    "\n",
    "            # Print the loss values and time elapsed for every 20--50000 batches\n",
    "            if (step % 1000 == 0 and step != 0) or (step == len(train_dataloader) - 1):\n",
    "                # Calculate time elapsed for 20 batches\n",
    "                time_elapsed = time.time() - t0_batch\n",
    "\n",
    "                # Print training results\n",
    "                print(f\"{epoch_i + 1:^7} | {step:^7} | {batch_loss / batch_counts:^12.6f} | {'-':^10} | {'-':^9} | {time_elapsed:^9.2f}\")\n",
    "\n",
    "                # Reset batch tracking variables\n",
    "                batch_loss, batch_counts = 0, 0\n",
    "                t0_batch = time.time()\n",
    "\n",
    "        # Calculate the average loss over the entire training data\n",
    "        avg_train_loss = total_loss / len(train_dataloader)\n",
    "\n",
    "        print(\"-\"*70)\n",
    "        # =======================================\n",
    "        #               Evaluation\n",
    "        # =======================================\n",
    "        if evaluation == True:\n",
    "            # After the completion of each training epoch, measure the model's performance\n",
    "            # on our validation set.\n",
    "            val_loss, val_accuracy = evaluate(model, val_dataloader)\n",
    "\n",
    "            # Print performance over the entire training data\n",
    "            time_elapsed = time.time() - t0_epoch\n",
    "            \n",
    "            print(f\"{epoch_i + 1:^7} | {'-':^7} | {avg_train_loss:^12.6f} | {val_loss:^10.6f} | {val_accuracy:^9.2f} | {time_elapsed:^9.2f}\")\n",
    "            print(\"-\"*70)\n",
    "        print(\"\\n\")\n",
    "    \n",
    "    print(\"Training complete!\")\n",
    "\n",
    "\n",
    "def evaluate(model, val_dataloader):\n",
    "    \"\"\"After the completion of each training epoch, measure the model's performance\n",
    "    on our validation set.\n",
    "    \"\"\"\n",
    "    # Put the model into the evaluation mode. The dropout layers are disabled during\n",
    "    # the test time.\n",
    "    model.eval()\n",
    "\n",
    "    # Tracking variables\n",
    "    val_accuracy = []\n",
    "    val_loss = []\n",
    "\n",
    "    # For each batch in our validation set...\n",
    "    for batch in val_dataloader:\n",
    "        # Load batch to GPU\n",
    "        b_input_ids_pos, b_attn_mask_pos, b_input_ids_neg, b_attn_mask_neg, b_labels = tuple(t.to(device) for t in batch)\n",
    "\n",
    "        # Compute logits\n",
    "        with torch.no_grad():\n",
    "            logits = model(b_input_ids_pos, b_attn_mask_pos, b_input_ids_neg, b_attn_mask_neg)\n",
    "\n",
    "        # Compute loss\n",
    "        loss = loss_fn(logits, b_labels.float())\n",
    "        val_loss.append(loss.item())\n",
    "\n",
    "        # Get the predictions\n",
    "        #preds = torch.argmax(logits, dim=1).flatten()\n",
    "        \n",
    "        # Calculate the accuracy rate\n",
    "        #accuracy = (preds == b_labels).cpu().numpy().mean() * 100\n",
    "        accuracy = accuracy_thresh(logits.view(-1,9),b_labels.view(-1,9))\n",
    "        \n",
    "        val_accuracy.append(accuracy)\n",
    "\n",
    "    # Compute the average accuracy and loss over the validation set.\n",
    "    val_loss = np.mean(val_loss)\n",
    "    val_accuracy = np.mean(val_accuracy)\n",
    "\n",
    "    return val_loss, val_accuracy\n",
    "\n",
    "def accuracy_thresh(y_pred, y_true, thresh:float=0.5, sigmoid:bool=True):\n",
    "    \"Compute accuracy when `y_pred` and `y_true` are the same size.\"\n",
    "    if sigmoid: \n",
    "        y_pred = y_pred.sigmoid()\n",
    "    return ((y_pred>thresh)==y_true.byte()).float().mean().item()\n",
    "    #return np.mean(((y_pred>thresh).float()==y_true.float()).float().cpu().numpy(), axis=1).sum()"
   ]
  },
  {
   "cell_type": "code",
   "execution_count": 17,
   "id": "8c2a918e",
   "metadata": {
    "execution": {
     "iopub.execute_input": "2022-01-06T14:34:38.766519Z",
     "iopub.status.busy": "2022-01-06T14:34:38.765442Z",
     "iopub.status.idle": "2022-01-06T17:33:48.823950Z",
     "shell.execute_reply": "2022-01-06T17:33:48.824580Z",
     "shell.execute_reply.started": "2022-01-06T10:04:48.140748Z"
    },
    "papermill": {
     "duration": 10750.444385,
     "end_time": "2022-01-06T17:33:48.824791",
     "exception": false,
     "start_time": "2022-01-06T14:34:38.380406",
     "status": "completed"
    },
    "tags": []
   },
   "outputs": [
    {
     "data": {
      "application/vnd.jupyter.widget-view+json": {
       "model_id": "8c10d81430444adb80bf3dd713cff71f",
       "version_major": 2,
       "version_minor": 0
      },
      "text/plain": [
       "Downloading:   0%|          | 0.00/681M [00:00<?, ?B/s]"
      ]
     },
     "metadata": {},
     "output_type": "display_data"
    },
    {
     "name": "stderr",
     "output_type": "stream",
     "text": [
      "Some weights of the model checkpoint at DeepPavlov/rubert-base-cased were not used when initializing BertModel: ['cls.predictions.bias', 'cls.seq_relationship.bias', 'cls.predictions.decoder.bias', 'cls.predictions.transform.dense.weight', 'cls.predictions.transform.LayerNorm.weight', 'cls.predictions.transform.LayerNorm.bias', 'cls.predictions.transform.dense.bias', 'cls.predictions.decoder.weight', 'cls.seq_relationship.weight']\n",
      "- This IS expected if you are initializing BertModel from the checkpoint of a model trained on another task or with another architecture (e.g. initializing a BertForSequenceClassification model from a BertForPreTraining model).\n",
      "- This IS NOT expected if you are initializing BertModel from the checkpoint of a model that you expect to be exactly identical (initializing a BertForSequenceClassification model from a BertForSequenceClassification model).\n"
     ]
    },
    {
     "name": "stdout",
     "output_type": "stream",
     "text": [
      "Start training...\n",
      "\n",
      " Epoch  |  Batch  |  Train Loss  |  Val Loss  |  Val Acc  |  Elapsed \n",
      "----------------------------------------------------------------------\n",
      "   1    |  1000   |   0.160639   |     -      |     -     |  907.57  \n",
      "   1    |  2000   |   0.128089   |     -      |     -     |  906.05  \n",
      "   1    |  3000   |   0.124757   |     -      |     -     |  905.58  \n",
      "   1    |  4000   |   0.118943   |     -      |     -     |  907.46  \n",
      "   1    |  5000   |   0.118168   |     -      |     -     |  905.85  \n",
      "   1    |  5708   |   0.111309   |     -      |     -     |  639.69  \n",
      "----------------------------------------------------------------------\n",
      "   1    |    -    |   0.127792   |  0.120268  |   0.96    |  5359.57 \n",
      "----------------------------------------------------------------------\n",
      "\n",
      "\n",
      " Epoch  |  Batch  |  Train Loss  |  Val Loss  |  Val Acc  |  Elapsed \n",
      "----------------------------------------------------------------------\n",
      "   2    |  1000   |   0.099761   |     -      |     -     |  906.73  \n",
      "   2    |  2000   |   0.104285   |     -      |     -     |  905.50  \n",
      "   2    |  3000   |   0.100644   |     -      |     -     |  905.83  \n",
      "   2    |  4000   |   0.095872   |     -      |     -     |  904.57  \n",
      "   2    |  5000   |   0.094312   |     -      |     -     |  905.58  \n",
      "   2    |  5708   |   0.094259   |     -      |     -     |  641.49  \n",
      "----------------------------------------------------------------------\n",
      "   2    |    -    |   0.098390   |  0.114688  |   0.96    |  5357.12 \n",
      "----------------------------------------------------------------------\n",
      "\n",
      "\n",
      "Training complete!\n"
     ]
    }
   ],
   "source": [
    "bert_classifier, optimizer, scheduler = initialize_model(epochs=2)\n",
    "set_seed(42)\n",
    "train(bert_classifier, train_dataloader, val_dataloader, epochs=2, evaluation=True)"
   ]
  },
  {
   "cell_type": "code",
   "execution_count": 18,
   "id": "747cf4f6",
   "metadata": {
    "execution": {
     "iopub.execute_input": "2022-01-06T17:33:49.670560Z",
     "iopub.status.busy": "2022-01-06T17:33:49.669735Z",
     "iopub.status.idle": "2022-01-06T17:33:50.580085Z",
     "shell.execute_reply": "2022-01-06T17:33:50.580641Z",
     "shell.execute_reply.started": "2022-01-06T13:01:01.892937Z"
    },
    "papermill": {
     "duration": 1.332382,
     "end_time": "2022-01-06T17:33:50.580849",
     "exception": false,
     "start_time": "2022-01-06T17:33:49.248467",
     "status": "completed"
    },
    "tags": []
   },
   "outputs": [],
   "source": [
    "test = pd.read_csv('/kaggle/input/headhunter-employer-review-competition/HeadHunter_test.csv')"
   ]
  },
  {
   "cell_type": "code",
   "execution_count": 19,
   "id": "b46a97eb",
   "metadata": {
    "execution": {
     "iopub.execute_input": "2022-01-06T17:33:51.473521Z",
     "iopub.status.busy": "2022-01-06T17:33:51.472646Z",
     "iopub.status.idle": "2022-01-06T17:33:51.478579Z",
     "shell.execute_reply": "2022-01-06T17:33:51.477973Z",
     "shell.execute_reply.started": "2022-01-06T13:01:13.094604Z"
    },
    "papermill": {
     "duration": 0.481664,
     "end_time": "2022-01-06T17:33:51.478734",
     "exception": false,
     "start_time": "2022-01-06T17:33:50.997070",
     "status": "completed"
    },
    "tags": []
   },
   "outputs": [],
   "source": [
    "nan = test[test.positive.isna()].positive.values[0]"
   ]
  },
  {
   "cell_type": "code",
   "execution_count": 20,
   "id": "52d3192f",
   "metadata": {
    "execution": {
     "iopub.execute_input": "2022-01-06T17:33:52.592255Z",
     "iopub.status.busy": "2022-01-06T17:33:52.583923Z",
     "iopub.status.idle": "2022-01-06T17:33:52.629761Z",
     "shell.execute_reply": "2022-01-06T17:33:52.630344Z",
     "shell.execute_reply.started": "2022-01-06T13:01:14.511112Z"
    },
    "papermill": {
     "duration": 0.686277,
     "end_time": "2022-01-06T17:33:52.630538",
     "exception": false,
     "start_time": "2022-01-06T17:33:51.944261",
     "status": "completed"
    },
    "tags": []
   },
   "outputs": [],
   "source": [
    "test = test.replace(to_replace=nan, value='')"
   ]
  },
  {
   "cell_type": "code",
   "execution_count": 21,
   "id": "f51d534e",
   "metadata": {
    "execution": {
     "iopub.execute_input": "2022-01-06T17:33:53.522430Z",
     "iopub.status.busy": "2022-01-06T17:33:53.521325Z",
     "iopub.status.idle": "2022-01-06T17:35:48.660978Z",
     "shell.execute_reply": "2022-01-06T17:35:48.661568Z",
     "shell.execute_reply.started": "2022-01-06T13:01:16.022738Z"
    },
    "papermill": {
     "duration": 115.603947,
     "end_time": "2022-01-06T17:35:48.661783",
     "exception": false,
     "start_time": "2022-01-06T17:33:53.057836",
     "status": "completed"
    },
    "tags": []
   },
   "outputs": [
    {
     "name": "stderr",
     "output_type": "stream",
     "text": [
      "100%|██████████| 50651/50651 [00:53<00:00, 948.99it/s]\n",
      "100%|██████████| 50651/50651 [00:49<00:00, 1023.43it/s]\n"
     ]
    }
   ],
   "source": [
    "input_ids_pos_test, attention_masks_pos_test = tokenize_text(test.positive.values)\n",
    "input_ids_neg_test, attention_masks_neg_test = tokenize_text(test.negative.values)\n",
    "# test_labels = test.Target_vector.tolist()\n"
   ]
  },
  {
   "cell_type": "code",
   "execution_count": 22,
   "id": "55c1ad3f",
   "metadata": {
    "execution": {
     "iopub.execute_input": "2022-01-06T17:35:50.136375Z",
     "iopub.status.busy": "2022-01-06T17:35:50.135129Z",
     "iopub.status.idle": "2022-01-06T17:35:50.137701Z",
     "shell.execute_reply": "2022-01-06T17:35:50.138394Z",
     "shell.execute_reply.started": "2022-01-06T13:02:45.169998Z"
    },
    "papermill": {
     "duration": 0.743061,
     "end_time": "2022-01-06T17:35:50.138588",
     "exception": false,
     "start_time": "2022-01-06T17:35:49.395527",
     "status": "completed"
    },
    "tags": []
   },
   "outputs": [],
   "source": [
    "test_data = TensorDataset(input_ids_pos_test, attention_masks_pos_test, input_ids_neg_test, attention_masks_neg_test)\n",
    "test_sampler = SequentialSampler(test_data)\n",
    "test_dataloader = DataLoader(test_data, sampler=test_sampler, batch_size=batch_size)"
   ]
  },
  {
   "cell_type": "code",
   "execution_count": 23,
   "id": "15ce73aa",
   "metadata": {
    "execution": {
     "iopub.execute_input": "2022-01-06T17:35:51.627725Z",
     "iopub.status.busy": "2022-01-06T17:35:51.626656Z",
     "iopub.status.idle": "2022-01-06T17:35:58.189467Z",
     "shell.execute_reply": "2022-01-06T17:35:58.190289Z",
     "shell.execute_reply.started": "2022-01-06T13:02:45.177176Z"
    },
    "papermill": {
     "duration": 7.310929,
     "end_time": "2022-01-06T17:35:58.190555",
     "exception": false,
     "start_time": "2022-01-06T17:35:50.879626",
     "status": "completed"
    },
    "tags": []
   },
   "outputs": [],
   "source": [
    "checkpoint = {'model': bert_classifier,\n",
    "          'state_dict': bert_classifier.state_dict(),\n",
    "          'optimizer' : optimizer.state_dict()}\n",
    "\n",
    "torch.save(checkpoint, 'checkpoint.pth')"
   ]
  },
  {
   "cell_type": "code",
   "execution_count": 24,
   "id": "deca9ec3",
   "metadata": {
    "execution": {
     "iopub.execute_input": "2022-01-06T17:35:59.708710Z",
     "iopub.status.busy": "2022-01-06T17:35:59.707654Z",
     "iopub.status.idle": "2022-01-06T17:36:01.111392Z",
     "shell.execute_reply": "2022-01-06T17:36:01.110765Z"
    },
    "papermill": {
     "duration": 2.160351,
     "end_time": "2022-01-06T17:36:01.111555",
     "exception": false,
     "start_time": "2022-01-06T17:35:58.951204",
     "status": "completed"
    },
    "tags": []
   },
   "outputs": [],
   "source": [
    "def load_checkpoint(filepath):\n",
    "    checkpoint = torch.load(filepath)\n",
    "    model = checkpoint['model']\n",
    "    model.load_state_dict(checkpoint['state_dict'])\n",
    "    for parameter in model.parameters():\n",
    "        parameter.requires_grad = False\n",
    "\n",
    "    model.eval()\n",
    "    return model\n",
    "\n",
    "model = load_checkpoint('checkpoint.pth')"
   ]
  },
  {
   "cell_type": "code",
   "execution_count": 25,
   "id": "83543aa6",
   "metadata": {
    "execution": {
     "iopub.execute_input": "2022-01-06T17:36:11.660718Z",
     "iopub.status.busy": "2022-01-06T17:36:11.659875Z",
     "iopub.status.idle": "2022-01-06T17:36:11.664385Z",
     "shell.execute_reply": "2022-01-06T17:36:11.663718Z",
     "shell.execute_reply.started": "2022-01-06T13:02:50.598963Z"
    },
    "papermill": {
     "duration": 9.814759,
     "end_time": "2022-01-06T17:36:11.664537",
     "exception": false,
     "start_time": "2022-01-06T17:36:01.849778",
     "status": "completed"
    },
    "tags": []
   },
   "outputs": [],
   "source": [
    "def bert_predict(model, test_dataloader):\n",
    "    \"\"\"Perform a forward pass on the trained BERT model to predict probabilities\n",
    "    on the test set.\n",
    "    \"\"\"\n",
    "    # Put the model into the evaluation mode. The dropout layers are disabled during\n",
    "    # the test time.\n",
    "    model.eval()\n",
    "\n",
    "    all_logits = []\n",
    "\n",
    "    # For each batch in our test set...\n",
    "    for step, batch in enumerate(test_dataloader):\n",
    "        print(step, end='\\r')\n",
    "        # Load batch to GPU\n",
    "        b_input_ids_pos, b_attn_mask_pos, b_input_ids_neg, b_attn_mask_neg = tuple(t.to(device) for t in batch)\n",
    "\n",
    "        # Compute logits\n",
    "        with torch.no_grad():\n",
    "            logits = model(b_input_ids_pos, b_attn_mask_pos, b_input_ids_neg, b_attn_mask_neg)\n",
    "        all_logits.append(logits)\n",
    "    \n",
    "    # Concatenate logits from each batch\n",
    "    all_logits = torch.cat(all_logits, dim=0)\n",
    "\n",
    "    # Apply softmax to calculate probabilities\n",
    "    #probs = F.softmax(all_logits, dim=1).cpu().numpy()\n",
    "    probs = all_logits.sigmoid().cpu().numpy()\n",
    "    \n",
    "\n",
    "    return probs"
   ]
  },
  {
   "cell_type": "code",
   "execution_count": 26,
   "id": "d085e121",
   "metadata": {
    "execution": {
     "iopub.execute_input": "2022-01-06T17:36:13.839187Z",
     "iopub.status.busy": "2022-01-06T17:36:13.838133Z",
     "iopub.status.idle": "2022-01-06T18:07:20.375771Z",
     "shell.execute_reply": "2022-01-06T18:07:20.368080Z",
     "shell.execute_reply.started": "2022-01-06T13:02:50.608994Z"
    },
    "papermill": {
     "duration": 1867.752713,
     "end_time": "2022-01-06T18:07:20.375934",
     "exception": false,
     "start_time": "2022-01-06T17:36:12.623221",
     "status": "completed"
    },
    "tags": []
   },
   "outputs": [
    {
     "name": "stdout",
     "output_type": "stream",
     "text": [
      "6331\r"
     ]
    }
   ],
   "source": [
    "probs = bert_predict(bert_classifier, test_dataloader)"
   ]
  },
  {
   "cell_type": "code",
   "execution_count": 27,
   "id": "9070764b",
   "metadata": {
    "execution": {
     "iopub.execute_input": "2022-01-06T18:07:26.659235Z",
     "iopub.status.busy": "2022-01-06T18:07:26.643600Z",
     "iopub.status.idle": "2022-01-06T18:07:26.754691Z",
     "shell.execute_reply": "2022-01-06T18:07:26.753840Z",
     "shell.execute_reply.started": "2022-01-06T13:33:55.451730Z"
    },
    "papermill": {
     "duration": 3.48562,
     "end_time": "2022-01-06T18:07:26.754929",
     "exception": false,
     "start_time": "2022-01-06T18:07:23.269309",
     "status": "completed"
    },
    "tags": []
   },
   "outputs": [],
   "source": [
    "probs_list = [list(x) for x in probs]"
   ]
  },
  {
   "cell_type": "code",
   "execution_count": 28,
   "id": "afa77a2e",
   "metadata": {
    "execution": {
     "iopub.execute_input": "2022-01-06T18:07:32.417483Z",
     "iopub.status.busy": "2022-01-06T18:07:32.416446Z",
     "iopub.status.idle": "2022-01-06T18:07:32.465613Z",
     "shell.execute_reply": "2022-01-06T18:07:32.464997Z",
     "shell.execute_reply.started": "2022-01-06T13:33:55.770468Z"
    },
    "papermill": {
     "duration": 2.87603,
     "end_time": "2022-01-06T18:07:32.465799",
     "exception": false,
     "start_time": "2022-01-06T18:07:29.589769",
     "status": "completed"
    },
    "tags": []
   },
   "outputs": [],
   "source": [
    "test['Logits'] = probs_list"
   ]
  },
  {
   "cell_type": "code",
   "execution_count": 29,
   "id": "726d2d07",
   "metadata": {
    "execution": {
     "iopub.execute_input": "2022-01-06T18:07:39.334972Z",
     "iopub.status.busy": "2022-01-06T18:07:39.333943Z",
     "iopub.status.idle": "2022-01-06T18:07:40.859913Z",
     "shell.execute_reply": "2022-01-06T18:07:40.859345Z",
     "shell.execute_reply.started": "2022-01-06T13:33:55.814926Z"
    },
    "papermill": {
     "duration": 5.264835,
     "end_time": "2022-01-06T18:07:40.860102",
     "exception": false,
     "start_time": "2022-01-06T18:07:35.595267",
     "status": "completed"
    },
    "tags": []
   },
   "outputs": [],
   "source": [
    "test['Target_vector'] = test.Logits.apply(lambda x: [1 if el > 0.5 else 0 for el in x])"
   ]
  },
  {
   "cell_type": "code",
   "execution_count": 30,
   "id": "b67ba721",
   "metadata": {
    "execution": {
     "iopub.execute_input": "2022-01-06T18:07:46.728480Z",
     "iopub.status.busy": "2022-01-06T18:07:46.718409Z",
     "iopub.status.idle": "2022-01-06T18:07:47.007027Z",
     "shell.execute_reply": "2022-01-06T18:07:47.005784Z",
     "shell.execute_reply.started": "2022-01-06T13:33:56.922175Z"
    },
    "papermill": {
     "duration": 3.237419,
     "end_time": "2022-01-06T18:07:47.007250",
     "exception": false,
     "start_time": "2022-01-06T18:07:43.769831",
     "status": "completed"
    },
    "tags": []
   },
   "outputs": [],
   "source": [
    "test.Target_vector = test.Target_vector.apply(lambda x: np.array(x))"
   ]
  },
  {
   "cell_type": "code",
   "execution_count": 31,
   "id": "a6ca6045",
   "metadata": {
    "execution": {
     "iopub.execute_input": "2022-01-06T18:07:53.554418Z",
     "iopub.status.busy": "2022-01-06T18:07:53.544408Z",
     "iopub.status.idle": "2022-01-06T18:07:53.766848Z",
     "shell.execute_reply": "2022-01-06T18:07:53.766147Z",
     "shell.execute_reply.started": "2022-01-06T13:33:57.114821Z"
    },
    "papermill": {
     "duration": 3.219574,
     "end_time": "2022-01-06T18:07:53.767006",
     "exception": false,
     "start_time": "2022-01-06T18:07:50.547432",
     "status": "completed"
    },
    "tags": []
   },
   "outputs": [],
   "source": [
    "test['target'] = test.Target_vector.apply(lambda x: ','.join([str(el) for el in x.nonzero()[0]]))"
   ]
  },
  {
   "cell_type": "code",
   "execution_count": 32,
   "id": "73103009",
   "metadata": {
    "execution": {
     "iopub.execute_input": "2022-01-06T18:07:59.906380Z",
     "iopub.status.busy": "2022-01-06T18:07:59.904997Z",
     "iopub.status.idle": "2022-01-06T18:08:01.555953Z",
     "shell.execute_reply": "2022-01-06T18:08:01.555352Z",
     "shell.execute_reply.started": "2022-01-06T13:34:59.699378Z"
    },
    "papermill": {
     "duration": 4.880841,
     "end_time": "2022-01-06T18:08:01.556103",
     "exception": false,
     "start_time": "2022-01-06T18:07:56.675262",
     "status": "completed"
    },
    "tags": []
   },
   "outputs": [],
   "source": [
    "test.target = test.apply(lambda row: ','.join(str(np.argmax(row.Logits))) if row.target =='' else row.target, axis=1)"
   ]
  },
  {
   "cell_type": "code",
   "execution_count": 33,
   "id": "0435c2d9",
   "metadata": {
    "execution": {
     "iopub.execute_input": "2022-01-06T18:08:07.340660Z",
     "iopub.status.busy": "2022-01-06T18:08:07.339773Z",
     "iopub.status.idle": "2022-01-06T18:08:07.372726Z",
     "shell.execute_reply": "2022-01-06T18:08:07.373289Z"
    },
    "papermill": {
     "duration": 2.934564,
     "end_time": "2022-01-06T18:08:07.373486",
     "exception": false,
     "start_time": "2022-01-06T18:08:04.438922",
     "status": "completed"
    },
    "tags": []
   },
   "outputs": [],
   "source": [
    "submit_sample = pd.read_csv('/kaggle/input/headhunter-employer-review-competition/HeadHunter_sample_submit.csv')"
   ]
  },
  {
   "cell_type": "code",
   "execution_count": 34,
   "id": "7d9f1e9b",
   "metadata": {
    "execution": {
     "iopub.execute_input": "2022-01-06T18:08:14.240039Z",
     "iopub.status.busy": "2022-01-06T18:08:14.239077Z",
     "iopub.status.idle": "2022-01-06T18:08:14.347890Z",
     "shell.execute_reply": "2022-01-06T18:08:14.347088Z",
     "shell.execute_reply.started": "2022-01-06T13:35:30.193735Z"
    },
    "papermill": {
     "duration": 3.73235,
     "end_time": "2022-01-06T18:08:14.348050",
     "exception": false,
     "start_time": "2022-01-06T18:08:10.615700",
     "status": "completed"
    },
    "tags": []
   },
   "outputs": [],
   "source": [
    "test[['review_id','target']].to_csv('submit.csv', index=False)"
   ]
  },
  {
   "cell_type": "code",
   "execution_count": 35,
   "id": "0e875de7",
   "metadata": {
    "execution": {
     "iopub.execute_input": "2022-01-06T18:08:20.188855Z",
     "iopub.status.busy": "2022-01-06T18:08:20.187800Z",
     "iopub.status.idle": "2022-01-06T18:08:20.354434Z",
     "shell.execute_reply": "2022-01-06T18:08:20.355754Z",
     "shell.execute_reply.started": "2022-01-05T21:25:02.735953Z"
    },
    "papermill": {
     "duration": 3.141922,
     "end_time": "2022-01-06T18:08:20.356138",
     "exception": false,
     "start_time": "2022-01-06T18:08:17.214216",
     "status": "completed"
    },
    "tags": []
   },
   "outputs": [],
   "source": [
    "submit_sample.to_csv('sub.csv', index=False)"
   ]
  },
  {
   "cell_type": "code",
   "execution_count": 36,
   "id": "263b5eb5",
   "metadata": {
    "execution": {
     "iopub.execute_input": "2022-01-06T18:08:26.402008Z",
     "iopub.status.busy": "2022-01-06T18:08:26.400118Z",
     "iopub.status.idle": "2022-01-06T18:08:26.403314Z",
     "shell.execute_reply": "2022-01-06T18:08:26.402699Z",
     "shell.execute_reply.started": "2022-01-05T21:30:11.759698Z"
    },
    "papermill": {
     "duration": 2.951614,
     "end_time": "2022-01-06T18:08:26.403470",
     "exception": false,
     "start_time": "2022-01-06T18:08:23.451856",
     "status": "completed"
    },
    "tags": []
   },
   "outputs": [],
   "source": [
    "submit = test[['review_id','target']]"
   ]
  },
  {
   "cell_type": "code",
   "execution_count": 37,
   "id": "a8246d85",
   "metadata": {
    "execution": {
     "iopub.execute_input": "2022-01-06T18:08:32.494163Z",
     "iopub.status.busy": "2022-01-06T18:08:32.492946Z",
     "iopub.status.idle": "2022-01-06T18:08:32.501719Z",
     "shell.execute_reply": "2022-01-06T18:08:32.501026Z",
     "shell.execute_reply.started": "2022-01-05T21:42:51.349136Z"
    },
    "papermill": {
     "duration": 3.215863,
     "end_time": "2022-01-06T18:08:32.501874",
     "exception": false,
     "start_time": "2022-01-06T18:08:29.286011",
     "status": "completed"
    },
    "tags": []
   },
   "outputs": [],
   "source": [
    "test_c = test.copy()"
   ]
  },
  {
   "cell_type": "code",
   "execution_count": 38,
   "id": "863b0793",
   "metadata": {
    "execution": {
     "iopub.execute_input": "2022-01-06T18:08:38.352977Z",
     "iopub.status.busy": "2022-01-06T18:08:38.352293Z",
     "iopub.status.idle": "2022-01-06T18:08:38.454257Z",
     "shell.execute_reply": "2022-01-06T18:08:38.453220Z",
     "shell.execute_reply.started": "2022-01-05T21:43:47.403168Z"
    },
    "papermill": {
     "duration": 3.055086,
     "end_time": "2022-01-06T18:08:38.454412",
     "exception": false,
     "start_time": "2022-01-06T18:08:35.399326",
     "status": "completed"
    },
    "tags": []
   },
   "outputs": [],
   "source": [
    "test_c[['review_id','target']].to_csv('submit.csv', index=False)"
   ]
  },
  {
   "cell_type": "code",
   "execution_count": 39,
   "id": "c639feba",
   "metadata": {
    "execution": {
     "iopub.execute_input": "2022-01-06T18:08:44.824291Z",
     "iopub.status.busy": "2022-01-06T18:08:44.823180Z",
     "iopub.status.idle": "2022-01-06T18:08:44.851330Z",
     "shell.execute_reply": "2022-01-06T18:08:44.852161Z",
     "shell.execute_reply.started": "2022-01-05T21:42:44.329512Z"
    },
    "papermill": {
     "duration": 3.446791,
     "end_time": "2022-01-06T18:08:44.852429",
     "exception": false,
     "start_time": "2022-01-06T18:08:41.405638",
     "status": "completed"
    },
    "tags": []
   },
   "outputs": [
    {
     "data": {
      "text/html": [
       "<div>\n",
       "<style scoped>\n",
       "    .dataframe tbody tr th:only-of-type {\n",
       "        vertical-align: middle;\n",
       "    }\n",
       "\n",
       "    .dataframe tbody tr th {\n",
       "        vertical-align: top;\n",
       "    }\n",
       "\n",
       "    .dataframe thead th {\n",
       "        text-align: right;\n",
       "    }\n",
       "</style>\n",
       "<table border=\"1\" class=\"dataframe\">\n",
       "  <thead>\n",
       "    <tr style=\"text-align: right;\">\n",
       "      <th></th>\n",
       "      <th>review_id</th>\n",
       "      <th>city</th>\n",
       "      <th>position</th>\n",
       "      <th>positive</th>\n",
       "      <th>negative</th>\n",
       "      <th>salary_rating</th>\n",
       "      <th>team_rating</th>\n",
       "      <th>managment_rating</th>\n",
       "      <th>career_rating</th>\n",
       "      <th>workplace_rating</th>\n",
       "      <th>rest_recovery_rating</th>\n",
       "      <th>Logits</th>\n",
       "      <th>Target_vector</th>\n",
       "      <th>target</th>\n",
       "    </tr>\n",
       "  </thead>\n",
       "  <tbody>\n",
       "  </tbody>\n",
       "</table>\n",
       "</div>"
      ],
      "text/plain": [
       "Empty DataFrame\n",
       "Columns: [review_id, city, position, positive, negative, salary_rating, team_rating, managment_rating, career_rating, workplace_rating, rest_recovery_rating, Logits, Target_vector, target]\n",
       "Index: []"
      ]
     },
     "execution_count": 39,
     "metadata": {},
     "output_type": "execute_result"
    }
   ],
   "source": [
    "test_c[test_c.target==8]\n"
   ]
  },
  {
   "cell_type": "code",
   "execution_count": 40,
   "id": "c74764fd",
   "metadata": {
    "execution": {
     "iopub.execute_input": "2022-01-06T18:08:51.093286Z",
     "iopub.status.busy": "2022-01-06T18:08:51.091896Z",
     "iopub.status.idle": "2022-01-06T18:08:51.517698Z",
     "shell.execute_reply": "2022-01-06T18:08:51.516958Z"
    },
    "papermill": {
     "duration": 3.400214,
     "end_time": "2022-01-06T18:08:51.518153",
     "exception": true,
     "start_time": "2022-01-06T18:08:48.117939",
     "status": "failed"
    },
    "tags": []
   },
   "outputs": [
    {
     "ename": "TypeError",
     "evalue": "apply() missing 1 required positional argument: 'func'",
     "output_type": "error",
     "traceback": [
      "\u001b[0;31m---------------------------------------------------------------------------\u001b[0m",
      "\u001b[0;31mTypeError\u001b[0m                                 Traceback (most recent call last)",
      "\u001b[0;32m/tmp/ipykernel_24/241980634.py\u001b[0m in \u001b[0;36m<module>\u001b[0;34m\u001b[0m\n\u001b[0;32m----> 1\u001b[0;31m \u001b[0mtest_c\u001b[0m\u001b[0;34m[\u001b[0m\u001b[0;34m'res_target'\u001b[0m\u001b[0;34m]\u001b[0m \u001b[0;34m=\u001b[0m \u001b[0mtest_c\u001b[0m\u001b[0;34m.\u001b[0m\u001b[0mLogits\u001b[0m\u001b[0;34m.\u001b[0m\u001b[0mapply\u001b[0m\u001b[0;34m(\u001b[0m\u001b[0;34m)\u001b[0m\u001b[0;34m\u001b[0m\u001b[0;34m\u001b[0m\u001b[0m\n\u001b[0m",
      "\u001b[0;31mTypeError\u001b[0m: apply() missing 1 required positional argument: 'func'"
     ]
    }
   ],
   "source": [
    "test_c['res_target'] = test_c.Logits.apply()"
   ]
  },
  {
   "cell_type": "code",
   "execution_count": null,
   "id": "78ae50c6",
   "metadata": {
    "execution": {
     "iopub.execute_input": "2022-01-05T21:40:09.974227Z",
     "iopub.status.busy": "2022-01-05T21:40:09.973548Z",
     "iopub.status.idle": "2022-01-05T21:40:09.979783Z",
     "shell.execute_reply": "2022-01-05T21:40:09.97888Z",
     "shell.execute_reply.started": "2022-01-05T21:40:09.974187Z"
    },
    "papermill": {
     "duration": null,
     "end_time": null,
     "exception": null,
     "start_time": null,
     "status": "pending"
    },
    "tags": []
   },
   "outputs": [],
   "source": [
    "z = pd.DataFrame({'a':[4.0,5.0,6.0,7.0,8.0],'b':[6.0,0,5.0,0,1.0]})"
   ]
  },
  {
   "cell_type": "code",
   "execution_count": null,
   "id": "ae2734a7",
   "metadata": {
    "execution": {
     "iopub.execute_input": "2022-01-05T21:40:59.826938Z",
     "iopub.status.busy": "2022-01-05T21:40:59.826522Z",
     "iopub.status.idle": "2022-01-05T21:40:59.832434Z",
     "shell.execute_reply": "2022-01-05T21:40:59.831548Z",
     "shell.execute_reply.started": "2022-01-05T21:40:59.8269Z"
    },
    "papermill": {
     "duration": null,
     "end_time": null,
     "exception": null,
     "start_time": null,
     "status": "pending"
    },
    "tags": []
   },
   "outputs": [],
   "source": [
    "z['c'] = z.apply(lambda row: 0 if row['b'] in (0,1) else row['a'] / math.log(row['b']), axis=1)"
   ]
  },
  {
   "cell_type": "code",
   "execution_count": null,
   "id": "490a6748",
   "metadata": {
    "execution": {
     "iopub.execute_input": "2022-01-05T21:40:27.745075Z",
     "iopub.status.busy": "2022-01-05T21:40:27.744761Z",
     "iopub.status.idle": "2022-01-05T21:40:27.748647Z",
     "shell.execute_reply": "2022-01-05T21:40:27.747935Z",
     "shell.execute_reply.started": "2022-01-05T21:40:27.745042Z"
    },
    "papermill": {
     "duration": null,
     "end_time": null,
     "exception": null,
     "start_time": null,
     "status": "pending"
    },
    "tags": []
   },
   "outputs": [],
   "source": [
    "import math"
   ]
  },
  {
   "cell_type": "markdown",
   "id": "3d58d940",
   "metadata": {
    "papermill": {
     "duration": null,
     "end_time": null,
     "exception": null,
     "start_time": null,
     "status": "pending"
    },
    "tags": []
   },
   "source": [
    "### LogReg"
   ]
  },
  {
   "cell_type": "code",
   "execution_count": null,
   "id": "5d77516c",
   "metadata": {
    "execution": {
     "iopub.execute_input": "2022-01-06T13:38:12.012930Z",
     "iopub.status.busy": "2022-01-06T13:38:12.012380Z",
     "iopub.status.idle": "2022-01-06T13:38:12.018956Z",
     "shell.execute_reply": "2022-01-06T13:38:12.018219Z",
     "shell.execute_reply.started": "2022-01-06T13:38:12.012892Z"
    },
    "papermill": {
     "duration": null,
     "end_time": null,
     "exception": null,
     "start_time": null,
     "status": "pending"
    },
    "tags": []
   },
   "outputs": [],
   "source": [
    "features = ['salary_rating', 'team_rating', 'managment_rating', 'career_rating',\n",
    "       'workplace_rating', 'rest_recovery_rating']"
   ]
  },
  {
   "cell_type": "code",
   "execution_count": null,
   "id": "3d10cdf3",
   "metadata": {
    "execution": {
     "iopub.execute_input": "2022-01-06T13:47:59.871054Z",
     "iopub.status.busy": "2022-01-06T13:47:59.870767Z",
     "iopub.status.idle": "2022-01-06T13:47:59.876637Z",
     "shell.execute_reply": "2022-01-06T13:47:59.875933Z",
     "shell.execute_reply.started": "2022-01-06T13:47:59.871018Z"
    },
    "papermill": {
     "duration": null,
     "end_time": null,
     "exception": null,
     "start_time": null,
     "status": "pending"
    },
    "tags": []
   },
   "outputs": [],
   "source": [
    "y_train[0]"
   ]
  },
  {
   "cell_type": "code",
   "execution_count": null,
   "id": "92fa4b5c",
   "metadata": {
    "execution": {
     "iopub.execute_input": "2022-01-06T13:55:44.356173Z",
     "iopub.status.busy": "2022-01-06T13:55:44.355899Z",
     "iopub.status.idle": "2022-01-06T13:55:44.368494Z",
     "shell.execute_reply": "2022-01-06T13:55:44.367772Z",
     "shell.execute_reply.started": "2022-01-06T13:55:44.356143Z"
    },
    "papermill": {
     "duration": null,
     "end_time": null,
     "exception": null,
     "start_time": null,
     "status": "pending"
    },
    "tags": []
   },
   "outputs": [],
   "source": [
    "X_train = torch.Tensor(train_df[features].values)\n",
    "y_train = torch.Tensor(train_df.Target_vector.tolist())\n",
    "\n",
    "X_val = torch.Tensor(val[features].values)\n",
    "y_val = torch.Tensor(val.Target_vector.tolist())"
   ]
  },
  {
   "cell_type": "code",
   "execution_count": null,
   "id": "0d919f43",
   "metadata": {
    "execution": {
     "iopub.execute_input": "2022-01-06T13:55:59.131457Z",
     "iopub.status.busy": "2022-01-06T13:55:59.130745Z",
     "iopub.status.idle": "2022-01-06T13:55:59.136368Z",
     "shell.execute_reply": "2022-01-06T13:55:59.135706Z",
     "shell.execute_reply.started": "2022-01-06T13:55:59.131420Z"
    },
    "papermill": {
     "duration": null,
     "end_time": null,
     "exception": null,
     "start_time": null,
     "status": "pending"
    },
    "tags": []
   },
   "outputs": [],
   "source": [
    "batch_size = 128\n",
    "\n",
    "train_data_logreg = TensorDataset(X_train, y_train)\n",
    "train_sampler_logreg = RandomSampler(train_data_logreg)\n",
    "train_dataloader_logreg = DataLoader(train_data_logreg, sampler=train_sampler_logreg, batch_size=batch_size)\n",
    "\n",
    "val_data_logreg = TensorDataset(X_val, y_val)\n",
    "val_sampler_logreg = SequentialSampler(val_data_logreg)\n",
    "val_dataloader_logreg = DataLoader(val_data_logreg, sampler=val_sampler_logreg, batch_size=batch_size)"
   ]
  },
  {
   "cell_type": "code",
   "execution_count": null,
   "id": "6ce5828e",
   "metadata": {
    "execution": {
     "iopub.execute_input": "2022-01-06T13:56:00.500378Z",
     "iopub.status.busy": "2022-01-06T13:56:00.500090Z",
     "iopub.status.idle": "2022-01-06T13:56:00.506831Z",
     "shell.execute_reply": "2022-01-06T13:56:00.506038Z",
     "shell.execute_reply.started": "2022-01-06T13:56:00.500347Z"
    },
    "papermill": {
     "duration": null,
     "end_time": null,
     "exception": null,
     "start_time": null,
     "status": "pending"
    },
    "tags": []
   },
   "outputs": [],
   "source": [
    "\n",
    "class Net(nn.Module):\n",
    "    def __init__(self):\n",
    "        \n",
    "        super(Net, self).__init__()\n",
    "        D_in, H, D_out = 6,30,9\n",
    "        \n",
    "        \n",
    "        self.classifier = nn.Sequential(\n",
    "            nn.Linear(D_in, H),\n",
    "            nn.ReLU(),\n",
    "            nn.Dropout(0.4),\n",
    "            nn.Linear(H, 2*H),\n",
    "            nn.ReLU(),\n",
    "            nn.Dropout(0.4),\n",
    "            nn.Linear(2*H, D_out))\n",
    "        \n",
    "        self.sigmoid = nn.Sigmoid()\n",
    "    \n",
    "    def forward(self, X):\n",
    "        \n",
    "        logit = self.classifier(X)\n",
    "        \n",
    "        \n",
    "        return logit"
   ]
  },
  {
   "cell_type": "code",
   "execution_count": null,
   "id": "09a6dd8b",
   "metadata": {
    "execution": {
     "iopub.execute_input": "2022-01-06T13:56:45.115583Z",
     "iopub.status.busy": "2022-01-06T13:56:45.115087Z",
     "iopub.status.idle": "2022-01-06T13:56:45.121632Z",
     "shell.execute_reply": "2022-01-06T13:56:45.120980Z",
     "shell.execute_reply.started": "2022-01-06T13:56:45.115545Z"
    },
    "papermill": {
     "duration": null,
     "end_time": null,
     "exception": null,
     "start_time": null,
     "status": "pending"
    },
    "tags": []
   },
   "outputs": [],
   "source": [
    "def initialize_model_logreg(epochs=4):\n",
    "    \"\"\"Initialize the Bert Classifier, the optimizer and the learning rate scheduler.\n",
    "    \"\"\"\n",
    "    \n",
    "    # Instantiate Bert Classifier\n",
    "    logreg = Net()\n",
    "    \n",
    "    logreg.to(device)\n",
    "    \n",
    "    # Create the optimizer\n",
    "    optimizer = AdamW(logreg.parameters(),\n",
    "                     lr=2e-5, #Default learning rate\n",
    "                     eps=1e-8 #Default epsilon value\n",
    "                     )\n",
    "    \n",
    "    # Total number of training steps\n",
    "    total_steps = len(train_dataloader_logreg) * epochs\n",
    "    \n",
    "    # Set up the learning rate scheduler\n",
    "    scheduler = get_linear_schedule_with_warmup(optimizer, \n",
    "                                              num_warmup_steps=0, # Default value\n",
    "                                              num_training_steps=total_steps)\n",
    "    return logreg, optimizer, scheduler"
   ]
  },
  {
   "cell_type": "code",
   "execution_count": null,
   "id": "d262bcb7",
   "metadata": {
    "execution": {
     "iopub.execute_input": "2022-01-06T13:56:45.486374Z",
     "iopub.status.busy": "2022-01-06T13:56:45.485877Z",
     "iopub.status.idle": "2022-01-06T13:56:45.506297Z",
     "shell.execute_reply": "2022-01-06T13:56:45.505357Z",
     "shell.execute_reply.started": "2022-01-06T13:56:45.486336Z"
    },
    "papermill": {
     "duration": null,
     "end_time": null,
     "exception": null,
     "start_time": null,
     "status": "pending"
    },
    "tags": []
   },
   "outputs": [],
   "source": [
    "loss_fn_logreg = nn.BCEWithLogitsLoss()\n",
    "\n",
    "def set_seed(seed_value=42):\n",
    "    \"\"\"Set seed for reproducibility.\n",
    "    \"\"\"\n",
    "    random.seed(seed_value)\n",
    "    np.random.seed(seed_value)\n",
    "    torch.manual_seed(seed_value)\n",
    "    torch.cuda.manual_seed_all(seed_value)\n",
    "\n",
    "def train_logreg(model, train_dataloader, val_dataloader=None, epochs=4, evaluation=False):\n",
    "    \"\"\"Train the BertClassifier model.\n",
    "    \"\"\"\n",
    "    # Start training loop\n",
    "    print(\"Start training...\\n\")\n",
    "    for epoch_i in range(epochs):\n",
    "        # =======================================\n",
    "        #               Training\n",
    "        # =======================================\n",
    "        # Print the header of the result table\n",
    "        print(f\"{'Epoch':^7} | {'Batch':^7} | {'Train Loss':^12} | {'Val Loss':^10} | {'Val Acc':^9} | {'Elapsed':^9}\")\n",
    "        print(\"-\"*70)\n",
    "\n",
    "        # Measure the elapsed time of each epoch\n",
    "        t0_epoch, t0_batch = time.time(), time.time()\n",
    "\n",
    "        # Reset tracking variables at the beginning of each epoch\n",
    "        total_loss, batch_loss, batch_counts = 0, 0, 0\n",
    "\n",
    "        # Put the model into the training mode\n",
    "        model.train()\n",
    "\n",
    "        # For each batch of training data...\n",
    "        for step, batch in enumerate(train_dataloader):\n",
    "            batch_counts +=1\n",
    "            # Load batch to GPU\n",
    "            X_b, b_labels = tuple(t.to(device) for t in batch)\n",
    "\n",
    "            # Zero out any previously calculated gradients\n",
    "            model.zero_grad()\n",
    "\n",
    "            # Perform a forward pass. This will return logits.\n",
    "            logits = model(X_b)\n",
    "\n",
    "            # Compute loss and accumulate the loss values\n",
    "            loss = loss_fn_logreg(logits, b_labels.float())\n",
    "            batch_loss += loss.item()\n",
    "            total_loss += loss.item()\n",
    "\n",
    "            # Perform a backward pass to calculate gradients\n",
    "            loss.backward()\n",
    "\n",
    "            # Clip the norm of the gradients to 1.0 to prevent \"exploding gradients\"\n",
    "            torch.nn.utils.clip_grad_norm_(model.parameters(), 1.0)\n",
    "\n",
    "            # Update parameters and the learning rate\n",
    "            optimizer.step()\n",
    "            scheduler.step()\n",
    "\n",
    "            # Print the loss values and time elapsed for every 20--50000 batches\n",
    "            if (step % 1000 == 0 and step != 0) or (step == len(train_dataloader) - 1):\n",
    "                # Calculate time elapsed for 20 batches\n",
    "                time_elapsed = time.time() - t0_batch\n",
    "\n",
    "                # Print training results\n",
    "                print(f\"{epoch_i + 1:^7} | {step:^7} | {batch_loss / batch_counts:^12.6f} | {'-':^10} | {'-':^9} | {time_elapsed:^9.2f}\")\n",
    "\n",
    "                # Reset batch tracking variables\n",
    "                batch_loss, batch_counts = 0, 0\n",
    "                t0_batch = time.time()\n",
    "\n",
    "        # Calculate the average loss over the entire training data\n",
    "        avg_train_loss = total_loss / len(train_dataloader)\n",
    "\n",
    "        print(\"-\"*70)\n",
    "        # =======================================\n",
    "        #               Evaluation\n",
    "        # =======================================\n",
    "        if evaluation == True:\n",
    "            # After the completion of each training epoch, measure the model's performance\n",
    "            # on our validation set.\n",
    "            val_loss, val_accuracy = evaluate_logreg(model, val_dataloader)\n",
    "\n",
    "            # Print performance over the entire training data\n",
    "            time_elapsed = time.time() - t0_epoch\n",
    "            \n",
    "            print(f\"{epoch_i + 1:^7} | {'-':^7} | {avg_train_loss:^12.6f} | {val_loss:^10.6f} | {val_accuracy:^9.2f} | {time_elapsed:^9.2f}\")\n",
    "            print(\"-\"*70)\n",
    "        print(\"\\n\")\n",
    "    \n",
    "    print(\"Training complete!\")\n",
    "\n",
    "\n",
    "def evaluate_logreg(model, val_dataloader):\n",
    "    \"\"\"After the completion of each training epoch, measure the model's performance\n",
    "    on our validation set.\n",
    "    \"\"\"\n",
    "    # Put the model into the evaluation mode. The dropout layers are disabled during\n",
    "    # the test time.\n",
    "    model.eval()\n",
    "\n",
    "    # Tracking variables\n",
    "    val_accuracy = []\n",
    "    val_loss = []\n",
    "\n",
    "    # For each batch in our validation set...\n",
    "    for batch in val_dataloader:\n",
    "        # Load batch to GPU\n",
    "        X_b, b_labels = tuple(t.to(device) for t in batch)\n",
    "\n",
    "        # Compute logits\n",
    "        with torch.no_grad():\n",
    "            logits = model(X_b)\n",
    "\n",
    "        # Compute loss\n",
    "        loss = loss_fn_logreg(logits, b_labels.float())\n",
    "        val_loss.append(loss.item())\n",
    "\n",
    "        # Get the predictions\n",
    "        #preds = torch.argmax(logits, dim=1).flatten()\n",
    "        \n",
    "        # Calculate the accuracy rate\n",
    "        #accuracy = (preds == b_labels).cpu().numpy().mean() * 100\n",
    "        accuracy = accuracy_thresh(logits.view(-1,9),b_labels.view(-1,9))\n",
    "        \n",
    "        val_accuracy.append(accuracy)\n",
    "\n",
    "    # Compute the average accuracy and loss over the validation set.\n",
    "    val_loss = np.mean(val_loss)\n",
    "    val_accuracy = np.mean(val_accuracy)\n",
    "\n",
    "    return val_loss, val_accuracy\n",
    "\n",
    "def accuracy_thresh(y_pred, y_true, thresh:float=0.5, sigmoid:bool=True):\n",
    "    \"Compute accuracy when `y_pred` and `y_true` are the same size.\"\n",
    "    if sigmoid: \n",
    "        y_pred = y_pred.sigmoid()\n",
    "    return ((y_pred>thresh)==y_true.byte()).float().mean().item()\n",
    "    #return np.mean(((y_pred>thresh).float()==y_true.float()).float().cpu().numpy(), axis=1).sum()"
   ]
  },
  {
   "cell_type": "code",
   "execution_count": null,
   "id": "a6eb240f",
   "metadata": {
    "execution": {
     "iopub.execute_input": "2022-01-06T13:57:10.006079Z",
     "iopub.status.busy": "2022-01-06T13:57:10.005798Z",
     "iopub.status.idle": "2022-01-06T13:57:15.877893Z",
     "shell.execute_reply": "2022-01-06T13:57:15.876833Z",
     "shell.execute_reply.started": "2022-01-06T13:57:10.006045Z"
    },
    "papermill": {
     "duration": null,
     "end_time": null,
     "exception": null,
     "start_time": null,
     "status": "pending"
    },
    "tags": []
   },
   "outputs": [],
   "source": [
    "logreg, optimizer, scheduler = initialize_model_logreg(epochs=50)\n",
    "set_seed(42)\n",
    "train(logreg, train_dataloader_logreg, val_dataloader_logreg, epochs=50, evaluation=True)"
   ]
  },
  {
   "cell_type": "markdown",
   "id": "b174cbe3",
   "metadata": {
    "papermill": {
     "duration": null,
     "end_time": null,
     "exception": null,
     "start_time": null,
     "status": "pending"
    },
    "tags": []
   },
   "source": [
    "### Combination of predicts"
   ]
  },
  {
   "cell_type": "code",
   "execution_count": null,
   "id": "4d9fc746",
   "metadata": {
    "papermill": {
     "duration": null,
     "end_time": null,
     "exception": null,
     "start_time": null,
     "status": "pending"
    },
    "tags": []
   },
   "outputs": [],
   "source": []
  }
 ],
 "metadata": {
  "kernelspec": {
   "display_name": "Python 3",
   "language": "python",
   "name": "python3"
  },
  "language_info": {
   "codemirror_mode": {
    "name": "ipython",
    "version": 3
   },
   "file_extension": ".py",
   "mimetype": "text/x-python",
   "name": "python",
   "nbconvert_exporter": "python",
   "pygments_lexer": "ipython3",
   "version": "3.7.12"
  },
  "papermill": {
   "default_parameters": {},
   "duration": 13015.76815,
   "end_time": "2022-01-06T18:08:57.783291",
   "environment_variables": {},
   "exception": true,
   "input_path": "__notebook__.ipynb",
   "output_path": "__notebook__.ipynb",
   "parameters": {},
   "start_time": "2022-01-06T14:32:02.015141",
   "version": "2.3.3"
  },
  "widgets": {
   "application/vnd.jupyter.widget-state+json": {
    "state": {
     "0295e26efe0847f3a483b32f506319af": {
      "model_module": "@jupyter-widgets/controls",
      "model_module_version": "1.5.0",
      "model_name": "DescriptionStyleModel",
      "state": {
       "_model_module": "@jupyter-widgets/controls",
       "_model_module_version": "1.5.0",
       "_model_name": "DescriptionStyleModel",
       "_view_count": null,
       "_view_module": "@jupyter-widgets/base",
       "_view_module_version": "1.2.0",
       "_view_name": "StyleView",
       "description_width": ""
      }
     },
     "034a418ec1e04159a62dad72fe1d24bc": {
      "model_module": "@jupyter-widgets/controls",
      "model_module_version": "1.5.0",
      "model_name": "DescriptionStyleModel",
      "state": {
       "_model_module": "@jupyter-widgets/controls",
       "_model_module_version": "1.5.0",
       "_model_name": "DescriptionStyleModel",
       "_view_count": null,
       "_view_module": "@jupyter-widgets/base",
       "_view_module_version": "1.2.0",
       "_view_name": "StyleView",
       "description_width": ""
      }
     },
     "0c410bb0a0ca4324b0d874a6e1c671aa": {
      "model_module": "@jupyter-widgets/base",
      "model_module_version": "1.2.0",
      "model_name": "LayoutModel",
      "state": {
       "_model_module": "@jupyter-widgets/base",
       "_model_module_version": "1.2.0",
       "_model_name": "LayoutModel",
       "_view_count": null,
       "_view_module": "@jupyter-widgets/base",
       "_view_module_version": "1.2.0",
       "_view_name": "LayoutView",
       "align_content": null,
       "align_items": null,
       "align_self": null,
       "border": null,
       "bottom": null,
       "display": null,
       "flex": null,
       "flex_flow": null,
       "grid_area": null,
       "grid_auto_columns": null,
       "grid_auto_flow": null,
       "grid_auto_rows": null,
       "grid_column": null,
       "grid_gap": null,
       "grid_row": null,
       "grid_template_areas": null,
       "grid_template_columns": null,
       "grid_template_rows": null,
       "height": null,
       "justify_content": null,
       "justify_items": null,
       "left": null,
       "margin": null,
       "max_height": null,
       "max_width": null,
       "min_height": null,
       "min_width": null,
       "object_fit": null,
       "object_position": null,
       "order": null,
       "overflow": null,
       "overflow_x": null,
       "overflow_y": null,
       "padding": null,
       "right": null,
       "top": null,
       "visibility": null,
       "width": null
      }
     },
     "1af81549dae243699c3a7a10818261cf": {
      "model_module": "@jupyter-widgets/base",
      "model_module_version": "1.2.0",
      "model_name": "LayoutModel",
      "state": {
       "_model_module": "@jupyter-widgets/base",
       "_model_module_version": "1.2.0",
       "_model_name": "LayoutModel",
       "_view_count": null,
       "_view_module": "@jupyter-widgets/base",
       "_view_module_version": "1.2.0",
       "_view_name": "LayoutView",
       "align_content": null,
       "align_items": null,
       "align_self": null,
       "border": null,
       "bottom": null,
       "display": null,
       "flex": null,
       "flex_flow": null,
       "grid_area": null,
       "grid_auto_columns": null,
       "grid_auto_flow": null,
       "grid_auto_rows": null,
       "grid_column": null,
       "grid_gap": null,
       "grid_row": null,
       "grid_template_areas": null,
       "grid_template_columns": null,
       "grid_template_rows": null,
       "height": null,
       "justify_content": null,
       "justify_items": null,
       "left": null,
       "margin": null,
       "max_height": null,
       "max_width": null,
       "min_height": null,
       "min_width": null,
       "object_fit": null,
       "object_position": null,
       "order": null,
       "overflow": null,
       "overflow_x": null,
       "overflow_y": null,
       "padding": null,
       "right": null,
       "top": null,
       "visibility": null,
       "width": null
      }
     },
     "24960e0bf2b94c71a3ae215eca62e917": {
      "model_module": "@jupyter-widgets/base",
      "model_module_version": "1.2.0",
      "model_name": "LayoutModel",
      "state": {
       "_model_module": "@jupyter-widgets/base",
       "_model_module_version": "1.2.0",
       "_model_name": "LayoutModel",
       "_view_count": null,
       "_view_module": "@jupyter-widgets/base",
       "_view_module_version": "1.2.0",
       "_view_name": "LayoutView",
       "align_content": null,
       "align_items": null,
       "align_self": null,
       "border": null,
       "bottom": null,
       "display": null,
       "flex": null,
       "flex_flow": null,
       "grid_area": null,
       "grid_auto_columns": null,
       "grid_auto_flow": null,
       "grid_auto_rows": null,
       "grid_column": null,
       "grid_gap": null,
       "grid_row": null,
       "grid_template_areas": null,
       "grid_template_columns": null,
       "grid_template_rows": null,
       "height": null,
       "justify_content": null,
       "justify_items": null,
       "left": null,
       "margin": null,
       "max_height": null,
       "max_width": null,
       "min_height": null,
       "min_width": null,
       "object_fit": null,
       "object_position": null,
       "order": null,
       "overflow": null,
       "overflow_x": null,
       "overflow_y": null,
       "padding": null,
       "right": null,
       "top": null,
       "visibility": null,
       "width": null
      }
     },
     "2a90fa1f393a4ab9940999e8730bf213": {
      "model_module": "@jupyter-widgets/controls",
      "model_module_version": "1.5.0",
      "model_name": "HBoxModel",
      "state": {
       "_dom_classes": [],
       "_model_module": "@jupyter-widgets/controls",
       "_model_module_version": "1.5.0",
       "_model_name": "HBoxModel",
       "_view_count": null,
       "_view_module": "@jupyter-widgets/controls",
       "_view_module_version": "1.5.0",
       "_view_name": "HBoxView",
       "box_style": "",
       "children": [
        "IPY_MODEL_8168b6322d244f6b95059e1be56a2f0b",
        "IPY_MODEL_bc3301b322674cd08b84addd94c33f9e",
        "IPY_MODEL_e71396b85d4a4ff6be6cca51772559ab"
       ],
       "layout": "IPY_MODEL_db48514e82ef4a1098a7dfcf77fa3626"
      }
     },
     "2b6255a2493a4faa88551af60b0afae4": {
      "model_module": "@jupyter-widgets/controls",
      "model_module_version": "1.5.0",
      "model_name": "ProgressStyleModel",
      "state": {
       "_model_module": "@jupyter-widgets/controls",
       "_model_module_version": "1.5.0",
       "_model_name": "ProgressStyleModel",
       "_view_count": null,
       "_view_module": "@jupyter-widgets/base",
       "_view_module_version": "1.2.0",
       "_view_name": "StyleView",
       "bar_color": null,
       "description_width": ""
      }
     },
     "2ce4db0aba454eb69410049ce4114d0e": {
      "model_module": "@jupyter-widgets/controls",
      "model_module_version": "1.5.0",
      "model_name": "DescriptionStyleModel",
      "state": {
       "_model_module": "@jupyter-widgets/controls",
       "_model_module_version": "1.5.0",
       "_model_name": "DescriptionStyleModel",
       "_view_count": null,
       "_view_module": "@jupyter-widgets/base",
       "_view_module_version": "1.2.0",
       "_view_name": "StyleView",
       "description_width": ""
      }
     },
     "2e16cfb1c05c4cf4a379275ca074bd84": {
      "model_module": "@jupyter-widgets/controls",
      "model_module_version": "1.5.0",
      "model_name": "DescriptionStyleModel",
      "state": {
       "_model_module": "@jupyter-widgets/controls",
       "_model_module_version": "1.5.0",
       "_model_name": "DescriptionStyleModel",
       "_view_count": null,
       "_view_module": "@jupyter-widgets/base",
       "_view_module_version": "1.2.0",
       "_view_name": "StyleView",
       "description_width": ""
      }
     },
     "3591a2c66b6345ab9f705015ec571865": {
      "model_module": "@jupyter-widgets/controls",
      "model_module_version": "1.5.0",
      "model_name": "HTMLModel",
      "state": {
       "_dom_classes": [],
       "_model_module": "@jupyter-widgets/controls",
       "_model_module_version": "1.5.0",
       "_model_name": "HTMLModel",
       "_view_count": null,
       "_view_module": "@jupyter-widgets/controls",
       "_view_module_version": "1.5.0",
       "_view_name": "HTMLView",
       "description": "",
       "description_tooltip": null,
       "layout": "IPY_MODEL_1af81549dae243699c3a7a10818261cf",
       "placeholder": "​",
       "style": "IPY_MODEL_7f5a14148fca4c4c90d21081a19129f2",
       "value": "Downloading: 100%"
      }
     },
     "3c5065a3e96147db991270ebe22fe0ae": {
      "model_module": "@jupyter-widgets/base",
      "model_module_version": "1.2.0",
      "model_name": "LayoutModel",
      "state": {
       "_model_module": "@jupyter-widgets/base",
       "_model_module_version": "1.2.0",
       "_model_name": "LayoutModel",
       "_view_count": null,
       "_view_module": "@jupyter-widgets/base",
       "_view_module_version": "1.2.0",
       "_view_name": "LayoutView",
       "align_content": null,
       "align_items": null,
       "align_self": null,
       "border": null,
       "bottom": null,
       "display": null,
       "flex": null,
       "flex_flow": null,
       "grid_area": null,
       "grid_auto_columns": null,
       "grid_auto_flow": null,
       "grid_auto_rows": null,
       "grid_column": null,
       "grid_gap": null,
       "grid_row": null,
       "grid_template_areas": null,
       "grid_template_columns": null,
       "grid_template_rows": null,
       "height": null,
       "justify_content": null,
       "justify_items": null,
       "left": null,
       "margin": null,
       "max_height": null,
       "max_width": null,
       "min_height": null,
       "min_width": null,
       "object_fit": null,
       "object_position": null,
       "order": null,
       "overflow": null,
       "overflow_x": null,
       "overflow_y": null,
       "padding": null,
       "right": null,
       "top": null,
       "visibility": null,
       "width": null
      }
     },
     "3c80a4cde0044b7e95c128f761c96ec0": {
      "model_module": "@jupyter-widgets/controls",
      "model_module_version": "1.5.0",
      "model_name": "ProgressStyleModel",
      "state": {
       "_model_module": "@jupyter-widgets/controls",
       "_model_module_version": "1.5.0",
       "_model_name": "ProgressStyleModel",
       "_view_count": null,
       "_view_module": "@jupyter-widgets/base",
       "_view_module_version": "1.2.0",
       "_view_name": "StyleView",
       "bar_color": null,
       "description_width": ""
      }
     },
     "3e72302a801e4c728f02f9dfc842bc86": {
      "model_module": "@jupyter-widgets/controls",
      "model_module_version": "1.5.0",
      "model_name": "HTMLModel",
      "state": {
       "_dom_classes": [],
       "_model_module": "@jupyter-widgets/controls",
       "_model_module_version": "1.5.0",
       "_model_name": "HTMLModel",
       "_view_count": null,
       "_view_module": "@jupyter-widgets/controls",
       "_view_module_version": "1.5.0",
       "_view_name": "HTMLView",
       "description": "",
       "description_tooltip": null,
       "layout": "IPY_MODEL_f7cb9fba2ea74ef3b7845ae753b4947d",
       "placeholder": "​",
       "style": "IPY_MODEL_0295e26efe0847f3a483b32f506319af",
       "value": " 1.57M/1.57M [00:00&lt;00:00, 2.10MB/s]"
      }
     },
     "41f62f0fcc7a463baa981f65c1268f9d": {
      "model_module": "@jupyter-widgets/controls",
      "model_module_version": "1.5.0",
      "model_name": "ProgressStyleModel",
      "state": {
       "_model_module": "@jupyter-widgets/controls",
       "_model_module_version": "1.5.0",
       "_model_name": "ProgressStyleModel",
       "_view_count": null,
       "_view_module": "@jupyter-widgets/base",
       "_view_module_version": "1.2.0",
       "_view_name": "StyleView",
       "bar_color": null,
       "description_width": ""
      }
     },
     "437ae922635c408586a0a143f2107f7d": {
      "model_module": "@jupyter-widgets/controls",
      "model_module_version": "1.5.0",
      "model_name": "HTMLModel",
      "state": {
       "_dom_classes": [],
       "_model_module": "@jupyter-widgets/controls",
       "_model_module_version": "1.5.0",
       "_model_name": "HTMLModel",
       "_view_count": null,
       "_view_module": "@jupyter-widgets/controls",
       "_view_module_version": "1.5.0",
       "_view_name": "HTMLView",
       "description": "",
       "description_tooltip": null,
       "layout": "IPY_MODEL_b91dbf7d527e456185d60926cce35c2c",
       "placeholder": "​",
       "style": "IPY_MODEL_5559373b82484c96b252a64ec926f12d",
       "value": "Downloading: 100%"
      }
     },
     "499ac452e37e495396cdf987b226a0ea": {
      "model_module": "@jupyter-widgets/controls",
      "model_module_version": "1.5.0",
      "model_name": "FloatProgressModel",
      "state": {
       "_dom_classes": [],
       "_model_module": "@jupyter-widgets/controls",
       "_model_module_version": "1.5.0",
       "_model_name": "FloatProgressModel",
       "_view_count": null,
       "_view_module": "@jupyter-widgets/controls",
       "_view_module_version": "1.5.0",
       "_view_name": "ProgressView",
       "bar_style": "success",
       "description": "",
       "description_tooltip": null,
       "layout": "IPY_MODEL_ee282152a1504a65b64d0f04eda07b11",
       "max": 714355318.0,
       "min": 0.0,
       "orientation": "horizontal",
       "style": "IPY_MODEL_6bd47344c7e841dfa43a7bc5827c51eb",
       "value": 714355318.0
      }
     },
     "4da7486a57b5431ea949bc534a114b01": {
      "model_module": "@jupyter-widgets/base",
      "model_module_version": "1.2.0",
      "model_name": "LayoutModel",
      "state": {
       "_model_module": "@jupyter-widgets/base",
       "_model_module_version": "1.2.0",
       "_model_name": "LayoutModel",
       "_view_count": null,
       "_view_module": "@jupyter-widgets/base",
       "_view_module_version": "1.2.0",
       "_view_name": "LayoutView",
       "align_content": null,
       "align_items": null,
       "align_self": null,
       "border": null,
       "bottom": null,
       "display": null,
       "flex": null,
       "flex_flow": null,
       "grid_area": null,
       "grid_auto_columns": null,
       "grid_auto_flow": null,
       "grid_auto_rows": null,
       "grid_column": null,
       "grid_gap": null,
       "grid_row": null,
       "grid_template_areas": null,
       "grid_template_columns": null,
       "grid_template_rows": null,
       "height": null,
       "justify_content": null,
       "justify_items": null,
       "left": null,
       "margin": null,
       "max_height": null,
       "max_width": null,
       "min_height": null,
       "min_width": null,
       "object_fit": null,
       "object_position": null,
       "order": null,
       "overflow": null,
       "overflow_x": null,
       "overflow_y": null,
       "padding": null,
       "right": null,
       "top": null,
       "visibility": null,
       "width": null
      }
     },
     "5157925d857c4c75946abd960d5aa123": {
      "model_module": "@jupyter-widgets/controls",
      "model_module_version": "1.5.0",
      "model_name": "HTMLModel",
      "state": {
       "_dom_classes": [],
       "_model_module": "@jupyter-widgets/controls",
       "_model_module_version": "1.5.0",
       "_model_name": "HTMLModel",
       "_view_count": null,
       "_view_module": "@jupyter-widgets/controls",
       "_view_module_version": "1.5.0",
       "_view_name": "HTMLView",
       "description": "",
       "description_tooltip": null,
       "layout": "IPY_MODEL_4da7486a57b5431ea949bc534a114b01",
       "placeholder": "​",
       "style": "IPY_MODEL_9fcc7793347e45879fd8f5508f241f4a",
       "value": " 24.0/24.0 [00:00&lt;00:00, 697B/s]"
      }
     },
     "5559373b82484c96b252a64ec926f12d": {
      "model_module": "@jupyter-widgets/controls",
      "model_module_version": "1.5.0",
      "model_name": "DescriptionStyleModel",
      "state": {
       "_model_module": "@jupyter-widgets/controls",
       "_model_module_version": "1.5.0",
       "_model_name": "DescriptionStyleModel",
       "_view_count": null,
       "_view_module": "@jupyter-widgets/base",
       "_view_module_version": "1.2.0",
       "_view_name": "StyleView",
       "description_width": ""
      }
     },
     "5743bfd4ef624ee2ac692e1bb85da306": {
      "model_module": "@jupyter-widgets/controls",
      "model_module_version": "1.5.0",
      "model_name": "HBoxModel",
      "state": {
       "_dom_classes": [],
       "_model_module": "@jupyter-widgets/controls",
       "_model_module_version": "1.5.0",
       "_model_name": "HBoxModel",
       "_view_count": null,
       "_view_module": "@jupyter-widgets/controls",
       "_view_module_version": "1.5.0",
       "_view_name": "HBoxView",
       "box_style": "",
       "children": [
        "IPY_MODEL_3591a2c66b6345ab9f705015ec571865",
        "IPY_MODEL_fa7a170b782642e198e71beb02e9680e",
        "IPY_MODEL_5157925d857c4c75946abd960d5aa123"
       ],
       "layout": "IPY_MODEL_f6d2eacb594b428da10648118a62093b"
      }
     },
     "5a21f6f91ce04625bfe239f4b0a15c3c": {
      "model_module": "@jupyter-widgets/base",
      "model_module_version": "1.2.0",
      "model_name": "LayoutModel",
      "state": {
       "_model_module": "@jupyter-widgets/base",
       "_model_module_version": "1.2.0",
       "_model_name": "LayoutModel",
       "_view_count": null,
       "_view_module": "@jupyter-widgets/base",
       "_view_module_version": "1.2.0",
       "_view_name": "LayoutView",
       "align_content": null,
       "align_items": null,
       "align_self": null,
       "border": null,
       "bottom": null,
       "display": null,
       "flex": null,
       "flex_flow": null,
       "grid_area": null,
       "grid_auto_columns": null,
       "grid_auto_flow": null,
       "grid_auto_rows": null,
       "grid_column": null,
       "grid_gap": null,
       "grid_row": null,
       "grid_template_areas": null,
       "grid_template_columns": null,
       "grid_template_rows": null,
       "height": null,
       "justify_content": null,
       "justify_items": null,
       "left": null,
       "margin": null,
       "max_height": null,
       "max_width": null,
       "min_height": null,
       "min_width": null,
       "object_fit": null,
       "object_position": null,
       "order": null,
       "overflow": null,
       "overflow_x": null,
       "overflow_y": null,
       "padding": null,
       "right": null,
       "top": null,
       "visibility": null,
       "width": null
      }
     },
     "5c90efe63c3041c7a39719d854dd8a7c": {
      "model_module": "@jupyter-widgets/controls",
      "model_module_version": "1.5.0",
      "model_name": "ProgressStyleModel",
      "state": {
       "_model_module": "@jupyter-widgets/controls",
       "_model_module_version": "1.5.0",
       "_model_name": "ProgressStyleModel",
       "_view_count": null,
       "_view_module": "@jupyter-widgets/base",
       "_view_module_version": "1.2.0",
       "_view_name": "StyleView",
       "bar_color": null,
       "description_width": ""
      }
     },
     "5d4e7e32e09b4a28848262af3b649078": {
      "model_module": "@jupyter-widgets/base",
      "model_module_version": "1.2.0",
      "model_name": "LayoutModel",
      "state": {
       "_model_module": "@jupyter-widgets/base",
       "_model_module_version": "1.2.0",
       "_model_name": "LayoutModel",
       "_view_count": null,
       "_view_module": "@jupyter-widgets/base",
       "_view_module_version": "1.2.0",
       "_view_name": "LayoutView",
       "align_content": null,
       "align_items": null,
       "align_self": null,
       "border": null,
       "bottom": null,
       "display": null,
       "flex": null,
       "flex_flow": null,
       "grid_area": null,
       "grid_auto_columns": null,
       "grid_auto_flow": null,
       "grid_auto_rows": null,
       "grid_column": null,
       "grid_gap": null,
       "grid_row": null,
       "grid_template_areas": null,
       "grid_template_columns": null,
       "grid_template_rows": null,
       "height": null,
       "justify_content": null,
       "justify_items": null,
       "left": null,
       "margin": null,
       "max_height": null,
       "max_width": null,
       "min_height": null,
       "min_width": null,
       "object_fit": null,
       "object_position": null,
       "order": null,
       "overflow": null,
       "overflow_x": null,
       "overflow_y": null,
       "padding": null,
       "right": null,
       "top": null,
       "visibility": null,
       "width": null
      }
     },
     "5fc21ab43bbc4fc1a99ae9fbc9177861": {
      "model_module": "@jupyter-widgets/base",
      "model_module_version": "1.2.0",
      "model_name": "LayoutModel",
      "state": {
       "_model_module": "@jupyter-widgets/base",
       "_model_module_version": "1.2.0",
       "_model_name": "LayoutModel",
       "_view_count": null,
       "_view_module": "@jupyter-widgets/base",
       "_view_module_version": "1.2.0",
       "_view_name": "LayoutView",
       "align_content": null,
       "align_items": null,
       "align_self": null,
       "border": null,
       "bottom": null,
       "display": null,
       "flex": null,
       "flex_flow": null,
       "grid_area": null,
       "grid_auto_columns": null,
       "grid_auto_flow": null,
       "grid_auto_rows": null,
       "grid_column": null,
       "grid_gap": null,
       "grid_row": null,
       "grid_template_areas": null,
       "grid_template_columns": null,
       "grid_template_rows": null,
       "height": null,
       "justify_content": null,
       "justify_items": null,
       "left": null,
       "margin": null,
       "max_height": null,
       "max_width": null,
       "min_height": null,
       "min_width": null,
       "object_fit": null,
       "object_position": null,
       "order": null,
       "overflow": null,
       "overflow_x": null,
       "overflow_y": null,
       "padding": null,
       "right": null,
       "top": null,
       "visibility": null,
       "width": null
      }
     },
     "65fc896fc984444b84d0caa7c9bb41f6": {
      "model_module": "@jupyter-widgets/base",
      "model_module_version": "1.2.0",
      "model_name": "LayoutModel",
      "state": {
       "_model_module": "@jupyter-widgets/base",
       "_model_module_version": "1.2.0",
       "_model_name": "LayoutModel",
       "_view_count": null,
       "_view_module": "@jupyter-widgets/base",
       "_view_module_version": "1.2.0",
       "_view_name": "LayoutView",
       "align_content": null,
       "align_items": null,
       "align_self": null,
       "border": null,
       "bottom": null,
       "display": null,
       "flex": null,
       "flex_flow": null,
       "grid_area": null,
       "grid_auto_columns": null,
       "grid_auto_flow": null,
       "grid_auto_rows": null,
       "grid_column": null,
       "grid_gap": null,
       "grid_row": null,
       "grid_template_areas": null,
       "grid_template_columns": null,
       "grid_template_rows": null,
       "height": null,
       "justify_content": null,
       "justify_items": null,
       "left": null,
       "margin": null,
       "max_height": null,
       "max_width": null,
       "min_height": null,
       "min_width": null,
       "object_fit": null,
       "object_position": null,
       "order": null,
       "overflow": null,
       "overflow_x": null,
       "overflow_y": null,
       "padding": null,
       "right": null,
       "top": null,
       "visibility": null,
       "width": null
      }
     },
     "68505aa9241141f2b2e2b21070bd7546": {
      "model_module": "@jupyter-widgets/controls",
      "model_module_version": "1.5.0",
      "model_name": "HTMLModel",
      "state": {
       "_dom_classes": [],
       "_model_module": "@jupyter-widgets/controls",
       "_model_module_version": "1.5.0",
       "_model_name": "HTMLModel",
       "_view_count": null,
       "_view_module": "@jupyter-widgets/controls",
       "_view_module_version": "1.5.0",
       "_view_name": "HTMLView",
       "description": "",
       "description_tooltip": null,
       "layout": "IPY_MODEL_65fc896fc984444b84d0caa7c9bb41f6",
       "placeholder": "​",
       "style": "IPY_MODEL_2e16cfb1c05c4cf4a379275ca074bd84",
       "value": " 681M/681M [00:23&lt;00:00, 27.9MB/s]"
      }
     },
     "6bd47344c7e841dfa43a7bc5827c51eb": {
      "model_module": "@jupyter-widgets/controls",
      "model_module_version": "1.5.0",
      "model_name": "ProgressStyleModel",
      "state": {
       "_model_module": "@jupyter-widgets/controls",
       "_model_module_version": "1.5.0",
       "_model_name": "ProgressStyleModel",
       "_view_count": null,
       "_view_module": "@jupyter-widgets/base",
       "_view_module_version": "1.2.0",
       "_view_name": "StyleView",
       "bar_color": null,
       "description_width": ""
      }
     },
     "6e39ad3198384a97b14da1c905f364fc": {
      "model_module": "@jupyter-widgets/base",
      "model_module_version": "1.2.0",
      "model_name": "LayoutModel",
      "state": {
       "_model_module": "@jupyter-widgets/base",
       "_model_module_version": "1.2.0",
       "_model_name": "LayoutModel",
       "_view_count": null,
       "_view_module": "@jupyter-widgets/base",
       "_view_module_version": "1.2.0",
       "_view_name": "LayoutView",
       "align_content": null,
       "align_items": null,
       "align_self": null,
       "border": null,
       "bottom": null,
       "display": null,
       "flex": null,
       "flex_flow": null,
       "grid_area": null,
       "grid_auto_columns": null,
       "grid_auto_flow": null,
       "grid_auto_rows": null,
       "grid_column": null,
       "grid_gap": null,
       "grid_row": null,
       "grid_template_areas": null,
       "grid_template_columns": null,
       "grid_template_rows": null,
       "height": null,
       "justify_content": null,
       "justify_items": null,
       "left": null,
       "margin": null,
       "max_height": null,
       "max_width": null,
       "min_height": null,
       "min_width": null,
       "object_fit": null,
       "object_position": null,
       "order": null,
       "overflow": null,
       "overflow_x": null,
       "overflow_y": null,
       "padding": null,
       "right": null,
       "top": null,
       "visibility": null,
       "width": null
      }
     },
     "71938a64ce3049f9958f37cf474b344a": {
      "model_module": "@jupyter-widgets/controls",
      "model_module_version": "1.5.0",
      "model_name": "FloatProgressModel",
      "state": {
       "_dom_classes": [],
       "_model_module": "@jupyter-widgets/controls",
       "_model_module_version": "1.5.0",
       "_model_name": "FloatProgressModel",
       "_view_count": null,
       "_view_module": "@jupyter-widgets/controls",
       "_view_module_version": "1.5.0",
       "_view_name": "ProgressView",
       "bar_style": "success",
       "description": "",
       "description_tooltip": null,
       "layout": "IPY_MODEL_6e39ad3198384a97b14da1c905f364fc",
       "max": 112.0,
       "min": 0.0,
       "orientation": "horizontal",
       "style": "IPY_MODEL_3c80a4cde0044b7e95c128f761c96ec0",
       "value": 112.0
      }
     },
     "7a2a8b41757a42a4af30a722c4883198": {
      "model_module": "@jupyter-widgets/base",
      "model_module_version": "1.2.0",
      "model_name": "LayoutModel",
      "state": {
       "_model_module": "@jupyter-widgets/base",
       "_model_module_version": "1.2.0",
       "_model_name": "LayoutModel",
       "_view_count": null,
       "_view_module": "@jupyter-widgets/base",
       "_view_module_version": "1.2.0",
       "_view_name": "LayoutView",
       "align_content": null,
       "align_items": null,
       "align_self": null,
       "border": null,
       "bottom": null,
       "display": null,
       "flex": null,
       "flex_flow": null,
       "grid_area": null,
       "grid_auto_columns": null,
       "grid_auto_flow": null,
       "grid_auto_rows": null,
       "grid_column": null,
       "grid_gap": null,
       "grid_row": null,
       "grid_template_areas": null,
       "grid_template_columns": null,
       "grid_template_rows": null,
       "height": null,
       "justify_content": null,
       "justify_items": null,
       "left": null,
       "margin": null,
       "max_height": null,
       "max_width": null,
       "min_height": null,
       "min_width": null,
       "object_fit": null,
       "object_position": null,
       "order": null,
       "overflow": null,
       "overflow_x": null,
       "overflow_y": null,
       "padding": null,
       "right": null,
       "top": null,
       "visibility": null,
       "width": null
      }
     },
     "7ae1d81ea7f541f0adf5cf2d5a073e8f": {
      "model_module": "@jupyter-widgets/base",
      "model_module_version": "1.2.0",
      "model_name": "LayoutModel",
      "state": {
       "_model_module": "@jupyter-widgets/base",
       "_model_module_version": "1.2.0",
       "_model_name": "LayoutModel",
       "_view_count": null,
       "_view_module": "@jupyter-widgets/base",
       "_view_module_version": "1.2.0",
       "_view_name": "LayoutView",
       "align_content": null,
       "align_items": null,
       "align_self": null,
       "border": null,
       "bottom": null,
       "display": null,
       "flex": null,
       "flex_flow": null,
       "grid_area": null,
       "grid_auto_columns": null,
       "grid_auto_flow": null,
       "grid_auto_rows": null,
       "grid_column": null,
       "grid_gap": null,
       "grid_row": null,
       "grid_template_areas": null,
       "grid_template_columns": null,
       "grid_template_rows": null,
       "height": null,
       "justify_content": null,
       "justify_items": null,
       "left": null,
       "margin": null,
       "max_height": null,
       "max_width": null,
       "min_height": null,
       "min_width": null,
       "object_fit": null,
       "object_position": null,
       "order": null,
       "overflow": null,
       "overflow_x": null,
       "overflow_y": null,
       "padding": null,
       "right": null,
       "top": null,
       "visibility": null,
       "width": null
      }
     },
     "7f5a14148fca4c4c90d21081a19129f2": {
      "model_module": "@jupyter-widgets/controls",
      "model_module_version": "1.5.0",
      "model_name": "DescriptionStyleModel",
      "state": {
       "_model_module": "@jupyter-widgets/controls",
       "_model_module_version": "1.5.0",
       "_model_name": "DescriptionStyleModel",
       "_view_count": null,
       "_view_module": "@jupyter-widgets/base",
       "_view_module_version": "1.2.0",
       "_view_name": "StyleView",
       "description_width": ""
      }
     },
     "8168b6322d244f6b95059e1be56a2f0b": {
      "model_module": "@jupyter-widgets/controls",
      "model_module_version": "1.5.0",
      "model_name": "HTMLModel",
      "state": {
       "_dom_classes": [],
       "_model_module": "@jupyter-widgets/controls",
       "_model_module_version": "1.5.0",
       "_model_name": "HTMLModel",
       "_view_count": null,
       "_view_module": "@jupyter-widgets/controls",
       "_view_module_version": "1.5.0",
       "_view_name": "HTMLView",
       "description": "",
       "description_tooltip": null,
       "layout": "IPY_MODEL_0c410bb0a0ca4324b0d874a6e1c671aa",
       "placeholder": "​",
       "style": "IPY_MODEL_95992db8cd144264a6160d0b42f161c6",
       "value": "Downloading: 100%"
      }
     },
     "8c10d81430444adb80bf3dd713cff71f": {
      "model_module": "@jupyter-widgets/controls",
      "model_module_version": "1.5.0",
      "model_name": "HBoxModel",
      "state": {
       "_dom_classes": [],
       "_model_module": "@jupyter-widgets/controls",
       "_model_module_version": "1.5.0",
       "_model_name": "HBoxModel",
       "_view_count": null,
       "_view_module": "@jupyter-widgets/controls",
       "_view_module_version": "1.5.0",
       "_view_name": "HBoxView",
       "box_style": "",
       "children": [
        "IPY_MODEL_437ae922635c408586a0a143f2107f7d",
        "IPY_MODEL_499ac452e37e495396cdf987b226a0ea",
        "IPY_MODEL_68505aa9241141f2b2e2b21070bd7546"
       ],
       "layout": "IPY_MODEL_7ae1d81ea7f541f0adf5cf2d5a073e8f"
      }
     },
     "9030f9d44afc49628cb3a32246e3cb90": {
      "model_module": "@jupyter-widgets/base",
      "model_module_version": "1.2.0",
      "model_name": "LayoutModel",
      "state": {
       "_model_module": "@jupyter-widgets/base",
       "_model_module_version": "1.2.0",
       "_model_name": "LayoutModel",
       "_view_count": null,
       "_view_module": "@jupyter-widgets/base",
       "_view_module_version": "1.2.0",
       "_view_name": "LayoutView",
       "align_content": null,
       "align_items": null,
       "align_self": null,
       "border": null,
       "bottom": null,
       "display": null,
       "flex": null,
       "flex_flow": null,
       "grid_area": null,
       "grid_auto_columns": null,
       "grid_auto_flow": null,
       "grid_auto_rows": null,
       "grid_column": null,
       "grid_gap": null,
       "grid_row": null,
       "grid_template_areas": null,
       "grid_template_columns": null,
       "grid_template_rows": null,
       "height": null,
       "justify_content": null,
       "justify_items": null,
       "left": null,
       "margin": null,
       "max_height": null,
       "max_width": null,
       "min_height": null,
       "min_width": null,
       "object_fit": null,
       "object_position": null,
       "order": null,
       "overflow": null,
       "overflow_x": null,
       "overflow_y": null,
       "padding": null,
       "right": null,
       "top": null,
       "visibility": null,
       "width": null
      }
     },
     "95992db8cd144264a6160d0b42f161c6": {
      "model_module": "@jupyter-widgets/controls",
      "model_module_version": "1.5.0",
      "model_name": "DescriptionStyleModel",
      "state": {
       "_model_module": "@jupyter-widgets/controls",
       "_model_module_version": "1.5.0",
       "_model_name": "DescriptionStyleModel",
       "_view_count": null,
       "_view_module": "@jupyter-widgets/base",
       "_view_module_version": "1.2.0",
       "_view_name": "StyleView",
       "description_width": ""
      }
     },
     "9fcc7793347e45879fd8f5508f241f4a": {
      "model_module": "@jupyter-widgets/controls",
      "model_module_version": "1.5.0",
      "model_name": "DescriptionStyleModel",
      "state": {
       "_model_module": "@jupyter-widgets/controls",
       "_model_module_version": "1.5.0",
       "_model_name": "DescriptionStyleModel",
       "_view_count": null,
       "_view_module": "@jupyter-widgets/base",
       "_view_module_version": "1.2.0",
       "_view_name": "StyleView",
       "description_width": ""
      }
     },
     "b19daca20a0b4bfaa6c2141c0a616aa6": {
      "model_module": "@jupyter-widgets/controls",
      "model_module_version": "1.5.0",
      "model_name": "HBoxModel",
      "state": {
       "_dom_classes": [],
       "_model_module": "@jupyter-widgets/controls",
       "_model_module_version": "1.5.0",
       "_model_name": "HBoxModel",
       "_view_count": null,
       "_view_module": "@jupyter-widgets/controls",
       "_view_module_version": "1.5.0",
       "_view_name": "HBoxView",
       "box_style": "",
       "children": [
        "IPY_MODEL_cd343153cd304569b93a6bad8387ff97",
        "IPY_MODEL_cf15f4538df24b7a88f88e008938834c",
        "IPY_MODEL_3e72302a801e4c728f02f9dfc842bc86"
       ],
       "layout": "IPY_MODEL_5d4e7e32e09b4a28848262af3b649078"
      }
     },
     "b91dbf7d527e456185d60926cce35c2c": {
      "model_module": "@jupyter-widgets/base",
      "model_module_version": "1.2.0",
      "model_name": "LayoutModel",
      "state": {
       "_model_module": "@jupyter-widgets/base",
       "_model_module_version": "1.2.0",
       "_model_name": "LayoutModel",
       "_view_count": null,
       "_view_module": "@jupyter-widgets/base",
       "_view_module_version": "1.2.0",
       "_view_name": "LayoutView",
       "align_content": null,
       "align_items": null,
       "align_self": null,
       "border": null,
       "bottom": null,
       "display": null,
       "flex": null,
       "flex_flow": null,
       "grid_area": null,
       "grid_auto_columns": null,
       "grid_auto_flow": null,
       "grid_auto_rows": null,
       "grid_column": null,
       "grid_gap": null,
       "grid_row": null,
       "grid_template_areas": null,
       "grid_template_columns": null,
       "grid_template_rows": null,
       "height": null,
       "justify_content": null,
       "justify_items": null,
       "left": null,
       "margin": null,
       "max_height": null,
       "max_width": null,
       "min_height": null,
       "min_width": null,
       "object_fit": null,
       "object_position": null,
       "order": null,
       "overflow": null,
       "overflow_x": null,
       "overflow_y": null,
       "padding": null,
       "right": null,
       "top": null,
       "visibility": null,
       "width": null
      }
     },
     "bc3301b322674cd08b84addd94c33f9e": {
      "model_module": "@jupyter-widgets/controls",
      "model_module_version": "1.5.0",
      "model_name": "FloatProgressModel",
      "state": {
       "_dom_classes": [],
       "_model_module": "@jupyter-widgets/controls",
       "_model_module_version": "1.5.0",
       "_model_name": "FloatProgressModel",
       "_view_count": null,
       "_view_module": "@jupyter-widgets/controls",
       "_view_module_version": "1.5.0",
       "_view_name": "ProgressView",
       "bar_style": "success",
       "description": "",
       "description_tooltip": null,
       "layout": "IPY_MODEL_9030f9d44afc49628cb3a32246e3cb90",
       "max": 642.0,
       "min": 0.0,
       "orientation": "horizontal",
       "style": "IPY_MODEL_41f62f0fcc7a463baa981f65c1268f9d",
       "value": 642.0
      }
     },
     "bdb9f5472f3c4ba193e2480316a219c3": {
      "model_module": "@jupyter-widgets/base",
      "model_module_version": "1.2.0",
      "model_name": "LayoutModel",
      "state": {
       "_model_module": "@jupyter-widgets/base",
       "_model_module_version": "1.2.0",
       "_model_name": "LayoutModel",
       "_view_count": null,
       "_view_module": "@jupyter-widgets/base",
       "_view_module_version": "1.2.0",
       "_view_name": "LayoutView",
       "align_content": null,
       "align_items": null,
       "align_self": null,
       "border": null,
       "bottom": null,
       "display": null,
       "flex": null,
       "flex_flow": null,
       "grid_area": null,
       "grid_auto_columns": null,
       "grid_auto_flow": null,
       "grid_auto_rows": null,
       "grid_column": null,
       "grid_gap": null,
       "grid_row": null,
       "grid_template_areas": null,
       "grid_template_columns": null,
       "grid_template_rows": null,
       "height": null,
       "justify_content": null,
       "justify_items": null,
       "left": null,
       "margin": null,
       "max_height": null,
       "max_width": null,
       "min_height": null,
       "min_width": null,
       "object_fit": null,
       "object_position": null,
       "order": null,
       "overflow": null,
       "overflow_x": null,
       "overflow_y": null,
       "padding": null,
       "right": null,
       "top": null,
       "visibility": null,
       "width": null
      }
     },
     "c1b008a6a442459294ae12f1b75d936b": {
      "model_module": "@jupyter-widgets/controls",
      "model_module_version": "1.5.0",
      "model_name": "HBoxModel",
      "state": {
       "_dom_classes": [],
       "_model_module": "@jupyter-widgets/controls",
       "_model_module_version": "1.5.0",
       "_model_name": "HBoxModel",
       "_view_count": null,
       "_view_module": "@jupyter-widgets/controls",
       "_view_module_version": "1.5.0",
       "_view_name": "HBoxView",
       "box_style": "",
       "children": [
        "IPY_MODEL_eca8000eb78348e495781c3f671a19ec",
        "IPY_MODEL_71938a64ce3049f9958f37cf474b344a",
        "IPY_MODEL_f396d254fcbb4f829273f08d4e289655"
       ],
       "layout": "IPY_MODEL_24960e0bf2b94c71a3ae215eca62e917"
      }
     },
     "cd343153cd304569b93a6bad8387ff97": {
      "model_module": "@jupyter-widgets/controls",
      "model_module_version": "1.5.0",
      "model_name": "HTMLModel",
      "state": {
       "_dom_classes": [],
       "_model_module": "@jupyter-widgets/controls",
       "_model_module_version": "1.5.0",
       "_model_name": "HTMLModel",
       "_view_count": null,
       "_view_module": "@jupyter-widgets/controls",
       "_view_module_version": "1.5.0",
       "_view_name": "HTMLView",
       "description": "",
       "description_tooltip": null,
       "layout": "IPY_MODEL_5a21f6f91ce04625bfe239f4b0a15c3c",
       "placeholder": "​",
       "style": "IPY_MODEL_fb1f51adb5184644af30e18cfdb262b0",
       "value": "Downloading: 100%"
      }
     },
     "cf15f4538df24b7a88f88e008938834c": {
      "model_module": "@jupyter-widgets/controls",
      "model_module_version": "1.5.0",
      "model_name": "FloatProgressModel",
      "state": {
       "_dom_classes": [],
       "_model_module": "@jupyter-widgets/controls",
       "_model_module_version": "1.5.0",
       "_model_name": "FloatProgressModel",
       "_view_count": null,
       "_view_module": "@jupyter-widgets/controls",
       "_view_module_version": "1.5.0",
       "_view_name": "ProgressView",
       "bar_style": "success",
       "description": "",
       "description_tooltip": null,
       "layout": "IPY_MODEL_3c5065a3e96147db991270ebe22fe0ae",
       "max": 1649718.0,
       "min": 0.0,
       "orientation": "horizontal",
       "style": "IPY_MODEL_5c90efe63c3041c7a39719d854dd8a7c",
       "value": 1649718.0
      }
     },
     "db48514e82ef4a1098a7dfcf77fa3626": {
      "model_module": "@jupyter-widgets/base",
      "model_module_version": "1.2.0",
      "model_name": "LayoutModel",
      "state": {
       "_model_module": "@jupyter-widgets/base",
       "_model_module_version": "1.2.0",
       "_model_name": "LayoutModel",
       "_view_count": null,
       "_view_module": "@jupyter-widgets/base",
       "_view_module_version": "1.2.0",
       "_view_name": "LayoutView",
       "align_content": null,
       "align_items": null,
       "align_self": null,
       "border": null,
       "bottom": null,
       "display": null,
       "flex": null,
       "flex_flow": null,
       "grid_area": null,
       "grid_auto_columns": null,
       "grid_auto_flow": null,
       "grid_auto_rows": null,
       "grid_column": null,
       "grid_gap": null,
       "grid_row": null,
       "grid_template_areas": null,
       "grid_template_columns": null,
       "grid_template_rows": null,
       "height": null,
       "justify_content": null,
       "justify_items": null,
       "left": null,
       "margin": null,
       "max_height": null,
       "max_width": null,
       "min_height": null,
       "min_width": null,
       "object_fit": null,
       "object_position": null,
       "order": null,
       "overflow": null,
       "overflow_x": null,
       "overflow_y": null,
       "padding": null,
       "right": null,
       "top": null,
       "visibility": null,
       "width": null
      }
     },
     "e5832c81e6364fc5baf9dbbcaf1fcb8c": {
      "model_module": "@jupyter-widgets/controls",
      "model_module_version": "1.5.0",
      "model_name": "DescriptionStyleModel",
      "state": {
       "_model_module": "@jupyter-widgets/controls",
       "_model_module_version": "1.5.0",
       "_model_name": "DescriptionStyleModel",
       "_view_count": null,
       "_view_module": "@jupyter-widgets/base",
       "_view_module_version": "1.2.0",
       "_view_name": "StyleView",
       "description_width": ""
      }
     },
     "e71396b85d4a4ff6be6cca51772559ab": {
      "model_module": "@jupyter-widgets/controls",
      "model_module_version": "1.5.0",
      "model_name": "HTMLModel",
      "state": {
       "_dom_classes": [],
       "_model_module": "@jupyter-widgets/controls",
       "_model_module_version": "1.5.0",
       "_model_name": "HTMLModel",
       "_view_count": null,
       "_view_module": "@jupyter-widgets/controls",
       "_view_module_version": "1.5.0",
       "_view_name": "HTMLView",
       "description": "",
       "description_tooltip": null,
       "layout": "IPY_MODEL_bdb9f5472f3c4ba193e2480316a219c3",
       "placeholder": "​",
       "style": "IPY_MODEL_034a418ec1e04159a62dad72fe1d24bc",
       "value": " 642/642 [00:00&lt;00:00, 19.5kB/s]"
      }
     },
     "eca8000eb78348e495781c3f671a19ec": {
      "model_module": "@jupyter-widgets/controls",
      "model_module_version": "1.5.0",
      "model_name": "HTMLModel",
      "state": {
       "_dom_classes": [],
       "_model_module": "@jupyter-widgets/controls",
       "_model_module_version": "1.5.0",
       "_model_name": "HTMLModel",
       "_view_count": null,
       "_view_module": "@jupyter-widgets/controls",
       "_view_module_version": "1.5.0",
       "_view_name": "HTMLView",
       "description": "",
       "description_tooltip": null,
       "layout": "IPY_MODEL_7a2a8b41757a42a4af30a722c4883198",
       "placeholder": "​",
       "style": "IPY_MODEL_2ce4db0aba454eb69410049ce4114d0e",
       "value": "Downloading: 100%"
      }
     },
     "ee282152a1504a65b64d0f04eda07b11": {
      "model_module": "@jupyter-widgets/base",
      "model_module_version": "1.2.0",
      "model_name": "LayoutModel",
      "state": {
       "_model_module": "@jupyter-widgets/base",
       "_model_module_version": "1.2.0",
       "_model_name": "LayoutModel",
       "_view_count": null,
       "_view_module": "@jupyter-widgets/base",
       "_view_module_version": "1.2.0",
       "_view_name": "LayoutView",
       "align_content": null,
       "align_items": null,
       "align_self": null,
       "border": null,
       "bottom": null,
       "display": null,
       "flex": null,
       "flex_flow": null,
       "grid_area": null,
       "grid_auto_columns": null,
       "grid_auto_flow": null,
       "grid_auto_rows": null,
       "grid_column": null,
       "grid_gap": null,
       "grid_row": null,
       "grid_template_areas": null,
       "grid_template_columns": null,
       "grid_template_rows": null,
       "height": null,
       "justify_content": null,
       "justify_items": null,
       "left": null,
       "margin": null,
       "max_height": null,
       "max_width": null,
       "min_height": null,
       "min_width": null,
       "object_fit": null,
       "object_position": null,
       "order": null,
       "overflow": null,
       "overflow_x": null,
       "overflow_y": null,
       "padding": null,
       "right": null,
       "top": null,
       "visibility": null,
       "width": null
      }
     },
     "f396d254fcbb4f829273f08d4e289655": {
      "model_module": "@jupyter-widgets/controls",
      "model_module_version": "1.5.0",
      "model_name": "HTMLModel",
      "state": {
       "_dom_classes": [],
       "_model_module": "@jupyter-widgets/controls",
       "_model_module_version": "1.5.0",
       "_model_name": "HTMLModel",
       "_view_count": null,
       "_view_module": "@jupyter-widgets/controls",
       "_view_module_version": "1.5.0",
       "_view_name": "HTMLView",
       "description": "",
       "description_tooltip": null,
       "layout": "IPY_MODEL_5fc21ab43bbc4fc1a99ae9fbc9177861",
       "placeholder": "​",
       "style": "IPY_MODEL_e5832c81e6364fc5baf9dbbcaf1fcb8c",
       "value": " 112/112 [00:00&lt;00:00, 3.33kB/s]"
      }
     },
     "f6d2eacb594b428da10648118a62093b": {
      "model_module": "@jupyter-widgets/base",
      "model_module_version": "1.2.0",
      "model_name": "LayoutModel",
      "state": {
       "_model_module": "@jupyter-widgets/base",
       "_model_module_version": "1.2.0",
       "_model_name": "LayoutModel",
       "_view_count": null,
       "_view_module": "@jupyter-widgets/base",
       "_view_module_version": "1.2.0",
       "_view_name": "LayoutView",
       "align_content": null,
       "align_items": null,
       "align_self": null,
       "border": null,
       "bottom": null,
       "display": null,
       "flex": null,
       "flex_flow": null,
       "grid_area": null,
       "grid_auto_columns": null,
       "grid_auto_flow": null,
       "grid_auto_rows": null,
       "grid_column": null,
       "grid_gap": null,
       "grid_row": null,
       "grid_template_areas": null,
       "grid_template_columns": null,
       "grid_template_rows": null,
       "height": null,
       "justify_content": null,
       "justify_items": null,
       "left": null,
       "margin": null,
       "max_height": null,
       "max_width": null,
       "min_height": null,
       "min_width": null,
       "object_fit": null,
       "object_position": null,
       "order": null,
       "overflow": null,
       "overflow_x": null,
       "overflow_y": null,
       "padding": null,
       "right": null,
       "top": null,
       "visibility": null,
       "width": null
      }
     },
     "f7cb9fba2ea74ef3b7845ae753b4947d": {
      "model_module": "@jupyter-widgets/base",
      "model_module_version": "1.2.0",
      "model_name": "LayoutModel",
      "state": {
       "_model_module": "@jupyter-widgets/base",
       "_model_module_version": "1.2.0",
       "_model_name": "LayoutModel",
       "_view_count": null,
       "_view_module": "@jupyter-widgets/base",
       "_view_module_version": "1.2.0",
       "_view_name": "LayoutView",
       "align_content": null,
       "align_items": null,
       "align_self": null,
       "border": null,
       "bottom": null,
       "display": null,
       "flex": null,
       "flex_flow": null,
       "grid_area": null,
       "grid_auto_columns": null,
       "grid_auto_flow": null,
       "grid_auto_rows": null,
       "grid_column": null,
       "grid_gap": null,
       "grid_row": null,
       "grid_template_areas": null,
       "grid_template_columns": null,
       "grid_template_rows": null,
       "height": null,
       "justify_content": null,
       "justify_items": null,
       "left": null,
       "margin": null,
       "max_height": null,
       "max_width": null,
       "min_height": null,
       "min_width": null,
       "object_fit": null,
       "object_position": null,
       "order": null,
       "overflow": null,
       "overflow_x": null,
       "overflow_y": null,
       "padding": null,
       "right": null,
       "top": null,
       "visibility": null,
       "width": null
      }
     },
     "fa7a170b782642e198e71beb02e9680e": {
      "model_module": "@jupyter-widgets/controls",
      "model_module_version": "1.5.0",
      "model_name": "FloatProgressModel",
      "state": {
       "_dom_classes": [],
       "_model_module": "@jupyter-widgets/controls",
       "_model_module_version": "1.5.0",
       "_model_name": "FloatProgressModel",
       "_view_count": null,
       "_view_module": "@jupyter-widgets/controls",
       "_view_module_version": "1.5.0",
       "_view_name": "ProgressView",
       "bar_style": "success",
       "description": "",
       "description_tooltip": null,
       "layout": "IPY_MODEL_ff2ecef3952c4a2faefc67bd6ec18638",
       "max": 24.0,
       "min": 0.0,
       "orientation": "horizontal",
       "style": "IPY_MODEL_2b6255a2493a4faa88551af60b0afae4",
       "value": 24.0
      }
     },
     "fb1f51adb5184644af30e18cfdb262b0": {
      "model_module": "@jupyter-widgets/controls",
      "model_module_version": "1.5.0",
      "model_name": "DescriptionStyleModel",
      "state": {
       "_model_module": "@jupyter-widgets/controls",
       "_model_module_version": "1.5.0",
       "_model_name": "DescriptionStyleModel",
       "_view_count": null,
       "_view_module": "@jupyter-widgets/base",
       "_view_module_version": "1.2.0",
       "_view_name": "StyleView",
       "description_width": ""
      }
     },
     "ff2ecef3952c4a2faefc67bd6ec18638": {
      "model_module": "@jupyter-widgets/base",
      "model_module_version": "1.2.0",
      "model_name": "LayoutModel",
      "state": {
       "_model_module": "@jupyter-widgets/base",
       "_model_module_version": "1.2.0",
       "_model_name": "LayoutModel",
       "_view_count": null,
       "_view_module": "@jupyter-widgets/base",
       "_view_module_version": "1.2.0",
       "_view_name": "LayoutView",
       "align_content": null,
       "align_items": null,
       "align_self": null,
       "border": null,
       "bottom": null,
       "display": null,
       "flex": null,
       "flex_flow": null,
       "grid_area": null,
       "grid_auto_columns": null,
       "grid_auto_flow": null,
       "grid_auto_rows": null,
       "grid_column": null,
       "grid_gap": null,
       "grid_row": null,
       "grid_template_areas": null,
       "grid_template_columns": null,
       "grid_template_rows": null,
       "height": null,
       "justify_content": null,
       "justify_items": null,
       "left": null,
       "margin": null,
       "max_height": null,
       "max_width": null,
       "min_height": null,
       "min_width": null,
       "object_fit": null,
       "object_position": null,
       "order": null,
       "overflow": null,
       "overflow_x": null,
       "overflow_y": null,
       "padding": null,
       "right": null,
       "top": null,
       "visibility": null,
       "width": null
      }
     }
    },
    "version_major": 2,
    "version_minor": 0
   }
  }
 },
 "nbformat": 4,
 "nbformat_minor": 5
}
