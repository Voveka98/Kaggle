{
  "metadata": {
    "kernelspec": {
      "language": "python",
      "display_name": "Python 3",
      "name": "python3"
    },
    "language_info": {
      "name": "python",
      "version": "3.7.12",
      "mimetype": "text/x-python",
      "codemirror_mode": {
        "name": "ipython",
        "version": 3
      },
      "pygments_lexer": "ipython3",
      "nbconvert_exporter": "python",
      "file_extension": ".py"
    },
    "colab": {
      "name": "ner-conll2003-pytorch.ipynb",
      "provenance": []
    },
    "accelerator": "GPU",
    "widgets": {
      "application/vnd.jupyter.widget-state+json": {
        "c9cd6e2908524a8e9e966d69e7c833de": {
          "model_module": "@jupyter-widgets/controls",
          "model_name": "HBoxModel",
          "model_module_version": "1.5.0",
          "state": {
            "_view_name": "HBoxView",
            "_dom_classes": [],
            "_model_name": "HBoxModel",
            "_view_module": "@jupyter-widgets/controls",
            "_model_module_version": "1.5.0",
            "_view_count": null,
            "_view_module_version": "1.5.0",
            "box_style": "",
            "layout": "IPY_MODEL_0c1eaf532023427194fb814d08f334cd",
            "_model_module": "@jupyter-widgets/controls",
            "children": [
              "IPY_MODEL_852fa8506bf44358a8d667bf4de600a2",
              "IPY_MODEL_6d87234e0dc94c508357cf2be91e3db0",
              "IPY_MODEL_6ec5f955dcc54dfb85aed2c7bfe92854"
            ]
          }
        },
        "0c1eaf532023427194fb814d08f334cd": {
          "model_module": "@jupyter-widgets/base",
          "model_name": "LayoutModel",
          "model_module_version": "1.2.0",
          "state": {
            "_view_name": "LayoutView",
            "grid_template_rows": null,
            "right": null,
            "justify_content": null,
            "_view_module": "@jupyter-widgets/base",
            "overflow": null,
            "_model_module_version": "1.2.0",
            "_view_count": null,
            "flex_flow": null,
            "width": null,
            "min_width": null,
            "border": null,
            "align_items": null,
            "bottom": null,
            "_model_module": "@jupyter-widgets/base",
            "top": null,
            "grid_column": null,
            "overflow_y": null,
            "overflow_x": null,
            "grid_auto_flow": null,
            "grid_area": null,
            "grid_template_columns": null,
            "flex": null,
            "_model_name": "LayoutModel",
            "justify_items": null,
            "grid_row": null,
            "max_height": null,
            "align_content": null,
            "visibility": null,
            "align_self": null,
            "height": null,
            "min_height": null,
            "padding": null,
            "grid_auto_rows": null,
            "grid_gap": null,
            "max_width": null,
            "order": null,
            "_view_module_version": "1.2.0",
            "grid_template_areas": null,
            "object_position": null,
            "object_fit": null,
            "grid_auto_columns": null,
            "margin": null,
            "display": null,
            "left": null
          }
        },
        "852fa8506bf44358a8d667bf4de600a2": {
          "model_module": "@jupyter-widgets/controls",
          "model_name": "HTMLModel",
          "model_module_version": "1.5.0",
          "state": {
            "_view_name": "HTMLView",
            "style": "IPY_MODEL_c982c104294f4199afbafb62572dcb95",
            "_dom_classes": [],
            "description": "",
            "_model_name": "HTMLModel",
            "placeholder": "​",
            "_view_module": "@jupyter-widgets/controls",
            "_model_module_version": "1.5.0",
            "value": "Downloading: 100%",
            "_view_count": null,
            "_view_module_version": "1.5.0",
            "description_tooltip": null,
            "_model_module": "@jupyter-widgets/controls",
            "layout": "IPY_MODEL_6cc8dd1d1b96400695264a33478fe8b2"
          }
        },
        "6d87234e0dc94c508357cf2be91e3db0": {
          "model_module": "@jupyter-widgets/controls",
          "model_name": "FloatProgressModel",
          "model_module_version": "1.5.0",
          "state": {
            "_view_name": "ProgressView",
            "style": "IPY_MODEL_5642639e5f424f25b4e9e8a4e6207e3d",
            "_dom_classes": [],
            "description": "",
            "_model_name": "FloatProgressModel",
            "bar_style": "success",
            "max": 28,
            "_view_module": "@jupyter-widgets/controls",
            "_model_module_version": "1.5.0",
            "value": 28,
            "_view_count": null,
            "_view_module_version": "1.5.0",
            "orientation": "horizontal",
            "min": 0,
            "description_tooltip": null,
            "_model_module": "@jupyter-widgets/controls",
            "layout": "IPY_MODEL_a97fadc1f08c4b3691904bf44a761927"
          }
        },
        "6ec5f955dcc54dfb85aed2c7bfe92854": {
          "model_module": "@jupyter-widgets/controls",
          "model_name": "HTMLModel",
          "model_module_version": "1.5.0",
          "state": {
            "_view_name": "HTMLView",
            "style": "IPY_MODEL_04a8d73f620f4ec5b4efc9a511fb5128",
            "_dom_classes": [],
            "description": "",
            "_model_name": "HTMLModel",
            "placeholder": "​",
            "_view_module": "@jupyter-widgets/controls",
            "_model_module_version": "1.5.0",
            "value": " 28.0/28.0 [00:00&lt;00:00, 881B/s]",
            "_view_count": null,
            "_view_module_version": "1.5.0",
            "description_tooltip": null,
            "_model_module": "@jupyter-widgets/controls",
            "layout": "IPY_MODEL_44ad4122455a4a23abef657a68ab5624"
          }
        },
        "c982c104294f4199afbafb62572dcb95": {
          "model_module": "@jupyter-widgets/controls",
          "model_name": "DescriptionStyleModel",
          "model_module_version": "1.5.0",
          "state": {
            "_view_name": "StyleView",
            "_model_name": "DescriptionStyleModel",
            "description_width": "",
            "_view_module": "@jupyter-widgets/base",
            "_model_module_version": "1.5.0",
            "_view_count": null,
            "_view_module_version": "1.2.0",
            "_model_module": "@jupyter-widgets/controls"
          }
        },
        "6cc8dd1d1b96400695264a33478fe8b2": {
          "model_module": "@jupyter-widgets/base",
          "model_name": "LayoutModel",
          "model_module_version": "1.2.0",
          "state": {
            "_view_name": "LayoutView",
            "grid_template_rows": null,
            "right": null,
            "justify_content": null,
            "_view_module": "@jupyter-widgets/base",
            "overflow": null,
            "_model_module_version": "1.2.0",
            "_view_count": null,
            "flex_flow": null,
            "width": null,
            "min_width": null,
            "border": null,
            "align_items": null,
            "bottom": null,
            "_model_module": "@jupyter-widgets/base",
            "top": null,
            "grid_column": null,
            "overflow_y": null,
            "overflow_x": null,
            "grid_auto_flow": null,
            "grid_area": null,
            "grid_template_columns": null,
            "flex": null,
            "_model_name": "LayoutModel",
            "justify_items": null,
            "grid_row": null,
            "max_height": null,
            "align_content": null,
            "visibility": null,
            "align_self": null,
            "height": null,
            "min_height": null,
            "padding": null,
            "grid_auto_rows": null,
            "grid_gap": null,
            "max_width": null,
            "order": null,
            "_view_module_version": "1.2.0",
            "grid_template_areas": null,
            "object_position": null,
            "object_fit": null,
            "grid_auto_columns": null,
            "margin": null,
            "display": null,
            "left": null
          }
        },
        "5642639e5f424f25b4e9e8a4e6207e3d": {
          "model_module": "@jupyter-widgets/controls",
          "model_name": "ProgressStyleModel",
          "model_module_version": "1.5.0",
          "state": {
            "_view_name": "StyleView",
            "_model_name": "ProgressStyleModel",
            "description_width": "",
            "_view_module": "@jupyter-widgets/base",
            "_model_module_version": "1.5.0",
            "_view_count": null,
            "_view_module_version": "1.2.0",
            "bar_color": null,
            "_model_module": "@jupyter-widgets/controls"
          }
        },
        "a97fadc1f08c4b3691904bf44a761927": {
          "model_module": "@jupyter-widgets/base",
          "model_name": "LayoutModel",
          "model_module_version": "1.2.0",
          "state": {
            "_view_name": "LayoutView",
            "grid_template_rows": null,
            "right": null,
            "justify_content": null,
            "_view_module": "@jupyter-widgets/base",
            "overflow": null,
            "_model_module_version": "1.2.0",
            "_view_count": null,
            "flex_flow": null,
            "width": null,
            "min_width": null,
            "border": null,
            "align_items": null,
            "bottom": null,
            "_model_module": "@jupyter-widgets/base",
            "top": null,
            "grid_column": null,
            "overflow_y": null,
            "overflow_x": null,
            "grid_auto_flow": null,
            "grid_area": null,
            "grid_template_columns": null,
            "flex": null,
            "_model_name": "LayoutModel",
            "justify_items": null,
            "grid_row": null,
            "max_height": null,
            "align_content": null,
            "visibility": null,
            "align_self": null,
            "height": null,
            "min_height": null,
            "padding": null,
            "grid_auto_rows": null,
            "grid_gap": null,
            "max_width": null,
            "order": null,
            "_view_module_version": "1.2.0",
            "grid_template_areas": null,
            "object_position": null,
            "object_fit": null,
            "grid_auto_columns": null,
            "margin": null,
            "display": null,
            "left": null
          }
        },
        "04a8d73f620f4ec5b4efc9a511fb5128": {
          "model_module": "@jupyter-widgets/controls",
          "model_name": "DescriptionStyleModel",
          "model_module_version": "1.5.0",
          "state": {
            "_view_name": "StyleView",
            "_model_name": "DescriptionStyleModel",
            "description_width": "",
            "_view_module": "@jupyter-widgets/base",
            "_model_module_version": "1.5.0",
            "_view_count": null,
            "_view_module_version": "1.2.0",
            "_model_module": "@jupyter-widgets/controls"
          }
        },
        "44ad4122455a4a23abef657a68ab5624": {
          "model_module": "@jupyter-widgets/base",
          "model_name": "LayoutModel",
          "model_module_version": "1.2.0",
          "state": {
            "_view_name": "LayoutView",
            "grid_template_rows": null,
            "right": null,
            "justify_content": null,
            "_view_module": "@jupyter-widgets/base",
            "overflow": null,
            "_model_module_version": "1.2.0",
            "_view_count": null,
            "flex_flow": null,
            "width": null,
            "min_width": null,
            "border": null,
            "align_items": null,
            "bottom": null,
            "_model_module": "@jupyter-widgets/base",
            "top": null,
            "grid_column": null,
            "overflow_y": null,
            "overflow_x": null,
            "grid_auto_flow": null,
            "grid_area": null,
            "grid_template_columns": null,
            "flex": null,
            "_model_name": "LayoutModel",
            "justify_items": null,
            "grid_row": null,
            "max_height": null,
            "align_content": null,
            "visibility": null,
            "align_self": null,
            "height": null,
            "min_height": null,
            "padding": null,
            "grid_auto_rows": null,
            "grid_gap": null,
            "max_width": null,
            "order": null,
            "_view_module_version": "1.2.0",
            "grid_template_areas": null,
            "object_position": null,
            "object_fit": null,
            "grid_auto_columns": null,
            "margin": null,
            "display": null,
            "left": null
          }
        },
        "4e945aaf27a84661af3e41ccb3ebdfa3": {
          "model_module": "@jupyter-widgets/controls",
          "model_name": "HBoxModel",
          "model_module_version": "1.5.0",
          "state": {
            "_view_name": "HBoxView",
            "_dom_classes": [],
            "_model_name": "HBoxModel",
            "_view_module": "@jupyter-widgets/controls",
            "_model_module_version": "1.5.0",
            "_view_count": null,
            "_view_module_version": "1.5.0",
            "box_style": "",
            "layout": "IPY_MODEL_cb67e262f1734217885d5e61590e2dae",
            "_model_module": "@jupyter-widgets/controls",
            "children": [
              "IPY_MODEL_193ed91d247d4c00b7e22b1d82fc6025",
              "IPY_MODEL_863be0f4ee7a4f8797d005a231e10383",
              "IPY_MODEL_96eb3e01f82c4959991e580b98399824"
            ]
          }
        },
        "cb67e262f1734217885d5e61590e2dae": {
          "model_module": "@jupyter-widgets/base",
          "model_name": "LayoutModel",
          "model_module_version": "1.2.0",
          "state": {
            "_view_name": "LayoutView",
            "grid_template_rows": null,
            "right": null,
            "justify_content": null,
            "_view_module": "@jupyter-widgets/base",
            "overflow": null,
            "_model_module_version": "1.2.0",
            "_view_count": null,
            "flex_flow": null,
            "width": null,
            "min_width": null,
            "border": null,
            "align_items": null,
            "bottom": null,
            "_model_module": "@jupyter-widgets/base",
            "top": null,
            "grid_column": null,
            "overflow_y": null,
            "overflow_x": null,
            "grid_auto_flow": null,
            "grid_area": null,
            "grid_template_columns": null,
            "flex": null,
            "_model_name": "LayoutModel",
            "justify_items": null,
            "grid_row": null,
            "max_height": null,
            "align_content": null,
            "visibility": null,
            "align_self": null,
            "height": null,
            "min_height": null,
            "padding": null,
            "grid_auto_rows": null,
            "grid_gap": null,
            "max_width": null,
            "order": null,
            "_view_module_version": "1.2.0",
            "grid_template_areas": null,
            "object_position": null,
            "object_fit": null,
            "grid_auto_columns": null,
            "margin": null,
            "display": null,
            "left": null
          }
        },
        "193ed91d247d4c00b7e22b1d82fc6025": {
          "model_module": "@jupyter-widgets/controls",
          "model_name": "HTMLModel",
          "model_module_version": "1.5.0",
          "state": {
            "_view_name": "HTMLView",
            "style": "IPY_MODEL_aed2629394884f04b0df17dec6038b15",
            "_dom_classes": [],
            "description": "",
            "_model_name": "HTMLModel",
            "placeholder": "​",
            "_view_module": "@jupyter-widgets/controls",
            "_model_module_version": "1.5.0",
            "value": "Downloading: 100%",
            "_view_count": null,
            "_view_module_version": "1.5.0",
            "description_tooltip": null,
            "_model_module": "@jupyter-widgets/controls",
            "layout": "IPY_MODEL_bf69798e74854dfa9e9779f897d45f66"
          }
        },
        "863be0f4ee7a4f8797d005a231e10383": {
          "model_module": "@jupyter-widgets/controls",
          "model_name": "FloatProgressModel",
          "model_module_version": "1.5.0",
          "state": {
            "_view_name": "ProgressView",
            "style": "IPY_MODEL_c5f5c441b372494b9191f907a7ba020e",
            "_dom_classes": [],
            "description": "",
            "_model_name": "FloatProgressModel",
            "bar_style": "success",
            "max": 570,
            "_view_module": "@jupyter-widgets/controls",
            "_model_module_version": "1.5.0",
            "value": 570,
            "_view_count": null,
            "_view_module_version": "1.5.0",
            "orientation": "horizontal",
            "min": 0,
            "description_tooltip": null,
            "_model_module": "@jupyter-widgets/controls",
            "layout": "IPY_MODEL_6804cc3edb864c798dbd7db0e7a43aea"
          }
        },
        "96eb3e01f82c4959991e580b98399824": {
          "model_module": "@jupyter-widgets/controls",
          "model_name": "HTMLModel",
          "model_module_version": "1.5.0",
          "state": {
            "_view_name": "HTMLView",
            "style": "IPY_MODEL_f6967829c9c5429d8c39ce8ad85f7b60",
            "_dom_classes": [],
            "description": "",
            "_model_name": "HTMLModel",
            "placeholder": "​",
            "_view_module": "@jupyter-widgets/controls",
            "_model_module_version": "1.5.0",
            "value": " 570/570 [00:00&lt;00:00, 12.7kB/s]",
            "_view_count": null,
            "_view_module_version": "1.5.0",
            "description_tooltip": null,
            "_model_module": "@jupyter-widgets/controls",
            "layout": "IPY_MODEL_cfded3a5f0dc4be894244819d8717d00"
          }
        },
        "aed2629394884f04b0df17dec6038b15": {
          "model_module": "@jupyter-widgets/controls",
          "model_name": "DescriptionStyleModel",
          "model_module_version": "1.5.0",
          "state": {
            "_view_name": "StyleView",
            "_model_name": "DescriptionStyleModel",
            "description_width": "",
            "_view_module": "@jupyter-widgets/base",
            "_model_module_version": "1.5.0",
            "_view_count": null,
            "_view_module_version": "1.2.0",
            "_model_module": "@jupyter-widgets/controls"
          }
        },
        "bf69798e74854dfa9e9779f897d45f66": {
          "model_module": "@jupyter-widgets/base",
          "model_name": "LayoutModel",
          "model_module_version": "1.2.0",
          "state": {
            "_view_name": "LayoutView",
            "grid_template_rows": null,
            "right": null,
            "justify_content": null,
            "_view_module": "@jupyter-widgets/base",
            "overflow": null,
            "_model_module_version": "1.2.0",
            "_view_count": null,
            "flex_flow": null,
            "width": null,
            "min_width": null,
            "border": null,
            "align_items": null,
            "bottom": null,
            "_model_module": "@jupyter-widgets/base",
            "top": null,
            "grid_column": null,
            "overflow_y": null,
            "overflow_x": null,
            "grid_auto_flow": null,
            "grid_area": null,
            "grid_template_columns": null,
            "flex": null,
            "_model_name": "LayoutModel",
            "justify_items": null,
            "grid_row": null,
            "max_height": null,
            "align_content": null,
            "visibility": null,
            "align_self": null,
            "height": null,
            "min_height": null,
            "padding": null,
            "grid_auto_rows": null,
            "grid_gap": null,
            "max_width": null,
            "order": null,
            "_view_module_version": "1.2.0",
            "grid_template_areas": null,
            "object_position": null,
            "object_fit": null,
            "grid_auto_columns": null,
            "margin": null,
            "display": null,
            "left": null
          }
        },
        "c5f5c441b372494b9191f907a7ba020e": {
          "model_module": "@jupyter-widgets/controls",
          "model_name": "ProgressStyleModel",
          "model_module_version": "1.5.0",
          "state": {
            "_view_name": "StyleView",
            "_model_name": "ProgressStyleModel",
            "description_width": "",
            "_view_module": "@jupyter-widgets/base",
            "_model_module_version": "1.5.0",
            "_view_count": null,
            "_view_module_version": "1.2.0",
            "bar_color": null,
            "_model_module": "@jupyter-widgets/controls"
          }
        },
        "6804cc3edb864c798dbd7db0e7a43aea": {
          "model_module": "@jupyter-widgets/base",
          "model_name": "LayoutModel",
          "model_module_version": "1.2.0",
          "state": {
            "_view_name": "LayoutView",
            "grid_template_rows": null,
            "right": null,
            "justify_content": null,
            "_view_module": "@jupyter-widgets/base",
            "overflow": null,
            "_model_module_version": "1.2.0",
            "_view_count": null,
            "flex_flow": null,
            "width": null,
            "min_width": null,
            "border": null,
            "align_items": null,
            "bottom": null,
            "_model_module": "@jupyter-widgets/base",
            "top": null,
            "grid_column": null,
            "overflow_y": null,
            "overflow_x": null,
            "grid_auto_flow": null,
            "grid_area": null,
            "grid_template_columns": null,
            "flex": null,
            "_model_name": "LayoutModel",
            "justify_items": null,
            "grid_row": null,
            "max_height": null,
            "align_content": null,
            "visibility": null,
            "align_self": null,
            "height": null,
            "min_height": null,
            "padding": null,
            "grid_auto_rows": null,
            "grid_gap": null,
            "max_width": null,
            "order": null,
            "_view_module_version": "1.2.0",
            "grid_template_areas": null,
            "object_position": null,
            "object_fit": null,
            "grid_auto_columns": null,
            "margin": null,
            "display": null,
            "left": null
          }
        },
        "f6967829c9c5429d8c39ce8ad85f7b60": {
          "model_module": "@jupyter-widgets/controls",
          "model_name": "DescriptionStyleModel",
          "model_module_version": "1.5.0",
          "state": {
            "_view_name": "StyleView",
            "_model_name": "DescriptionStyleModel",
            "description_width": "",
            "_view_module": "@jupyter-widgets/base",
            "_model_module_version": "1.5.0",
            "_view_count": null,
            "_view_module_version": "1.2.0",
            "_model_module": "@jupyter-widgets/controls"
          }
        },
        "cfded3a5f0dc4be894244819d8717d00": {
          "model_module": "@jupyter-widgets/base",
          "model_name": "LayoutModel",
          "model_module_version": "1.2.0",
          "state": {
            "_view_name": "LayoutView",
            "grid_template_rows": null,
            "right": null,
            "justify_content": null,
            "_view_module": "@jupyter-widgets/base",
            "overflow": null,
            "_model_module_version": "1.2.0",
            "_view_count": null,
            "flex_flow": null,
            "width": null,
            "min_width": null,
            "border": null,
            "align_items": null,
            "bottom": null,
            "_model_module": "@jupyter-widgets/base",
            "top": null,
            "grid_column": null,
            "overflow_y": null,
            "overflow_x": null,
            "grid_auto_flow": null,
            "grid_area": null,
            "grid_template_columns": null,
            "flex": null,
            "_model_name": "LayoutModel",
            "justify_items": null,
            "grid_row": null,
            "max_height": null,
            "align_content": null,
            "visibility": null,
            "align_self": null,
            "height": null,
            "min_height": null,
            "padding": null,
            "grid_auto_rows": null,
            "grid_gap": null,
            "max_width": null,
            "order": null,
            "_view_module_version": "1.2.0",
            "grid_template_areas": null,
            "object_position": null,
            "object_fit": null,
            "grid_auto_columns": null,
            "margin": null,
            "display": null,
            "left": null
          }
        },
        "295c9fe21e2e47a1a050da128e7859ec": {
          "model_module": "@jupyter-widgets/controls",
          "model_name": "HBoxModel",
          "model_module_version": "1.5.0",
          "state": {
            "_view_name": "HBoxView",
            "_dom_classes": [],
            "_model_name": "HBoxModel",
            "_view_module": "@jupyter-widgets/controls",
            "_model_module_version": "1.5.0",
            "_view_count": null,
            "_view_module_version": "1.5.0",
            "box_style": "",
            "layout": "IPY_MODEL_0dbae7d2147d496b890cb57218e6461e",
            "_model_module": "@jupyter-widgets/controls",
            "children": [
              "IPY_MODEL_b767c980b79b4f6fbb667fcf5777048b",
              "IPY_MODEL_01b72e88678e41aabd9786e152cb7569",
              "IPY_MODEL_12499fe2720e40158f67057a497f78b0"
            ]
          }
        },
        "0dbae7d2147d496b890cb57218e6461e": {
          "model_module": "@jupyter-widgets/base",
          "model_name": "LayoutModel",
          "model_module_version": "1.2.0",
          "state": {
            "_view_name": "LayoutView",
            "grid_template_rows": null,
            "right": null,
            "justify_content": null,
            "_view_module": "@jupyter-widgets/base",
            "overflow": null,
            "_model_module_version": "1.2.0",
            "_view_count": null,
            "flex_flow": null,
            "width": null,
            "min_width": null,
            "border": null,
            "align_items": null,
            "bottom": null,
            "_model_module": "@jupyter-widgets/base",
            "top": null,
            "grid_column": null,
            "overflow_y": null,
            "overflow_x": null,
            "grid_auto_flow": null,
            "grid_area": null,
            "grid_template_columns": null,
            "flex": null,
            "_model_name": "LayoutModel",
            "justify_items": null,
            "grid_row": null,
            "max_height": null,
            "align_content": null,
            "visibility": null,
            "align_self": null,
            "height": null,
            "min_height": null,
            "padding": null,
            "grid_auto_rows": null,
            "grid_gap": null,
            "max_width": null,
            "order": null,
            "_view_module_version": "1.2.0",
            "grid_template_areas": null,
            "object_position": null,
            "object_fit": null,
            "grid_auto_columns": null,
            "margin": null,
            "display": null,
            "left": null
          }
        },
        "b767c980b79b4f6fbb667fcf5777048b": {
          "model_module": "@jupyter-widgets/controls",
          "model_name": "HTMLModel",
          "model_module_version": "1.5.0",
          "state": {
            "_view_name": "HTMLView",
            "style": "IPY_MODEL_5aea9e22eb794936be2aee5e6796a4c9",
            "_dom_classes": [],
            "description": "",
            "_model_name": "HTMLModel",
            "placeholder": "​",
            "_view_module": "@jupyter-widgets/controls",
            "_model_module_version": "1.5.0",
            "value": "Downloading: 100%",
            "_view_count": null,
            "_view_module_version": "1.5.0",
            "description_tooltip": null,
            "_model_module": "@jupyter-widgets/controls",
            "layout": "IPY_MODEL_387a920be939414bb61c34bfc75d0bda"
          }
        },
        "01b72e88678e41aabd9786e152cb7569": {
          "model_module": "@jupyter-widgets/controls",
          "model_name": "FloatProgressModel",
          "model_module_version": "1.5.0",
          "state": {
            "_view_name": "ProgressView",
            "style": "IPY_MODEL_caaa7bb07b3045bfa2fa5e8b9cbf97cf",
            "_dom_classes": [],
            "description": "",
            "_model_name": "FloatProgressModel",
            "bar_style": "success",
            "max": 231508,
            "_view_module": "@jupyter-widgets/controls",
            "_model_module_version": "1.5.0",
            "value": 231508,
            "_view_count": null,
            "_view_module_version": "1.5.0",
            "orientation": "horizontal",
            "min": 0,
            "description_tooltip": null,
            "_model_module": "@jupyter-widgets/controls",
            "layout": "IPY_MODEL_222e56474f7c4e63a5483aed6298f324"
          }
        },
        "12499fe2720e40158f67057a497f78b0": {
          "model_module": "@jupyter-widgets/controls",
          "model_name": "HTMLModel",
          "model_module_version": "1.5.0",
          "state": {
            "_view_name": "HTMLView",
            "style": "IPY_MODEL_29bd70d3b5604f38a343139f3c9d444a",
            "_dom_classes": [],
            "description": "",
            "_model_name": "HTMLModel",
            "placeholder": "​",
            "_view_module": "@jupyter-widgets/controls",
            "_model_module_version": "1.5.0",
            "value": " 226k/226k [00:00&lt;00:00, 2.60MB/s]",
            "_view_count": null,
            "_view_module_version": "1.5.0",
            "description_tooltip": null,
            "_model_module": "@jupyter-widgets/controls",
            "layout": "IPY_MODEL_3feff1b9f51c403695666ac31dc1e76e"
          }
        },
        "5aea9e22eb794936be2aee5e6796a4c9": {
          "model_module": "@jupyter-widgets/controls",
          "model_name": "DescriptionStyleModel",
          "model_module_version": "1.5.0",
          "state": {
            "_view_name": "StyleView",
            "_model_name": "DescriptionStyleModel",
            "description_width": "",
            "_view_module": "@jupyter-widgets/base",
            "_model_module_version": "1.5.0",
            "_view_count": null,
            "_view_module_version": "1.2.0",
            "_model_module": "@jupyter-widgets/controls"
          }
        },
        "387a920be939414bb61c34bfc75d0bda": {
          "model_module": "@jupyter-widgets/base",
          "model_name": "LayoutModel",
          "model_module_version": "1.2.0",
          "state": {
            "_view_name": "LayoutView",
            "grid_template_rows": null,
            "right": null,
            "justify_content": null,
            "_view_module": "@jupyter-widgets/base",
            "overflow": null,
            "_model_module_version": "1.2.0",
            "_view_count": null,
            "flex_flow": null,
            "width": null,
            "min_width": null,
            "border": null,
            "align_items": null,
            "bottom": null,
            "_model_module": "@jupyter-widgets/base",
            "top": null,
            "grid_column": null,
            "overflow_y": null,
            "overflow_x": null,
            "grid_auto_flow": null,
            "grid_area": null,
            "grid_template_columns": null,
            "flex": null,
            "_model_name": "LayoutModel",
            "justify_items": null,
            "grid_row": null,
            "max_height": null,
            "align_content": null,
            "visibility": null,
            "align_self": null,
            "height": null,
            "min_height": null,
            "padding": null,
            "grid_auto_rows": null,
            "grid_gap": null,
            "max_width": null,
            "order": null,
            "_view_module_version": "1.2.0",
            "grid_template_areas": null,
            "object_position": null,
            "object_fit": null,
            "grid_auto_columns": null,
            "margin": null,
            "display": null,
            "left": null
          }
        },
        "caaa7bb07b3045bfa2fa5e8b9cbf97cf": {
          "model_module": "@jupyter-widgets/controls",
          "model_name": "ProgressStyleModel",
          "model_module_version": "1.5.0",
          "state": {
            "_view_name": "StyleView",
            "_model_name": "ProgressStyleModel",
            "description_width": "",
            "_view_module": "@jupyter-widgets/base",
            "_model_module_version": "1.5.0",
            "_view_count": null,
            "_view_module_version": "1.2.0",
            "bar_color": null,
            "_model_module": "@jupyter-widgets/controls"
          }
        },
        "222e56474f7c4e63a5483aed6298f324": {
          "model_module": "@jupyter-widgets/base",
          "model_name": "LayoutModel",
          "model_module_version": "1.2.0",
          "state": {
            "_view_name": "LayoutView",
            "grid_template_rows": null,
            "right": null,
            "justify_content": null,
            "_view_module": "@jupyter-widgets/base",
            "overflow": null,
            "_model_module_version": "1.2.0",
            "_view_count": null,
            "flex_flow": null,
            "width": null,
            "min_width": null,
            "border": null,
            "align_items": null,
            "bottom": null,
            "_model_module": "@jupyter-widgets/base",
            "top": null,
            "grid_column": null,
            "overflow_y": null,
            "overflow_x": null,
            "grid_auto_flow": null,
            "grid_area": null,
            "grid_template_columns": null,
            "flex": null,
            "_model_name": "LayoutModel",
            "justify_items": null,
            "grid_row": null,
            "max_height": null,
            "align_content": null,
            "visibility": null,
            "align_self": null,
            "height": null,
            "min_height": null,
            "padding": null,
            "grid_auto_rows": null,
            "grid_gap": null,
            "max_width": null,
            "order": null,
            "_view_module_version": "1.2.0",
            "grid_template_areas": null,
            "object_position": null,
            "object_fit": null,
            "grid_auto_columns": null,
            "margin": null,
            "display": null,
            "left": null
          }
        },
        "29bd70d3b5604f38a343139f3c9d444a": {
          "model_module": "@jupyter-widgets/controls",
          "model_name": "DescriptionStyleModel",
          "model_module_version": "1.5.0",
          "state": {
            "_view_name": "StyleView",
            "_model_name": "DescriptionStyleModel",
            "description_width": "",
            "_view_module": "@jupyter-widgets/base",
            "_model_module_version": "1.5.0",
            "_view_count": null,
            "_view_module_version": "1.2.0",
            "_model_module": "@jupyter-widgets/controls"
          }
        },
        "3feff1b9f51c403695666ac31dc1e76e": {
          "model_module": "@jupyter-widgets/base",
          "model_name": "LayoutModel",
          "model_module_version": "1.2.0",
          "state": {
            "_view_name": "LayoutView",
            "grid_template_rows": null,
            "right": null,
            "justify_content": null,
            "_view_module": "@jupyter-widgets/base",
            "overflow": null,
            "_model_module_version": "1.2.0",
            "_view_count": null,
            "flex_flow": null,
            "width": null,
            "min_width": null,
            "border": null,
            "align_items": null,
            "bottom": null,
            "_model_module": "@jupyter-widgets/base",
            "top": null,
            "grid_column": null,
            "overflow_y": null,
            "overflow_x": null,
            "grid_auto_flow": null,
            "grid_area": null,
            "grid_template_columns": null,
            "flex": null,
            "_model_name": "LayoutModel",
            "justify_items": null,
            "grid_row": null,
            "max_height": null,
            "align_content": null,
            "visibility": null,
            "align_self": null,
            "height": null,
            "min_height": null,
            "padding": null,
            "grid_auto_rows": null,
            "grid_gap": null,
            "max_width": null,
            "order": null,
            "_view_module_version": "1.2.0",
            "grid_template_areas": null,
            "object_position": null,
            "object_fit": null,
            "grid_auto_columns": null,
            "margin": null,
            "display": null,
            "left": null
          }
        },
        "879c858099484b7fad3aadb076be6d33": {
          "model_module": "@jupyter-widgets/controls",
          "model_name": "HBoxModel",
          "model_module_version": "1.5.0",
          "state": {
            "_view_name": "HBoxView",
            "_dom_classes": [],
            "_model_name": "HBoxModel",
            "_view_module": "@jupyter-widgets/controls",
            "_model_module_version": "1.5.0",
            "_view_count": null,
            "_view_module_version": "1.5.0",
            "box_style": "",
            "layout": "IPY_MODEL_6bd4a52714c740fea9a25380ce645aa0",
            "_model_module": "@jupyter-widgets/controls",
            "children": [
              "IPY_MODEL_d7304f5fc1174652a62aed6fde50a13c",
              "IPY_MODEL_f9131148ba234ca48361152a884bb9a8",
              "IPY_MODEL_c2d371816c4843118a17d238a6169b8f"
            ]
          }
        },
        "6bd4a52714c740fea9a25380ce645aa0": {
          "model_module": "@jupyter-widgets/base",
          "model_name": "LayoutModel",
          "model_module_version": "1.2.0",
          "state": {
            "_view_name": "LayoutView",
            "grid_template_rows": null,
            "right": null,
            "justify_content": null,
            "_view_module": "@jupyter-widgets/base",
            "overflow": null,
            "_model_module_version": "1.2.0",
            "_view_count": null,
            "flex_flow": null,
            "width": null,
            "min_width": null,
            "border": null,
            "align_items": null,
            "bottom": null,
            "_model_module": "@jupyter-widgets/base",
            "top": null,
            "grid_column": null,
            "overflow_y": null,
            "overflow_x": null,
            "grid_auto_flow": null,
            "grid_area": null,
            "grid_template_columns": null,
            "flex": null,
            "_model_name": "LayoutModel",
            "justify_items": null,
            "grid_row": null,
            "max_height": null,
            "align_content": null,
            "visibility": null,
            "align_self": null,
            "height": null,
            "min_height": null,
            "padding": null,
            "grid_auto_rows": null,
            "grid_gap": null,
            "max_width": null,
            "order": null,
            "_view_module_version": "1.2.0",
            "grid_template_areas": null,
            "object_position": null,
            "object_fit": null,
            "grid_auto_columns": null,
            "margin": null,
            "display": null,
            "left": null
          }
        },
        "d7304f5fc1174652a62aed6fde50a13c": {
          "model_module": "@jupyter-widgets/controls",
          "model_name": "HTMLModel",
          "model_module_version": "1.5.0",
          "state": {
            "_view_name": "HTMLView",
            "style": "IPY_MODEL_a019ec21211f4353a58c695d652070b6",
            "_dom_classes": [],
            "description": "",
            "_model_name": "HTMLModel",
            "placeholder": "​",
            "_view_module": "@jupyter-widgets/controls",
            "_model_module_version": "1.5.0",
            "value": "Downloading: 100%",
            "_view_count": null,
            "_view_module_version": "1.5.0",
            "description_tooltip": null,
            "_model_module": "@jupyter-widgets/controls",
            "layout": "IPY_MODEL_f39224c7ba9f446195c2a3e95210dd7a"
          }
        },
        "f9131148ba234ca48361152a884bb9a8": {
          "model_module": "@jupyter-widgets/controls",
          "model_name": "FloatProgressModel",
          "model_module_version": "1.5.0",
          "state": {
            "_view_name": "ProgressView",
            "style": "IPY_MODEL_cff58de34b61410cbf56423d72c35b36",
            "_dom_classes": [],
            "description": "",
            "_model_name": "FloatProgressModel",
            "bar_style": "success",
            "max": 466062,
            "_view_module": "@jupyter-widgets/controls",
            "_model_module_version": "1.5.0",
            "value": 466062,
            "_view_count": null,
            "_view_module_version": "1.5.0",
            "orientation": "horizontal",
            "min": 0,
            "description_tooltip": null,
            "_model_module": "@jupyter-widgets/controls",
            "layout": "IPY_MODEL_3537b5d0cce94e2887ca1a9a34f70366"
          }
        },
        "c2d371816c4843118a17d238a6169b8f": {
          "model_module": "@jupyter-widgets/controls",
          "model_name": "HTMLModel",
          "model_module_version": "1.5.0",
          "state": {
            "_view_name": "HTMLView",
            "style": "IPY_MODEL_c959344b47ae4809b8d62b36aa336d98",
            "_dom_classes": [],
            "description": "",
            "_model_name": "HTMLModel",
            "placeholder": "​",
            "_view_module": "@jupyter-widgets/controls",
            "_model_module_version": "1.5.0",
            "value": " 455k/455k [00:00&lt;00:00, 4.63MB/s]",
            "_view_count": null,
            "_view_module_version": "1.5.0",
            "description_tooltip": null,
            "_model_module": "@jupyter-widgets/controls",
            "layout": "IPY_MODEL_7be95de7dd644d5e98c992b36bb6106a"
          }
        },
        "a019ec21211f4353a58c695d652070b6": {
          "model_module": "@jupyter-widgets/controls",
          "model_name": "DescriptionStyleModel",
          "model_module_version": "1.5.0",
          "state": {
            "_view_name": "StyleView",
            "_model_name": "DescriptionStyleModel",
            "description_width": "",
            "_view_module": "@jupyter-widgets/base",
            "_model_module_version": "1.5.0",
            "_view_count": null,
            "_view_module_version": "1.2.0",
            "_model_module": "@jupyter-widgets/controls"
          }
        },
        "f39224c7ba9f446195c2a3e95210dd7a": {
          "model_module": "@jupyter-widgets/base",
          "model_name": "LayoutModel",
          "model_module_version": "1.2.0",
          "state": {
            "_view_name": "LayoutView",
            "grid_template_rows": null,
            "right": null,
            "justify_content": null,
            "_view_module": "@jupyter-widgets/base",
            "overflow": null,
            "_model_module_version": "1.2.0",
            "_view_count": null,
            "flex_flow": null,
            "width": null,
            "min_width": null,
            "border": null,
            "align_items": null,
            "bottom": null,
            "_model_module": "@jupyter-widgets/base",
            "top": null,
            "grid_column": null,
            "overflow_y": null,
            "overflow_x": null,
            "grid_auto_flow": null,
            "grid_area": null,
            "grid_template_columns": null,
            "flex": null,
            "_model_name": "LayoutModel",
            "justify_items": null,
            "grid_row": null,
            "max_height": null,
            "align_content": null,
            "visibility": null,
            "align_self": null,
            "height": null,
            "min_height": null,
            "padding": null,
            "grid_auto_rows": null,
            "grid_gap": null,
            "max_width": null,
            "order": null,
            "_view_module_version": "1.2.0",
            "grid_template_areas": null,
            "object_position": null,
            "object_fit": null,
            "grid_auto_columns": null,
            "margin": null,
            "display": null,
            "left": null
          }
        },
        "cff58de34b61410cbf56423d72c35b36": {
          "model_module": "@jupyter-widgets/controls",
          "model_name": "ProgressStyleModel",
          "model_module_version": "1.5.0",
          "state": {
            "_view_name": "StyleView",
            "_model_name": "ProgressStyleModel",
            "description_width": "",
            "_view_module": "@jupyter-widgets/base",
            "_model_module_version": "1.5.0",
            "_view_count": null,
            "_view_module_version": "1.2.0",
            "bar_color": null,
            "_model_module": "@jupyter-widgets/controls"
          }
        },
        "3537b5d0cce94e2887ca1a9a34f70366": {
          "model_module": "@jupyter-widgets/base",
          "model_name": "LayoutModel",
          "model_module_version": "1.2.0",
          "state": {
            "_view_name": "LayoutView",
            "grid_template_rows": null,
            "right": null,
            "justify_content": null,
            "_view_module": "@jupyter-widgets/base",
            "overflow": null,
            "_model_module_version": "1.2.0",
            "_view_count": null,
            "flex_flow": null,
            "width": null,
            "min_width": null,
            "border": null,
            "align_items": null,
            "bottom": null,
            "_model_module": "@jupyter-widgets/base",
            "top": null,
            "grid_column": null,
            "overflow_y": null,
            "overflow_x": null,
            "grid_auto_flow": null,
            "grid_area": null,
            "grid_template_columns": null,
            "flex": null,
            "_model_name": "LayoutModel",
            "justify_items": null,
            "grid_row": null,
            "max_height": null,
            "align_content": null,
            "visibility": null,
            "align_self": null,
            "height": null,
            "min_height": null,
            "padding": null,
            "grid_auto_rows": null,
            "grid_gap": null,
            "max_width": null,
            "order": null,
            "_view_module_version": "1.2.0",
            "grid_template_areas": null,
            "object_position": null,
            "object_fit": null,
            "grid_auto_columns": null,
            "margin": null,
            "display": null,
            "left": null
          }
        },
        "c959344b47ae4809b8d62b36aa336d98": {
          "model_module": "@jupyter-widgets/controls",
          "model_name": "DescriptionStyleModel",
          "model_module_version": "1.5.0",
          "state": {
            "_view_name": "StyleView",
            "_model_name": "DescriptionStyleModel",
            "description_width": "",
            "_view_module": "@jupyter-widgets/base",
            "_model_module_version": "1.5.0",
            "_view_count": null,
            "_view_module_version": "1.2.0",
            "_model_module": "@jupyter-widgets/controls"
          }
        },
        "7be95de7dd644d5e98c992b36bb6106a": {
          "model_module": "@jupyter-widgets/base",
          "model_name": "LayoutModel",
          "model_module_version": "1.2.0",
          "state": {
            "_view_name": "LayoutView",
            "grid_template_rows": null,
            "right": null,
            "justify_content": null,
            "_view_module": "@jupyter-widgets/base",
            "overflow": null,
            "_model_module_version": "1.2.0",
            "_view_count": null,
            "flex_flow": null,
            "width": null,
            "min_width": null,
            "border": null,
            "align_items": null,
            "bottom": null,
            "_model_module": "@jupyter-widgets/base",
            "top": null,
            "grid_column": null,
            "overflow_y": null,
            "overflow_x": null,
            "grid_auto_flow": null,
            "grid_area": null,
            "grid_template_columns": null,
            "flex": null,
            "_model_name": "LayoutModel",
            "justify_items": null,
            "grid_row": null,
            "max_height": null,
            "align_content": null,
            "visibility": null,
            "align_self": null,
            "height": null,
            "min_height": null,
            "padding": null,
            "grid_auto_rows": null,
            "grid_gap": null,
            "max_width": null,
            "order": null,
            "_view_module_version": "1.2.0",
            "grid_template_areas": null,
            "object_position": null,
            "object_fit": null,
            "grid_auto_columns": null,
            "margin": null,
            "display": null,
            "left": null
          }
        },
        "6085e1ef814b4e43a01fe1486958bec8": {
          "model_module": "@jupyter-widgets/controls",
          "model_name": "HBoxModel",
          "model_module_version": "1.5.0",
          "state": {
            "_view_name": "HBoxView",
            "_dom_classes": [],
            "_model_name": "HBoxModel",
            "_view_module": "@jupyter-widgets/controls",
            "_model_module_version": "1.5.0",
            "_view_count": null,
            "_view_module_version": "1.5.0",
            "box_style": "",
            "layout": "IPY_MODEL_9e7574d1ede64c35b24fccf339e0130b",
            "_model_module": "@jupyter-widgets/controls",
            "children": [
              "IPY_MODEL_be6d1997c52c430e9ce6d3a4e9918738",
              "IPY_MODEL_5324b43725f349bf86ac5e0aced6ae65",
              "IPY_MODEL_9588b3603f0c485bb5fede2a99af2a1c"
            ]
          }
        },
        "9e7574d1ede64c35b24fccf339e0130b": {
          "model_module": "@jupyter-widgets/base",
          "model_name": "LayoutModel",
          "model_module_version": "1.2.0",
          "state": {
            "_view_name": "LayoutView",
            "grid_template_rows": null,
            "right": null,
            "justify_content": null,
            "_view_module": "@jupyter-widgets/base",
            "overflow": null,
            "_model_module_version": "1.2.0",
            "_view_count": null,
            "flex_flow": null,
            "width": null,
            "min_width": null,
            "border": null,
            "align_items": null,
            "bottom": null,
            "_model_module": "@jupyter-widgets/base",
            "top": null,
            "grid_column": null,
            "overflow_y": null,
            "overflow_x": null,
            "grid_auto_flow": null,
            "grid_area": null,
            "grid_template_columns": null,
            "flex": null,
            "_model_name": "LayoutModel",
            "justify_items": null,
            "grid_row": null,
            "max_height": null,
            "align_content": null,
            "visibility": null,
            "align_self": null,
            "height": null,
            "min_height": null,
            "padding": null,
            "grid_auto_rows": null,
            "grid_gap": null,
            "max_width": null,
            "order": null,
            "_view_module_version": "1.2.0",
            "grid_template_areas": null,
            "object_position": null,
            "object_fit": null,
            "grid_auto_columns": null,
            "margin": null,
            "display": null,
            "left": null
          }
        },
        "be6d1997c52c430e9ce6d3a4e9918738": {
          "model_module": "@jupyter-widgets/controls",
          "model_name": "HTMLModel",
          "model_module_version": "1.5.0",
          "state": {
            "_view_name": "HTMLView",
            "style": "IPY_MODEL_eeb37108aa10407da557e5baf37bf681",
            "_dom_classes": [],
            "description": "",
            "_model_name": "HTMLModel",
            "placeholder": "​",
            "_view_module": "@jupyter-widgets/controls",
            "_model_module_version": "1.5.0",
            "value": "Downloading: 100%",
            "_view_count": null,
            "_view_module_version": "1.5.0",
            "description_tooltip": null,
            "_model_module": "@jupyter-widgets/controls",
            "layout": "IPY_MODEL_f173f935d664405aa266546829d31fdf"
          }
        },
        "5324b43725f349bf86ac5e0aced6ae65": {
          "model_module": "@jupyter-widgets/controls",
          "model_name": "FloatProgressModel",
          "model_module_version": "1.5.0",
          "state": {
            "_view_name": "ProgressView",
            "style": "IPY_MODEL_c37ce75c1d1948878140e735b5e751de",
            "_dom_classes": [],
            "description": "",
            "_model_name": "FloatProgressModel",
            "bar_style": "success",
            "max": 440473133,
            "_view_module": "@jupyter-widgets/controls",
            "_model_module_version": "1.5.0",
            "value": 440473133,
            "_view_count": null,
            "_view_module_version": "1.5.0",
            "orientation": "horizontal",
            "min": 0,
            "description_tooltip": null,
            "_model_module": "@jupyter-widgets/controls",
            "layout": "IPY_MODEL_beec752898134507bddddb9a6fc8ec8c"
          }
        },
        "9588b3603f0c485bb5fede2a99af2a1c": {
          "model_module": "@jupyter-widgets/controls",
          "model_name": "HTMLModel",
          "model_module_version": "1.5.0",
          "state": {
            "_view_name": "HTMLView",
            "style": "IPY_MODEL_67ae55da253b4ea092ffc9d03a19d178",
            "_dom_classes": [],
            "description": "",
            "_model_name": "HTMLModel",
            "placeholder": "​",
            "_view_module": "@jupyter-widgets/controls",
            "_model_module_version": "1.5.0",
            "value": " 420M/420M [00:07&lt;00:00, 52.7MB/s]",
            "_view_count": null,
            "_view_module_version": "1.5.0",
            "description_tooltip": null,
            "_model_module": "@jupyter-widgets/controls",
            "layout": "IPY_MODEL_49557c29db12493cadf3abb50e56e138"
          }
        },
        "eeb37108aa10407da557e5baf37bf681": {
          "model_module": "@jupyter-widgets/controls",
          "model_name": "DescriptionStyleModel",
          "model_module_version": "1.5.0",
          "state": {
            "_view_name": "StyleView",
            "_model_name": "DescriptionStyleModel",
            "description_width": "",
            "_view_module": "@jupyter-widgets/base",
            "_model_module_version": "1.5.0",
            "_view_count": null,
            "_view_module_version": "1.2.0",
            "_model_module": "@jupyter-widgets/controls"
          }
        },
        "f173f935d664405aa266546829d31fdf": {
          "model_module": "@jupyter-widgets/base",
          "model_name": "LayoutModel",
          "model_module_version": "1.2.0",
          "state": {
            "_view_name": "LayoutView",
            "grid_template_rows": null,
            "right": null,
            "justify_content": null,
            "_view_module": "@jupyter-widgets/base",
            "overflow": null,
            "_model_module_version": "1.2.0",
            "_view_count": null,
            "flex_flow": null,
            "width": null,
            "min_width": null,
            "border": null,
            "align_items": null,
            "bottom": null,
            "_model_module": "@jupyter-widgets/base",
            "top": null,
            "grid_column": null,
            "overflow_y": null,
            "overflow_x": null,
            "grid_auto_flow": null,
            "grid_area": null,
            "grid_template_columns": null,
            "flex": null,
            "_model_name": "LayoutModel",
            "justify_items": null,
            "grid_row": null,
            "max_height": null,
            "align_content": null,
            "visibility": null,
            "align_self": null,
            "height": null,
            "min_height": null,
            "padding": null,
            "grid_auto_rows": null,
            "grid_gap": null,
            "max_width": null,
            "order": null,
            "_view_module_version": "1.2.0",
            "grid_template_areas": null,
            "object_position": null,
            "object_fit": null,
            "grid_auto_columns": null,
            "margin": null,
            "display": null,
            "left": null
          }
        },
        "c37ce75c1d1948878140e735b5e751de": {
          "model_module": "@jupyter-widgets/controls",
          "model_name": "ProgressStyleModel",
          "model_module_version": "1.5.0",
          "state": {
            "_view_name": "StyleView",
            "_model_name": "ProgressStyleModel",
            "description_width": "",
            "_view_module": "@jupyter-widgets/base",
            "_model_module_version": "1.5.0",
            "_view_count": null,
            "_view_module_version": "1.2.0",
            "bar_color": null,
            "_model_module": "@jupyter-widgets/controls"
          }
        },
        "beec752898134507bddddb9a6fc8ec8c": {
          "model_module": "@jupyter-widgets/base",
          "model_name": "LayoutModel",
          "model_module_version": "1.2.0",
          "state": {
            "_view_name": "LayoutView",
            "grid_template_rows": null,
            "right": null,
            "justify_content": null,
            "_view_module": "@jupyter-widgets/base",
            "overflow": null,
            "_model_module_version": "1.2.0",
            "_view_count": null,
            "flex_flow": null,
            "width": null,
            "min_width": null,
            "border": null,
            "align_items": null,
            "bottom": null,
            "_model_module": "@jupyter-widgets/base",
            "top": null,
            "grid_column": null,
            "overflow_y": null,
            "overflow_x": null,
            "grid_auto_flow": null,
            "grid_area": null,
            "grid_template_columns": null,
            "flex": null,
            "_model_name": "LayoutModel",
            "justify_items": null,
            "grid_row": null,
            "max_height": null,
            "align_content": null,
            "visibility": null,
            "align_self": null,
            "height": null,
            "min_height": null,
            "padding": null,
            "grid_auto_rows": null,
            "grid_gap": null,
            "max_width": null,
            "order": null,
            "_view_module_version": "1.2.0",
            "grid_template_areas": null,
            "object_position": null,
            "object_fit": null,
            "grid_auto_columns": null,
            "margin": null,
            "display": null,
            "left": null
          }
        },
        "67ae55da253b4ea092ffc9d03a19d178": {
          "model_module": "@jupyter-widgets/controls",
          "model_name": "DescriptionStyleModel",
          "model_module_version": "1.5.0",
          "state": {
            "_view_name": "StyleView",
            "_model_name": "DescriptionStyleModel",
            "description_width": "",
            "_view_module": "@jupyter-widgets/base",
            "_model_module_version": "1.5.0",
            "_view_count": null,
            "_view_module_version": "1.2.0",
            "_model_module": "@jupyter-widgets/controls"
          }
        },
        "49557c29db12493cadf3abb50e56e138": {
          "model_module": "@jupyter-widgets/base",
          "model_name": "LayoutModel",
          "model_module_version": "1.2.0",
          "state": {
            "_view_name": "LayoutView",
            "grid_template_rows": null,
            "right": null,
            "justify_content": null,
            "_view_module": "@jupyter-widgets/base",
            "overflow": null,
            "_model_module_version": "1.2.0",
            "_view_count": null,
            "flex_flow": null,
            "width": null,
            "min_width": null,
            "border": null,
            "align_items": null,
            "bottom": null,
            "_model_module": "@jupyter-widgets/base",
            "top": null,
            "grid_column": null,
            "overflow_y": null,
            "overflow_x": null,
            "grid_auto_flow": null,
            "grid_area": null,
            "grid_template_columns": null,
            "flex": null,
            "_model_name": "LayoutModel",
            "justify_items": null,
            "grid_row": null,
            "max_height": null,
            "align_content": null,
            "visibility": null,
            "align_self": null,
            "height": null,
            "min_height": null,
            "padding": null,
            "grid_auto_rows": null,
            "grid_gap": null,
            "max_width": null,
            "order": null,
            "_view_module_version": "1.2.0",
            "grid_template_areas": null,
            "object_position": null,
            "object_fit": null,
            "grid_auto_columns": null,
            "margin": null,
            "display": null,
            "left": null
          }
        }
      }
    }
  },
  "nbformat_minor": 0,
  "nbformat": 4,
  "cells": [
    {
      "cell_type": "markdown",
      "source": [
        "# Тестовое задание \n",
        "\n",
        "   Ваша задача написать пайплайн для тренировки модели глубоко обучения (любую – **embeddings + LSTM, Bert** …) с использованием следующих инструментов: pytorch, sklearn, matplotlib – для решения задачи **NER** (извлечения сущностей).\n",
        "\n",
        "   В качестве данных используется датасет **Conll2003** с четырьмя классами **Per, Org, Loc, Misc** в формате **Conll**.\n",
        "\n",
        "   В тетрадке ниже заданы основные классы и функции для построения требуемого пайплайн, какие-то уже имплементированы, какие-то – нет. Их требуется доработать. Тем не менее если данный набор абстракций вам не подходит Вы можете написать свой пайплайн «с нуля», однако обоснованность у этих действий должна быть.\n",
        "\n",
        "**Что оценивается в первую очередь:**\n",
        "- Выбранная архитектура для решения задачи\n",
        "- Выбранные предобученные веса \n",
        "- Полученные метрики\n",
        "\n",
        "**Затем:**\n",
        "- Глубина разведочного анализа\n",
        "- Какая схема теггирования используется (**BIO, IO** или другие)\n",
        "- Каким образом производится расчет метрик (потокенный отчет, отчет по точному совпадению спанов сущностей)\n",
        "\n",
        "**С меньшим приоритетом:** \n",
        "- Скорость предобработки и постобработки данных \n",
        "- Стиль кода"
      ],
      "metadata": {
        "id": "W3W68fXhinqH"
      }
    },
    {
      "cell_type": "code",
      "source": [
        "import os\n",
        "for dirname, _, filenames in os.walk('/kaggle'):\n",
        "    for filename in filenames:\n",
        "        print(os.path.join(dirname, filename))"
      ],
      "metadata": {
        "execution": {
          "iopub.status.busy": "2022-01-17T17:55:16.144878Z",
          "iopub.execute_input": "2022-01-17T17:55:16.145175Z",
          "iopub.status.idle": "2022-01-17T17:55:16.157605Z",
          "shell.execute_reply.started": "2022-01-17T17:55:16.145121Z",
          "shell.execute_reply": "2022-01-17T17:55:16.156841Z"
        },
        "trusted": true,
        "id": "uop_zdsgSHiU"
      },
      "execution_count": 1,
      "outputs": []
    },
    {
      "cell_type": "code",
      "source": [
        "!wget https://raw.githubusercontent.com/synalp/NER/master/corpus/CoNLL-2003/eng.testa\n",
        "!wget https://raw.githubusercontent.com/synalp/NER/master/corpus/CoNLL-2003/eng.train"
      ],
      "metadata": {
        "id": "SiBslWvSRKH0",
        "outputId": "951c01dc-b368-482f-c7ee-4b05ef41102d",
        "execution": {
          "iopub.status.busy": "2022-01-17T17:55:16.162293Z",
          "iopub.execute_input": "2022-01-17T17:55:16.162779Z",
          "iopub.status.idle": "2022-01-17T17:55:18.124504Z",
          "shell.execute_reply.started": "2022-01-17T17:55:16.162743Z",
          "shell.execute_reply": "2022-01-17T17:55:18.123644Z"
        },
        "trusted": true,
        "colab": {
          "base_uri": "https://localhost:8080/"
        }
      },
      "execution_count": 2,
      "outputs": [
        {
          "output_type": "stream",
          "name": "stdout",
          "text": [
            "--2022-01-17 18:31:14--  https://raw.githubusercontent.com/synalp/NER/master/corpus/CoNLL-2003/eng.testa\n",
            "Resolving raw.githubusercontent.com (raw.githubusercontent.com)... 185.199.108.133, 185.199.109.133, 185.199.110.133, ...\n",
            "Connecting to raw.githubusercontent.com (raw.githubusercontent.com)|185.199.108.133|:443... connected.\n",
            "HTTP request sent, awaiting response... 200 OK\n",
            "Length: 827012 (808K) [text/plain]\n",
            "Saving to: ‘eng.testa’\n",
            "\n",
            "eng.testa           100%[===================>] 807.63K  --.-KB/s    in 0.04s   \n",
            "\n",
            "2022-01-17 18:31:15 (17.6 MB/s) - ‘eng.testa’ saved [827012/827012]\n",
            "\n",
            "--2022-01-17 18:31:15--  https://raw.githubusercontent.com/synalp/NER/master/corpus/CoNLL-2003/eng.train\n",
            "Resolving raw.githubusercontent.com (raw.githubusercontent.com)... 185.199.108.133, 185.199.111.133, 185.199.109.133, ...\n",
            "Connecting to raw.githubusercontent.com (raw.githubusercontent.com)|185.199.108.133|:443... connected.\n",
            "HTTP request sent, awaiting response... 200 OK\n",
            "Length: 3281528 (3.1M) [text/plain]\n",
            "Saving to: ‘eng.train’\n",
            "\n",
            "eng.train           100%[===================>]   3.13M  --.-KB/s    in 0.07s   \n",
            "\n",
            "2022-01-17 18:31:15 (47.0 MB/s) - ‘eng.train’ saved [3281528/3281528]\n",
            "\n"
          ]
        }
      ]
    },
    {
      "cell_type": "code",
      "source": [
        "!pip install transformers"
      ],
      "metadata": {
        "colab": {
          "base_uri": "https://localhost:8080/"
        },
        "id": "EFK_xZOvTVVE",
        "outputId": "ff9d6dd9-1498-4b6a-8ba9-dfa5eb442f90"
      },
      "execution_count": 4,
      "outputs": [
        {
          "output_type": "stream",
          "name": "stdout",
          "text": [
            "Collecting transformers\n",
            "  Downloading transformers-4.15.0-py3-none-any.whl (3.4 MB)\n",
            "\u001b[K     |████████████████████████████████| 3.4 MB 5.0 MB/s \n",
            "\u001b[?25hCollecting pyyaml>=5.1\n",
            "  Downloading PyYAML-6.0-cp37-cp37m-manylinux_2_5_x86_64.manylinux1_x86_64.manylinux_2_12_x86_64.manylinux2010_x86_64.whl (596 kB)\n",
            "\u001b[K     |████████████████████████████████| 596 kB 66.2 MB/s \n",
            "\u001b[?25hCollecting tokenizers<0.11,>=0.10.1\n",
            "  Downloading tokenizers-0.10.3-cp37-cp37m-manylinux_2_5_x86_64.manylinux1_x86_64.manylinux_2_12_x86_64.manylinux2010_x86_64.whl (3.3 MB)\n",
            "\u001b[K     |████████████████████████████████| 3.3 MB 54.5 MB/s \n",
            "\u001b[?25hRequirement already satisfied: numpy>=1.17 in /usr/local/lib/python3.7/dist-packages (from transformers) (1.19.5)\n",
            "Requirement already satisfied: filelock in /usr/local/lib/python3.7/dist-packages (from transformers) (3.4.2)\n",
            "Collecting sacremoses\n",
            "  Downloading sacremoses-0.0.47-py2.py3-none-any.whl (895 kB)\n",
            "\u001b[K     |████████████████████████████████| 895 kB 45.1 MB/s \n",
            "\u001b[?25hCollecting huggingface-hub<1.0,>=0.1.0\n",
            "  Downloading huggingface_hub-0.4.0-py3-none-any.whl (67 kB)\n",
            "\u001b[K     |████████████████████████████████| 67 kB 6.0 MB/s \n",
            "\u001b[?25hRequirement already satisfied: packaging>=20.0 in /usr/local/lib/python3.7/dist-packages (from transformers) (21.3)\n",
            "Requirement already satisfied: requests in /usr/local/lib/python3.7/dist-packages (from transformers) (2.23.0)\n",
            "Requirement already satisfied: tqdm>=4.27 in /usr/local/lib/python3.7/dist-packages (from transformers) (4.62.3)\n",
            "Requirement already satisfied: regex!=2019.12.17 in /usr/local/lib/python3.7/dist-packages (from transformers) (2019.12.20)\n",
            "Requirement already satisfied: importlib-metadata in /usr/local/lib/python3.7/dist-packages (from transformers) (4.10.0)\n",
            "Requirement already satisfied: typing-extensions>=3.7.4.3 in /usr/local/lib/python3.7/dist-packages (from huggingface-hub<1.0,>=0.1.0->transformers) (3.10.0.2)\n",
            "Requirement already satisfied: pyparsing!=3.0.5,>=2.0.2 in /usr/local/lib/python3.7/dist-packages (from packaging>=20.0->transformers) (3.0.6)\n",
            "Requirement already satisfied: zipp>=0.5 in /usr/local/lib/python3.7/dist-packages (from importlib-metadata->transformers) (3.7.0)\n",
            "Requirement already satisfied: urllib3!=1.25.0,!=1.25.1,<1.26,>=1.21.1 in /usr/local/lib/python3.7/dist-packages (from requests->transformers) (1.24.3)\n",
            "Requirement already satisfied: idna<3,>=2.5 in /usr/local/lib/python3.7/dist-packages (from requests->transformers) (2.10)\n",
            "Requirement already satisfied: certifi>=2017.4.17 in /usr/local/lib/python3.7/dist-packages (from requests->transformers) (2021.10.8)\n",
            "Requirement already satisfied: chardet<4,>=3.0.2 in /usr/local/lib/python3.7/dist-packages (from requests->transformers) (3.0.4)\n",
            "Requirement already satisfied: click in /usr/local/lib/python3.7/dist-packages (from sacremoses->transformers) (7.1.2)\n",
            "Requirement already satisfied: six in /usr/local/lib/python3.7/dist-packages (from sacremoses->transformers) (1.15.0)\n",
            "Requirement already satisfied: joblib in /usr/local/lib/python3.7/dist-packages (from sacremoses->transformers) (1.1.0)\n",
            "Installing collected packages: pyyaml, tokenizers, sacremoses, huggingface-hub, transformers\n",
            "  Attempting uninstall: pyyaml\n",
            "    Found existing installation: PyYAML 3.13\n",
            "    Uninstalling PyYAML-3.13:\n",
            "      Successfully uninstalled PyYAML-3.13\n",
            "Successfully installed huggingface-hub-0.4.0 pyyaml-6.0 sacremoses-0.0.47 tokenizers-0.10.3 transformers-4.15.0\n"
          ]
        }
      ]
    },
    {
      "cell_type": "code",
      "source": [
        "from torch.utils.data import Dataset, DataLoader\n",
        "from typing import List\n",
        "from collections import Counter\n",
        "import matplotlib.pyplot as plt\n",
        "from tqdm import tqdm\n",
        "from torch import nn\n",
        "from sklearn.metrics import classification_report\n",
        "import pandas as pd\n",
        "import numpy as np\n",
        "from transformers import BertTokenizerFast, BertTokenizer, AutoTokenizer, AdamW, BertModel\n",
        "import torch\n",
        "from transformers import BertForTokenClassification\n",
        "from sklearn.preprocessing import LabelEncoder\n",
        "from collections import Counter\n",
        "from sklearn.metrics import accuracy_score"
      ],
      "metadata": {
        "id": "61Q6EAQsXMgf",
        "execution": {
          "iopub.status.busy": "2022-01-17T17:55:18.743209Z",
          "iopub.execute_input": "2022-01-17T17:55:18.743493Z",
          "iopub.status.idle": "2022-01-17T17:55:21.487605Z",
          "shell.execute_reply.started": "2022-01-17T17:55:18.743459Z",
          "shell.execute_reply": "2022-01-17T17:55:21.486782Z"
        },
        "trusted": true
      },
      "execution_count": 5,
      "outputs": []
    },
    {
      "cell_type": "code",
      "source": [
        "tokenizer = AutoTokenizer.from_pretrained('bert-base-uncased', add_prefix_space=True)"
      ],
      "metadata": {
        "execution": {
          "iopub.status.busy": "2022-01-17T17:55:21.489261Z",
          "iopub.execute_input": "2022-01-17T17:55:21.489679Z",
          "iopub.status.idle": "2022-01-17T17:55:24.586498Z",
          "shell.execute_reply.started": "2022-01-17T17:55:21.489641Z",
          "shell.execute_reply": "2022-01-17T17:55:24.585756Z"
        },
        "trusted": true,
        "colab": {
          "base_uri": "https://localhost:8080/",
          "height": 145,
          "referenced_widgets": [
            "c9cd6e2908524a8e9e966d69e7c833de",
            "0c1eaf532023427194fb814d08f334cd",
            "852fa8506bf44358a8d667bf4de600a2",
            "6d87234e0dc94c508357cf2be91e3db0",
            "6ec5f955dcc54dfb85aed2c7bfe92854",
            "c982c104294f4199afbafb62572dcb95",
            "6cc8dd1d1b96400695264a33478fe8b2",
            "5642639e5f424f25b4e9e8a4e6207e3d",
            "a97fadc1f08c4b3691904bf44a761927",
            "04a8d73f620f4ec5b4efc9a511fb5128",
            "44ad4122455a4a23abef657a68ab5624",
            "4e945aaf27a84661af3e41ccb3ebdfa3",
            "cb67e262f1734217885d5e61590e2dae",
            "193ed91d247d4c00b7e22b1d82fc6025",
            "863be0f4ee7a4f8797d005a231e10383",
            "96eb3e01f82c4959991e580b98399824",
            "aed2629394884f04b0df17dec6038b15",
            "bf69798e74854dfa9e9779f897d45f66",
            "c5f5c441b372494b9191f907a7ba020e",
            "6804cc3edb864c798dbd7db0e7a43aea",
            "f6967829c9c5429d8c39ce8ad85f7b60",
            "cfded3a5f0dc4be894244819d8717d00",
            "295c9fe21e2e47a1a050da128e7859ec",
            "0dbae7d2147d496b890cb57218e6461e",
            "b767c980b79b4f6fbb667fcf5777048b",
            "01b72e88678e41aabd9786e152cb7569",
            "12499fe2720e40158f67057a497f78b0",
            "5aea9e22eb794936be2aee5e6796a4c9",
            "387a920be939414bb61c34bfc75d0bda",
            "caaa7bb07b3045bfa2fa5e8b9cbf97cf",
            "222e56474f7c4e63a5483aed6298f324",
            "29bd70d3b5604f38a343139f3c9d444a",
            "3feff1b9f51c403695666ac31dc1e76e",
            "879c858099484b7fad3aadb076be6d33",
            "6bd4a52714c740fea9a25380ce645aa0",
            "d7304f5fc1174652a62aed6fde50a13c",
            "f9131148ba234ca48361152a884bb9a8",
            "c2d371816c4843118a17d238a6169b8f",
            "a019ec21211f4353a58c695d652070b6",
            "f39224c7ba9f446195c2a3e95210dd7a",
            "cff58de34b61410cbf56423d72c35b36",
            "3537b5d0cce94e2887ca1a9a34f70366",
            "c959344b47ae4809b8d62b36aa336d98",
            "7be95de7dd644d5e98c992b36bb6106a"
          ]
        },
        "id": "h_dad_3ESHiW",
        "outputId": "cfd2a694-931b-43c9-879b-207810331d96"
      },
      "execution_count": 6,
      "outputs": [
        {
          "output_type": "display_data",
          "data": {
            "application/vnd.jupyter.widget-view+json": {
              "model_id": "c9cd6e2908524a8e9e966d69e7c833de",
              "version_minor": 0,
              "version_major": 2
            },
            "text/plain": [
              "Downloading:   0%|          | 0.00/28.0 [00:00<?, ?B/s]"
            ]
          },
          "metadata": {}
        },
        {
          "output_type": "display_data",
          "data": {
            "application/vnd.jupyter.widget-view+json": {
              "model_id": "4e945aaf27a84661af3e41ccb3ebdfa3",
              "version_minor": 0,
              "version_major": 2
            },
            "text/plain": [
              "Downloading:   0%|          | 0.00/570 [00:00<?, ?B/s]"
            ]
          },
          "metadata": {}
        },
        {
          "output_type": "display_data",
          "data": {
            "application/vnd.jupyter.widget-view+json": {
              "model_id": "295c9fe21e2e47a1a050da128e7859ec",
              "version_minor": 0,
              "version_major": 2
            },
            "text/plain": [
              "Downloading:   0%|          | 0.00/226k [00:00<?, ?B/s]"
            ]
          },
          "metadata": {}
        },
        {
          "output_type": "display_data",
          "data": {
            "application/vnd.jupyter.widget-view+json": {
              "model_id": "879c858099484b7fad3aadb076be6d33",
              "version_minor": 0,
              "version_major": 2
            },
            "text/plain": [
              "Downloading:   0%|          | 0.00/455k [00:00<?, ?B/s]"
            ]
          },
          "metadata": {}
        }
      ]
    },
    {
      "cell_type": "code",
      "source": [
        "with open('eng.train', 'r') as f:\n",
        "    lines = f.readlines()"
      ],
      "metadata": {
        "execution": {
          "iopub.status.busy": "2022-01-17T17:55:24.587796Z",
          "iopub.execute_input": "2022-01-17T17:55:24.588051Z",
          "iopub.status.idle": "2022-01-17T17:55:24.617577Z",
          "shell.execute_reply.started": "2022-01-17T17:55:24.588016Z",
          "shell.execute_reply": "2022-01-17T17:55:24.616881Z"
        },
        "trusted": true,
        "id": "E6PPWnW3SHiX"
      },
      "execution_count": 7,
      "outputs": []
    },
    {
      "cell_type": "code",
      "source": [
        "lines[:10]"
      ],
      "metadata": {
        "execution": {
          "iopub.status.busy": "2022-01-17T17:55:24.619783Z",
          "iopub.execute_input": "2022-01-17T17:55:24.620066Z",
          "iopub.status.idle": "2022-01-17T17:55:24.630298Z",
          "shell.execute_reply.started": "2022-01-17T17:55:24.620031Z",
          "shell.execute_reply": "2022-01-17T17:55:24.629450Z"
        },
        "trusted": true,
        "colab": {
          "base_uri": "https://localhost:8080/"
        },
        "id": "nov6XzUzSHiX",
        "outputId": "9b8e7c99-1f8e-4449-fe63-75eb8d7991c2"
      },
      "execution_count": 8,
      "outputs": [
        {
          "output_type": "execute_result",
          "data": {
            "text/plain": [
              "['-DOCSTART- -X- O O\\n',\n",
              " '\\n',\n",
              " 'EU NNP I-NP I-ORG\\n',\n",
              " 'rejects VBZ I-VP O\\n',\n",
              " 'German JJ I-NP I-MISC\\n',\n",
              " 'call NN I-NP O\\n',\n",
              " 'to TO I-VP O\\n',\n",
              " 'boycott VB I-VP O\\n',\n",
              " 'British JJ I-NP I-MISC\\n',\n",
              " 'lamb NN I-NP O\\n']"
            ]
          },
          "metadata": {},
          "execution_count": 8
        }
      ]
    },
    {
      "cell_type": "code",
      "source": [
        "def read_data(file):\n",
        "    lines = open(file, \"r\").readlines()\n",
        "    data = {\"sentences\": [], \"labels_per_sent\": []}\n",
        "    sentence, labels = [], []\n",
        "    for line in tqdm(lines):\n",
        "        line = line.strip()\n",
        "        if not line:\n",
        "            if sentence and labels:\n",
        "                assert len(sentence) == len(labels)\n",
        "                data[\"sentences\"].append(sentence)\n",
        "                data[\"labels_per_sent\"].append(labels)\n",
        "                sentence, labels = [], []\n",
        "            continue\n",
        "        if line.startswith(\"-DOCSTART-\"):\n",
        "            continue\n",
        "        else:\n",
        "            values = line.split(\" \")\n",
        "            try:\n",
        "                token, _, _, label = values\n",
        "                sentence.append(token)\n",
        "                if label != 'O':\n",
        "                    labels.append(label)\n",
        "                else:\n",
        "                    labels.append(label)\n",
        "\n",
        "            except Exception as e:\n",
        "                print(f\"Error has occur: {e}\")\n",
        "                continue\n",
        "    return data\n",
        "\n",
        "\n",
        "train = read_data(\"eng.train\")\n",
        "valid = read_data(\"eng.testa\")"
      ],
      "metadata": {
        "id": "HUVbuWYaT1YI",
        "outputId": "ff597bcc-f67a-43b4-c67a-88b6fa1faeb5",
        "execution": {
          "iopub.status.busy": "2022-01-17T17:55:24.631740Z",
          "iopub.execute_input": "2022-01-17T17:55:24.632085Z",
          "iopub.status.idle": "2022-01-17T17:55:25.225208Z",
          "shell.execute_reply.started": "2022-01-17T17:55:24.632049Z",
          "shell.execute_reply": "2022-01-17T17:55:25.224480Z"
        },
        "trusted": true,
        "colab": {
          "base_uri": "https://localhost:8080/"
        }
      },
      "execution_count": 9,
      "outputs": [
        {
          "output_type": "stream",
          "name": "stderr",
          "text": [
            "100%|██████████| 219554/219554 [00:00<00:00, 576891.07it/s]\n",
            "100%|██████████| 55045/55045 [00:00<00:00, 989633.10it/s]\n"
          ]
        }
      ]
    },
    {
      "cell_type": "code",
      "source": [
        "df_train = pd.DataFrame([[' '.join(x),','.join(y)] for x,y in zip(train['sentences'],train['labels_per_sent'])], columns=['Sentence','Labels'])\n",
        "df_valid = pd.DataFrame([[' '.join(x),','.join(y)] for x,y in zip(valid['sentences'],valid['labels_per_sent'])], columns=['Sentence','Labels'])"
      ],
      "metadata": {
        "execution": {
          "iopub.status.busy": "2022-01-17T17:55:25.226711Z",
          "iopub.execute_input": "2022-01-17T17:55:25.227201Z",
          "iopub.status.idle": "2022-01-17T17:55:25.261084Z",
          "shell.execute_reply.started": "2022-01-17T17:55:25.227162Z",
          "shell.execute_reply": "2022-01-17T17:55:25.260251Z"
        },
        "trusted": true,
        "id": "TwnekcAESHiY"
      },
      "execution_count": 10,
      "outputs": []
    },
    {
      "cell_type": "code",
      "source": [
        "le = LabelEncoder()\n",
        "all_tags=[]\n",
        "for i in tqdm(range(len(df_train))):\n",
        "    all_tags.extend(df_train['Labels'].values[i].split(','))\n",
        "    \n",
        "unique_tags = list(set(all_tags))\n",
        "le.fit_transform(unique_tags)\n",
        "labels_to_ids = dict(zip(le.transform(le.classes_), le.classes_))\n",
        "ids_to_labels = {value:key for key, value in labels_to_ids .items()}"
      ],
      "metadata": {
        "execution": {
          "iopub.status.busy": "2022-01-17T17:55:25.262482Z",
          "iopub.execute_input": "2022-01-17T17:55:25.262745Z",
          "iopub.status.idle": "2022-01-17T17:55:25.354658Z",
          "shell.execute_reply.started": "2022-01-17T17:55:25.262708Z",
          "shell.execute_reply": "2022-01-17T17:55:25.353857Z"
        },
        "trusted": true,
        "colab": {
          "base_uri": "https://localhost:8080/"
        },
        "id": "-UdrfIZlSHiZ",
        "outputId": "9d09dbe0-d3e5-458d-ce20-49c1941f4304"
      },
      "execution_count": 11,
      "outputs": [
        {
          "output_type": "stream",
          "name": "stderr",
          "text": [
            "100%|██████████| 14041/14041 [00:00<00:00, 201076.95it/s]\n"
          ]
        }
      ]
    },
    {
      "cell_type": "code",
      "source": [
        "def get_label_distribution(labels: List[List[str]]):\n",
        "    labels = [label for labels_per_sent in labels for label in labels_per_sent]\n",
        "    return Counter(labels)"
      ],
      "metadata": {
        "id": "lksWDE2MZaGU",
        "execution": {
          "iopub.status.busy": "2022-01-17T17:55:25.355863Z",
          "iopub.execute_input": "2022-01-17T17:55:25.356190Z",
          "iopub.status.idle": "2022-01-17T17:55:25.361361Z",
          "shell.execute_reply.started": "2022-01-17T17:55:25.356153Z",
          "shell.execute_reply": "2022-01-17T17:55:25.360470Z"
        },
        "trusted": true
      },
      "execution_count": 12,
      "outputs": []
    },
    {
      "cell_type": "code",
      "source": [
        "train_distribution = get_label_distribution(train[\"labels_per_sent\"])\n",
        "valid_distribution = get_label_distribution(valid[\"labels_per_sent\"])"
      ],
      "metadata": {
        "id": "QL5KBeDUan66",
        "execution": {
          "iopub.status.busy": "2022-01-17T17:55:25.362770Z",
          "iopub.execute_input": "2022-01-17T17:55:25.363248Z",
          "iopub.status.idle": "2022-01-17T17:55:25.402144Z",
          "shell.execute_reply.started": "2022-01-17T17:55:25.363210Z",
          "shell.execute_reply": "2022-01-17T17:55:25.401428Z"
        },
        "trusted": true
      },
      "execution_count": 13,
      "outputs": []
    },
    {
      "cell_type": "code",
      "source": [
        "def visualize_distr(data: Counter):\n",
        "    labels = list(data.keys())\n",
        "    plt.bar(x=labels, height=list(data.values()))\n",
        "    plt.show()\n",
        "    \n",
        "\n",
        "print(\"Train distribution\")\n",
        "visualize_distr(train_distribution)\n",
        "print(\"Valid distribution\")\n",
        "visualize_distr(valid_distribution)"
      ],
      "metadata": {
        "id": "Ma7HHMQua3L8",
        "outputId": "b722bb22-458e-440e-8a66-319283bf12fc",
        "execution": {
          "iopub.status.busy": "2022-01-17T17:55:25.606351Z",
          "iopub.execute_input": "2022-01-17T17:55:25.606603Z",
          "iopub.status.idle": "2022-01-17T17:55:25.962027Z",
          "shell.execute_reply.started": "2022-01-17T17:55:25.606576Z",
          "shell.execute_reply": "2022-01-17T17:55:25.961279Z"
        },
        "trusted": true,
        "colab": {
          "base_uri": "https://localhost:8080/",
          "height": 548
        }
      },
      "execution_count": 14,
      "outputs": [
        {
          "output_type": "stream",
          "name": "stdout",
          "text": [
            "Train distribution\n"
          ]
        },
        {
          "output_type": "display_data",
          "data": {
            "image/png": "[encoded data removed]",
            "text/plain": [
              "<Figure size 432x288 with 1 Axes>"
            ]
          },
          "metadata": {
            "needs_background": "light"
          }
        },
        {
          "output_type": "stream",
          "name": "stdout",
          "text": [
            "Valid distribution\n"
          ]
        },
        {
          "output_type": "display_data",
          "data": {
            "image/png": "[encoded data removed]",
            "text/plain": [
              "<Figure size 432x288 with 1 Axes>"
            ]
          },
          "metadata": {
            "needs_background": "light"
          }
        }
      ]
    },
    {
      "cell_type": "markdown",
      "source": [
        "Построим гистограммы на одном графике, чтобы было понятнее распределение токенов на трейне/валидации"
      ],
      "metadata": {
        "execution": {
          "iopub.status.busy": "2022-01-14T17:23:28.788432Z",
          "iopub.execute_input": "2022-01-14T17:23:28.788762Z",
          "iopub.status.idle": "2022-01-14T17:23:28.795837Z",
          "shell.execute_reply.started": "2022-01-14T17:23:28.78872Z",
          "shell.execute_reply": "2022-01-14T17:23:28.794609Z"
        },
        "id": "dzEQUP9cSHia"
      }
    },
    {
      "cell_type": "code",
      "source": [
        "train_distribution_df = pd.DataFrame([[x,y] for x,y in train_distribution.items()], columns=['TOKEN','COUNT_TRAIN'])\n",
        "valid_distribution_df = pd.DataFrame([[x,y] for x,y in valid_distribution.items()], columns=['TOKEN','COUNT_VALID'])\n",
        "distribution_df = pd.merge(train_distribution_df, valid_distribution_df, on='TOKEN')\n",
        "distribution_df.set_index('TOKEN').plot.bar()"
      ],
      "metadata": {
        "execution": {
          "iopub.status.busy": "2022-01-17T17:55:26.822914Z",
          "iopub.execute_input": "2022-01-17T17:55:26.823361Z",
          "iopub.status.idle": "2022-01-17T17:55:27.065374Z",
          "shell.execute_reply.started": "2022-01-17T17:55:26.823323Z",
          "shell.execute_reply": "2022-01-17T17:55:27.064672Z"
        },
        "trusted": true,
        "colab": {
          "base_uri": "https://localhost:8080/",
          "height": 321
        },
        "id": "6DHrd6sbSHia",
        "outputId": "f7b49edd-6b60-4fc5-ad1b-0ddc8bff20a9"
      },
      "execution_count": 15,
      "outputs": [
        {
          "output_type": "execute_result",
          "data": {
            "text/plain": [
              "<matplotlib.axes._subplots.AxesSubplot at 0x7f2eaacf8ad0>"
            ]
          },
          "metadata": {},
          "execution_count": 15
        },
        {
          "output_type": "display_data",
          "data": {
            "image/png": "[encoded data removed]",
            "text/plain": [
              "<Figure size 432x288 with 1 Axes>"
            ]
          },
          "metadata": {
            "needs_background": "light"
          }
        }
      ]
    },
    {
      "cell_type": "code",
      "source": [
        "Counter([x for y in [x for x in list(df_train.Labels.apply(lambda x: x.split(',')).values)] for x in y])"
      ],
      "metadata": {
        "execution": {
          "iopub.status.busy": "2022-01-17T17:55:27.463204Z",
          "iopub.execute_input": "2022-01-17T17:55:27.463742Z",
          "iopub.status.idle": "2022-01-17T17:55:27.505733Z",
          "shell.execute_reply.started": "2022-01-17T17:55:27.463704Z",
          "shell.execute_reply": "2022-01-17T17:55:27.505075Z"
        },
        "trusted": true,
        "colab": {
          "base_uri": "https://localhost:8080/"
        },
        "id": "DJpmFGOISHib",
        "outputId": "94bfe68b-7a1a-4bd9-d51c-84c3e14389df"
      },
      "execution_count": 16,
      "outputs": [
        {
          "output_type": "execute_result",
          "data": {
            "text/plain": [
              "Counter({'B-LOC': 11,\n",
              "         'B-MISC': 37,\n",
              "         'B-ORG': 24,\n",
              "         'I-LOC': 8286,\n",
              "         'I-MISC': 4556,\n",
              "         'I-ORG': 10001,\n",
              "         'I-PER': 11128,\n",
              "         'O': 169578})"
            ]
          },
          "metadata": {},
          "execution_count": 16
        }
      ]
    },
    {
      "cell_type": "code",
      "source": [
        "Counter([x for y in [x for x in list(df_valid.Labels.apply(lambda x: x.split(',')).values)] for x in y])"
      ],
      "metadata": {
        "execution": {
          "iopub.status.busy": "2022-01-17T17:55:28.279399Z",
          "iopub.execute_input": "2022-01-17T17:55:28.279823Z",
          "iopub.status.idle": "2022-01-17T17:55:28.296957Z",
          "shell.execute_reply.started": "2022-01-17T17:55:28.279778Z",
          "shell.execute_reply": "2022-01-17T17:55:28.296116Z"
        },
        "trusted": true,
        "colab": {
          "base_uri": "https://localhost:8080/"
        },
        "id": "Tgn4Y1k6SHib",
        "outputId": "643b3fe4-8fe9-4de6-ca46-1ea162d9a663"
      },
      "execution_count": 17,
      "outputs": [
        {
          "output_type": "execute_result",
          "data": {
            "text/plain": [
              "Counter({'B-MISC': 4,\n",
              "         'I-LOC': 2094,\n",
              "         'I-MISC': 1264,\n",
              "         'I-ORG': 2092,\n",
              "         'I-PER': 3149,\n",
              "         'O': 42759})"
            ]
          },
          "metadata": {},
          "execution_count": 17
        }
      ]
    },
    {
      "cell_type": "markdown",
      "source": [
        "Можно заметить, что b-token'ов довольно мало, поэтому метрики будем считать по токенам, а не спанам сущностей, но мы их оставим для обучения, чтобы посмотреть, как модель сможет предиктить 4 b-misc токена."
      ],
      "metadata": {
        "id": "yTRgYd_cSHib"
      }
    },
    {
      "cell_type": "code",
      "source": [
        "df_train.Sentence.apply(lambda x: len(x)).mean(), df_train.Sentence.apply(lambda x: len(x)).max()"
      ],
      "metadata": {
        "execution": {
          "iopub.status.busy": "2022-01-17T17:55:30.415798Z",
          "iopub.execute_input": "2022-01-17T17:55:30.416070Z",
          "iopub.status.idle": "2022-01-17T17:55:30.440929Z",
          "shell.execute_reply.started": "2022-01-17T17:55:30.416041Z",
          "shell.execute_reply": "2022-01-17T17:55:30.440081Z"
        },
        "trusted": true,
        "colab": {
          "base_uri": "https://localhost:8080/"
        },
        "id": "vmjNavTjSHib",
        "outputId": "9059facf-8528-4d79-ac58-5a836bd6d8b4"
      },
      "execution_count": 18,
      "outputs": [
        {
          "output_type": "execute_result",
          "data": {
            "text/plain": [
              "(76.89067730218646, 512)"
            ]
          },
          "metadata": {},
          "execution_count": 18
        }
      ]
    },
    {
      "cell_type": "code",
      "source": [
        "df_valid.Sentence.apply(lambda x: len(x)).mean(), df_valid.Sentence.apply(lambda x: len(x)).max()"
      ],
      "metadata": {
        "execution": {
          "iopub.status.busy": "2022-01-17T17:55:32.079831Z",
          "iopub.execute_input": "2022-01-17T17:55:32.080096Z",
          "iopub.status.idle": "2022-01-17T17:55:32.094195Z",
          "shell.execute_reply.started": "2022-01-17T17:55:32.080065Z",
          "shell.execute_reply": "2022-01-17T17:55:32.093334Z"
        },
        "trusted": true,
        "colab": {
          "base_uri": "https://localhost:8080/"
        },
        "id": "-p_fcSezSHib",
        "outputId": "f9c81f45-5762-4f27-ae98-9a208e121478"
      },
      "execution_count": 19,
      "outputs": [
        {
          "output_type": "execute_result",
          "data": {
            "text/plain": [
              "(83.78738461538461, 438)"
            ]
          },
          "metadata": {},
          "execution_count": 19
        }
      ]
    },
    {
      "cell_type": "code",
      "source": [
        "LABEL_ALL_SUBTOKENS = True\n",
        "class NERDataset(Dataset):\n",
        "\n",
        "    def __init__(self, dataframe, tokenizer, max_len, get_wids = False):\n",
        "        self.data = dataframe\n",
        "        self.len = len(dataframe)\n",
        "        self.tokenizer = tokenizer\n",
        "        self.max_len = max_len\n",
        "        self.get_wids = get_wids\n",
        "        \n",
        "    def __getitem__(self,index):\n",
        "        text = self.data['Sentence'].values[index]        \n",
        "        word_labels = self.data['Labels'].values[index].split(',')\n",
        "\n",
        "        # TOKENIZE TEXT\n",
        "        encoding = self.tokenizer(text.split(),\n",
        "                             is_split_into_words=True,\n",
        "                             #return_offsets_mapping=True, \n",
        "                             padding='max_length', \n",
        "                             truncation=True, \n",
        "#                              return_tensors='pt',\n",
        "                             max_length=self.max_len,\n",
        "                             )\n",
        "        word_ids = encoding.word_ids()  \n",
        "\n",
        "        # CREATE TARGETS\n",
        "        if not self.get_wids:\n",
        "            previous_word_idx = None\n",
        "            label_ids = []\n",
        "            for word_idx in word_ids:                            \n",
        "                if word_idx is None:\n",
        "                    label_ids.append(-100)\n",
        "                elif word_idx != previous_word_idx:              \n",
        "                    label_ids.append( le.transform([word_labels[word_idx]]))\n",
        "                else:\n",
        "                    if LABEL_ALL_SUBTOKENS:\n",
        "                        label_ids.append( le.transform([word_labels[word_idx]]) )\n",
        "                    else:\n",
        "                        label_ids.append(-100)\n",
        "                previous_word_idx = word_idx\n",
        "            encoding['labels'] = label_ids\n",
        "\n",
        "        # CONVERT TO TORCH TENSORS\n",
        "        item = {key: torch.as_tensor(val) for key, val in encoding.items()}\n",
        "        if self.get_wids: \n",
        "            word_ids2 = [w if w is not None else -1 for w in word_ids]\n",
        "            item['wids'] = torch.as_tensor(word_ids2)\n",
        "\n",
        "        return item\n",
        "    \n",
        "    def __len__(self):\n",
        "        return self.len\n",
        "\n",
        "train_dataset = NERDataset(df_train, tokenizer, 128)\n",
        "valid_dataset = NERDataset(df_valid, tokenizer, 128)"
      ],
      "metadata": {
        "execution": {
          "iopub.status.busy": "2022-01-17T17:55:33.193384Z",
          "iopub.execute_input": "2022-01-17T17:55:33.194022Z",
          "iopub.status.idle": "2022-01-17T17:55:33.206532Z",
          "shell.execute_reply.started": "2022-01-17T17:55:33.193982Z",
          "shell.execute_reply": "2022-01-17T17:55:33.205624Z"
        },
        "trusted": true,
        "id": "5b5tZ92ISHic"
      },
      "execution_count": 20,
      "outputs": []
    },
    {
      "cell_type": "code",
      "source": [
        "train_dataloader = DataLoader(train_dataset, batch_size=32, shuffle=True)\n",
        "valid_dataloader = DataLoader(valid_dataset, batch_size=32, shuffle=False)"
      ],
      "metadata": {
        "id": "7oRMRFr0c2Nb",
        "execution": {
          "iopub.status.busy": "2022-01-17T17:55:34.047243Z",
          "iopub.execute_input": "2022-01-17T17:55:34.047965Z",
          "iopub.status.idle": "2022-01-17T17:55:34.053332Z",
          "shell.execute_reply.started": "2022-01-17T17:55:34.047925Z",
          "shell.execute_reply": "2022-01-17T17:55:34.052352Z"
        },
        "trusted": true
      },
      "execution_count": 21,
      "outputs": []
    },
    {
      "cell_type": "code",
      "source": [
        "model = BertForTokenClassification.from_pretrained('bert-base-uncased', num_labels=len(labels_to_ids))"
      ],
      "metadata": {
        "execution": {
          "iopub.status.busy": "2022-01-17T17:55:36.271521Z",
          "iopub.execute_input": "2022-01-17T17:55:36.272174Z",
          "iopub.status.idle": "2022-01-17T17:55:38.607151Z",
          "shell.execute_reply.started": "2022-01-17T17:55:36.272135Z",
          "shell.execute_reply": "2022-01-17T17:55:38.606456Z"
        },
        "trusted": true,
        "colab": {
          "base_uri": "https://localhost:8080/",
          "height": 156,
          "referenced_widgets": [
            "6085e1ef814b4e43a01fe1486958bec8",
            "9e7574d1ede64c35b24fccf339e0130b",
            "be6d1997c52c430e9ce6d3a4e9918738",
            "5324b43725f349bf86ac5e0aced6ae65",
            "9588b3603f0c485bb5fede2a99af2a1c",
            "eeb37108aa10407da557e5baf37bf681",
            "f173f935d664405aa266546829d31fdf",
            "c37ce75c1d1948878140e735b5e751de",
            "beec752898134507bddddb9a6fc8ec8c",
            "67ae55da253b4ea092ffc9d03a19d178",
            "49557c29db12493cadf3abb50e56e138"
          ]
        },
        "id": "HN14ENEHSHic",
        "outputId": "94eb9388-1f4c-46ad-9a2f-35b3b67a78a7"
      },
      "execution_count": 22,
      "outputs": [
        {
          "output_type": "display_data",
          "data": {
            "application/vnd.jupyter.widget-view+json": {
              "model_id": "6085e1ef814b4e43a01fe1486958bec8",
              "version_minor": 0,
              "version_major": 2
            },
            "text/plain": [
              "Downloading:   0%|          | 0.00/420M [00:00<?, ?B/s]"
            ]
          },
          "metadata": {}
        },
        {
          "output_type": "stream",
          "name": "stderr",
          "text": [
            "Some weights of the model checkpoint at bert-base-uncased were not used when initializing BertForTokenClassification: ['cls.predictions.transform.LayerNorm.weight', 'cls.predictions.transform.dense.weight', 'cls.predictions.transform.LayerNorm.bias', 'cls.seq_relationship.weight', 'cls.predictions.decoder.weight', 'cls.seq_relationship.bias', 'cls.predictions.transform.dense.bias', 'cls.predictions.bias']\n",
            "- This IS expected if you are initializing BertForTokenClassification from the checkpoint of a model trained on another task or with another architecture (e.g. initializing a BertForSequenceClassification model from a BertForPreTraining model).\n",
            "- This IS NOT expected if you are initializing BertForTokenClassification from the checkpoint of a model that you expect to be exactly identical (initializing a BertForSequenceClassification model from a BertForSequenceClassification model).\n",
            "Some weights of BertForTokenClassification were not initialized from the model checkpoint at bert-base-uncased and are newly initialized: ['classifier.bias', 'classifier.weight']\n",
            "You should probably TRAIN this model on a down-stream task to be able to use it for predictions and inference.\n"
          ]
        }
      ]
    },
    {
      "cell_type": "markdown",
      "source": [
        "В качестве модели берем предобученный берт, так как он дает очень хорошее качество."
      ],
      "metadata": {
        "id": "ffHPZCYBSHic"
      }
    },
    {
      "cell_type": "code",
      "source": [
        "len(labels_to_ids)"
      ],
      "metadata": {
        "execution": {
          "iopub.status.busy": "2022-01-17T17:55:46.320986Z",
          "iopub.execute_input": "2022-01-17T17:55:46.321629Z",
          "iopub.status.idle": "2022-01-17T17:55:46.326609Z",
          "shell.execute_reply.started": "2022-01-17T17:55:46.321587Z",
          "shell.execute_reply": "2022-01-17T17:55:46.325847Z"
        },
        "trusted": true,
        "colab": {
          "base_uri": "https://localhost:8080/"
        },
        "id": "mDVv8OQZSHic",
        "outputId": "dafbdc63-f58b-40ce-ee6a-80e0e2ec1964"
      },
      "execution_count": 23,
      "outputs": [
        {
          "output_type": "execute_result",
          "data": {
            "text/plain": [
              "8"
            ]
          },
          "metadata": {},
          "execution_count": 23
        }
      ]
    },
    {
      "cell_type": "code",
      "source": [
        "# class NERModel(nn.Module):\n",
        "\n",
        "#     def __init__(self, labels_to_ids):\n",
        "#         super(NERModel,self).__init__()\n",
        "#         self.labels_to_ids = labels_to_ids\n",
        "#         self.bert = BertModel.from_pretrained('bert-base-uncased', num_labels=len(self.labels_to_ids))\n",
        "#         prob, D_in, H,D_out = 0.3 ,768 ,30, len(self.labels_to_ids)\n",
        "    \n",
        "#         self.classifier = nn.Sequential(\n",
        "#             nn.Dropout(prob),\n",
        "#             nn.Linear(D_in, H),\n",
        "#             nn.ReLU(),\n",
        "#             nn.Linear(H, D_out))\n",
        "        \n",
        "#         self.sigmoid = nn.Sigmoid()\n",
        "        \n",
        "#     def forward(self, input_ids, token_type_ids, attention_mask, labels=None):\n",
        "#         outputs = self.bert(input_ids=input_ids, token_type_ids = token_type_ids, attention_mask = attention_mask, labels = labels)\n",
        "#         last_hidden_state_cls = outputs[0]\n",
        "#         logit = self.classifier(last_hidden_state_cls)\n",
        "#         return self.sigmoid(logit)"
      ],
      "metadata": {
        "id": "Kv-cKwqnde3E",
        "execution": {
          "iopub.status.busy": "2022-01-17T17:55:50.636766Z",
          "iopub.execute_input": "2022-01-17T17:55:50.637463Z",
          "iopub.status.idle": "2022-01-17T17:55:50.643945Z",
          "shell.execute_reply.started": "2022-01-17T17:55:50.637391Z",
          "shell.execute_reply": "2022-01-17T17:55:50.643231Z"
        },
        "trusted": true
      },
      "execution_count": 25,
      "outputs": []
    },
    {
      "cell_type": "code",
      "source": [
        "if torch.cuda.is_available():       \n",
        "    device = torch.device(\"cuda\")\n",
        "    print(f'There are {torch.cuda.device_count()} GPU(s) available.')\n",
        "    print('Device name:', torch.cuda.get_device_name(0))\n",
        "\n",
        "else:\n",
        "    print('No GPU available, using the CPU instead.')\n",
        "    device = torch.device(\"cpu\")"
      ],
      "metadata": {
        "id": "W-Y8I1iReYxv",
        "execution": {
          "iopub.status.busy": "2022-01-17T17:55:51.920016Z",
          "iopub.execute_input": "2022-01-17T17:55:51.920545Z",
          "iopub.status.idle": "2022-01-17T17:55:51.952806Z",
          "shell.execute_reply.started": "2022-01-17T17:55:51.920504Z",
          "shell.execute_reply": "2022-01-17T17:55:51.952021Z"
        },
        "trusted": true,
        "colab": {
          "base_uri": "https://localhost:8080/"
        },
        "outputId": "d206284d-dc3d-4458-eb7c-8bd33356d2bb"
      },
      "execution_count": 26,
      "outputs": [
        {
          "output_type": "stream",
          "name": "stdout",
          "text": [
            "There are 1 GPU(s) available.\n",
            "Device name: Tesla T4\n"
          ]
        }
      ]
    },
    {
      "cell_type": "code",
      "source": [
        "model = model.to(device)"
      ],
      "metadata": {
        "id": "__G8sNO0eGfp",
        "execution": {
          "iopub.status.busy": "2022-01-17T17:55:53.999922Z",
          "iopub.execute_input": "2022-01-17T17:55:54.000525Z",
          "iopub.status.idle": "2022-01-17T17:55:56.266059Z",
          "shell.execute_reply.started": "2022-01-17T17:55:54.000487Z",
          "shell.execute_reply": "2022-01-17T17:55:56.265306Z"
        },
        "trusted": true
      },
      "execution_count": 27,
      "outputs": []
    },
    {
      "cell_type": "code",
      "source": [
        "def transform_logits(predictions: List[torch.tensor]):\n",
        "    predics = predictions.detach().cpu().numpy()\n",
        "    predict_labels_per_sentence = [ids_to_labels[x] for x in predics]\n",
        "    return predict_labels_per_sentence\n",
        "\n",
        "def transform_target(target_labels: List[torch.tensor]):\n",
        "    real_labels = [list(x) for y in target_labels for x in y.detach().cpu().numpy()]\n",
        "    real_labels = [[x if x != -100 else 2 for x in y] for y in real_labels]\n",
        "    gold_labels_per_sentence = [[ids_to_labels[x] for x in y] for y in real_labels]\n",
        "    return gold_labels_per_sentence\n",
        "\n",
        "def transform_logits_and_targets(labels: List[torch.tensor], logits: List[torch.tensor], num_labels):\n",
        "    flattened_targets = labels.view(-1)\n",
        "    active_logits = logits.view(-1, num_labels)\n",
        "    flattened_predictions = torch.argmax(active_logits, axis=1)\n",
        "\n",
        "    active_accuracy = labels.view(-1) != -100\n",
        "\n",
        "    predict_labels_per_sentence = torch.masked_select(flattened_targets, active_accuracy)\n",
        "    gold_labels_per_sentence = torch.masked_select(flattened_predictions, active_accuracy)\n",
        "    return gold_labels_per_sentence, predict_labels_per_sentence"
      ],
      "metadata": {
        "id": "mSxc2qQTfvJu",
        "execution": {
          "iopub.status.busy": "2022-01-17T17:55:56.267746Z",
          "iopub.execute_input": "2022-01-17T17:55:56.267996Z",
          "iopub.status.idle": "2022-01-17T17:55:56.278313Z",
          "shell.execute_reply.started": "2022-01-17T17:55:56.267960Z",
          "shell.execute_reply": "2022-01-17T17:55:56.277480Z"
        },
        "trusted": true
      },
      "execution_count": 28,
      "outputs": []
    },
    {
      "cell_type": "code",
      "source": [
        "def count_metrics(gold_labels_per_sentence: List[List[str]], predict_labels_per_sentence: List[List[str]]):\n",
        "    gold_labels = gold_labels_per_sentence.detach().cpu().numpy()\n",
        "    predict_labels = predict_labels_per_sentence.detach().cpu().numpy()\n",
        "    print(classification_report(gold_labels, predict_labels))"
      ],
      "metadata": {
        "id": "Bk0M2FPNhD25",
        "execution": {
          "iopub.status.busy": "2022-01-17T17:55:56.280109Z",
          "iopub.execute_input": "2022-01-17T17:55:56.280388Z",
          "iopub.status.idle": "2022-01-17T17:55:56.290613Z",
          "shell.execute_reply.started": "2022-01-17T17:55:56.280353Z",
          "shell.execute_reply": "2022-01-17T17:55:56.289845Z"
        },
        "trusted": true
      },
      "execution_count": 29,
      "outputs": []
    },
    {
      "cell_type": "code",
      "source": [
        "def flat_accuracy(preds: torch.tensor, labels:torch.tensor):\n",
        "    pred_flat = preds.flatten().detach().cpu().numpy()\n",
        "    labels_flat = labels.flatten().detach().cpu().numpy()\n",
        "    return np.sum(pred_flat == labels_flat) / len(labels_flat)"
      ],
      "metadata": {
        "execution": {
          "iopub.status.busy": "2022-01-17T17:55:56.320601Z",
          "iopub.execute_input": "2022-01-17T17:55:56.320810Z",
          "iopub.status.idle": "2022-01-17T17:55:56.325597Z",
          "shell.execute_reply.started": "2022-01-17T17:55:56.320767Z",
          "shell.execute_reply": "2022-01-17T17:55:56.324663Z"
        },
        "trusted": true,
        "id": "J88TIWSISHid"
      },
      "execution_count": 30,
      "outputs": []
    },
    {
      "cell_type": "code",
      "source": [
        "optimizer = AdamW(model.parameters(), lr=5e-6)"
      ],
      "metadata": {
        "execution": {
          "iopub.status.busy": "2022-01-17T17:55:58.719681Z",
          "iopub.execute_input": "2022-01-17T17:55:58.719940Z",
          "iopub.status.idle": "2022-01-17T17:55:58.728757Z",
          "shell.execute_reply.started": "2022-01-17T17:55:58.719910Z",
          "shell.execute_reply": "2022-01-17T17:55:58.727987Z"
        },
        "trusted": true,
        "id": "pdMzmAPrSHie"
      },
      "execution_count": 31,
      "outputs": []
    },
    {
      "cell_type": "code",
      "source": [
        "def train(model, optimizer, epochs, train_dataloader, evaluation=True, valid_dataloader = None):\n",
        "    '''\n",
        "    Function to train model\n",
        "    Function returns trained model and dictionary of losses\n",
        "    Input parametres:\n",
        "        model - torch model to be trained\n",
        "        optimizer - optimizer that is used in training\n",
        "        epochs - number of training epochs\n",
        "        train_dataloader - data that is used in training\n",
        "        evaluation (default = True) - booalen, True if evaluation on valid_dataloader is required\n",
        "        valid_dataloader (default = None) - dataloader that is used for evaluation\n",
        "    '''\n",
        "    losses = {\"train_losses\": [], \"valid_losses\": []}\n",
        "    \n",
        "    for epoch in range(epochs):\n",
        "\n",
        "        print(f\"Start epoch #{epoch + 1}\")\n",
        "        losses_list = []\n",
        "        model.train()\n",
        "        for i,train_batch in enumerate(train_dataloader):\n",
        "            model.zero_grad()\n",
        "            b_input_ids_pos,b_token_type_ids, b_attn_mask_pos, b_labels = tuple(t.to(device) for t in train_batch.values())\n",
        "            output = model(b_input_ids_pos,token_type_ids = None, attention_mask = b_attn_mask_pos, labels= b_labels)\n",
        "            loss, logits = output.loss, output.logits\n",
        "            losses_list.append(loss)\n",
        "            torch.nn.utils.clip_grad_norm_(model.parameters(), 2.0)\n",
        "            loss.backward()\n",
        "\n",
        "\n",
        "            optimizer.step()\n",
        "            print(f'batch {i}/{len(train_dataloader)} loss: {loss}',end='\\r')\n",
        "            predict_labels, gold_labels = [], []\n",
        "        losses['train_losses'].append(torch.mean(torch.tensor(losses_list).float()))\n",
        "\n",
        "        if evaluation:\n",
        "            valid_loss = evaluate(model, valid_dataloader)\n",
        "            losses['valid_losses'].append(valid_loss)\n",
        "    return model, losses\n",
        "def evaluate(model, valid_dataloader):\n",
        "    '''\n",
        "    Function to evaluate model:\n",
        "    Function prints accuracy and classification report for evaluation data and return mean loss.\n",
        "    Input parameters:\n",
        "        model - pytorch model to be evaluated\n",
        "        valid_dataloader - dataloader that is used for evaluation\n",
        "    '''\n",
        "    model.eval()\n",
        "    losses = []\n",
        "    gold_labels = []\n",
        "    logits_list = []\n",
        "    for valid_batch in valid_dataloader:\n",
        "\n",
        "        b_input_ids_pos,b_token_type_ids, b_attn_mask_pos, b_labels = tuple(t.to(device) for t in valid_batch.values())\n",
        "        with torch.no_grad():\n",
        "            output = model(b_input_ids_pos,token_type_ids = None, attention_mask = b_attn_mask_pos, labels=b_labels)\n",
        "        loss, logits = output.loss, output.logits\n",
        "        losses.append(loss)\n",
        "        logits = output.logits\n",
        "        label_ids = b_labels\n",
        "        gold_labels.append(b_labels)\n",
        "        logits_list.append(logits)\n",
        "\n",
        "    logits_list = torch.cat(logits_list,0) \n",
        "    gold_labels = torch.cat(gold_labels, 0)\n",
        "    gold_labels_per_sentence, predict_labels_per_sentence  = transform_logits_and_targets(gold_labels, logits_list, model.num_labels)\n",
        "    \n",
        "    print('_'*25)\n",
        "    print(f'Accuracy {flat_accuracy(gold_labels_per_sentence, predict_labels_per_sentence)}')\n",
        "    print(f'classification report:')\n",
        "    print(count_metrics(gold_labels_per_sentence, predict_labels_per_sentence))\n",
        "    \n",
        "    return torch.mean(torch.tensor(losses).float())\n"
      ],
      "metadata": {
        "id": "_c45KAbxd7Yt",
        "execution": {
          "iopub.status.busy": "2022-01-17T17:56:00.253701Z",
          "iopub.execute_input": "2022-01-17T17:56:00.253962Z",
          "iopub.status.idle": "2022-01-17T17:56:00.279060Z",
          "shell.execute_reply.started": "2022-01-17T17:56:00.253933Z",
          "shell.execute_reply": "2022-01-17T17:56:00.278120Z"
        },
        "trusted": true
      },
      "execution_count": 32,
      "outputs": []
    },
    {
      "cell_type": "code",
      "source": [
        "model, losses = train(model, optimizer, 5, train_dataloader, evaluation=True, valid_dataloader=valid_dataloader)"
      ],
      "metadata": {
        "execution": {
          "iopub.status.busy": "2022-01-17T17:56:02.813083Z",
          "iopub.execute_input": "2022-01-17T17:56:02.813335Z",
          "iopub.status.idle": "2022-01-17T18:13:56.236777Z",
          "shell.execute_reply.started": "2022-01-17T17:56:02.813308Z",
          "shell.execute_reply": "2022-01-17T18:13:56.235249Z"
        },
        "trusted": true,
        "colab": {
          "base_uri": "https://localhost:8080/"
        },
        "id": "fM8qZg4TSHie",
        "outputId": "9d9fff27-dfdf-4daf-bff9-6c3170f0066d"
      },
      "execution_count": 33,
      "outputs": [
        {
          "output_type": "stream",
          "name": "stdout",
          "text": [
            "Start epoch #1\n"
          ]
        },
        {
          "output_type": "stream",
          "name": "stderr",
          "text": [
            "/usr/local/lib/python3.7/dist-packages/ipykernel_launcher.py:44: UserWarning: Creating a tensor from a list of numpy.ndarrays is extremely slow. Please consider converting the list to a single numpy.ndarray with numpy.array() before converting to a tensor. (Triggered internally at  ../torch/csrc/utils/tensor_new.cpp:201.)\n"
          ]
        },
        {
          "output_type": "stream",
          "name": "stdout",
          "text": [
            "_________________________\n",
            "Accuracy 0.969596312778131\n",
            "classification report:\n",
            "              precision    recall  f1-score   support\n",
            "\n",
            "           1       0.00      0.00      0.00         0\n",
            "           3       0.95      0.82      0.88      3382\n",
            "           4       0.53      0.76      0.63      1126\n",
            "           5       0.86      0.84      0.85      3039\n",
            "           6       0.99      0.98      0.98      5883\n",
            "           7       0.99      0.99      0.99     49490\n",
            "\n",
            "    accuracy                           0.97     62920\n",
            "   macro avg       0.72      0.73      0.72     62920\n",
            "weighted avg       0.97      0.97      0.97     62920\n",
            "\n",
            "None\n",
            "Start epoch #2\n"
          ]
        },
        {
          "output_type": "stream",
          "name": "stderr",
          "text": [
            "/usr/local/lib/python3.7/dist-packages/sklearn/metrics/_classification.py:1318: UndefinedMetricWarning: Recall and F-score are ill-defined and being set to 0.0 in labels with no true samples. Use `zero_division` parameter to control this behavior.\n",
            "  _warn_prf(average, modifier, msg_start, len(result))\n",
            "/usr/local/lib/python3.7/dist-packages/sklearn/metrics/_classification.py:1318: UndefinedMetricWarning: Recall and F-score are ill-defined and being set to 0.0 in labels with no true samples. Use `zero_division` parameter to control this behavior.\n",
            "  _warn_prf(average, modifier, msg_start, len(result))\n",
            "/usr/local/lib/python3.7/dist-packages/sklearn/metrics/_classification.py:1318: UndefinedMetricWarning: Recall and F-score are ill-defined and being set to 0.0 in labels with no true samples. Use `zero_division` parameter to control this behavior.\n",
            "  _warn_prf(average, modifier, msg_start, len(result))\n"
          ]
        },
        {
          "output_type": "stream",
          "name": "stdout",
          "text": [
            "_________________________\n",
            "Accuracy 0.9805626191989828\n",
            "classification report:\n",
            "              precision    recall  f1-score   support\n",
            "\n",
            "           1       0.00      0.00      0.00         0\n",
            "           3       0.96      0.93      0.94      3000\n",
            "           4       0.78      0.79      0.79      1602\n",
            "           5       0.90      0.91      0.91      2924\n",
            "           6       0.99      0.98      0.99      5863\n",
            "           7       0.99      0.99      0.99     49531\n",
            "\n",
            "    accuracy                           0.98     62920\n",
            "   macro avg       0.77      0.77      0.77     62920\n",
            "weighted avg       0.98      0.98      0.98     62920\n",
            "\n",
            "None\n",
            "Start epoch #3\n"
          ]
        },
        {
          "output_type": "stream",
          "name": "stderr",
          "text": [
            "/usr/local/lib/python3.7/dist-packages/sklearn/metrics/_classification.py:1318: UndefinedMetricWarning: Recall and F-score are ill-defined and being set to 0.0 in labels with no true samples. Use `zero_division` parameter to control this behavior.\n",
            "  _warn_prf(average, modifier, msg_start, len(result))\n",
            "/usr/local/lib/python3.7/dist-packages/sklearn/metrics/_classification.py:1318: UndefinedMetricWarning: Recall and F-score are ill-defined and being set to 0.0 in labels with no true samples. Use `zero_division` parameter to control this behavior.\n",
            "  _warn_prf(average, modifier, msg_start, len(result))\n",
            "/usr/local/lib/python3.7/dist-packages/sklearn/metrics/_classification.py:1318: UndefinedMetricWarning: Recall and F-score are ill-defined and being set to 0.0 in labels with no true samples. Use `zero_division` parameter to control this behavior.\n",
            "  _warn_prf(average, modifier, msg_start, len(result))\n"
          ]
        },
        {
          "output_type": "stream",
          "name": "stdout",
          "text": [
            "_________________________\n",
            "Accuracy 0.9836935791481246\n",
            "classification report:\n",
            "              precision    recall  f1-score   support\n",
            "\n",
            "           1       0.00      0.00      0.00         0\n",
            "           3       0.96      0.95      0.95      2940\n",
            "           4       0.81      0.84      0.83      1553\n",
            "           5       0.92      0.92      0.92      2959\n",
            "           6       0.99      0.98      0.99      5838\n",
            "           7       0.99      0.99      0.99     49630\n",
            "\n",
            "    accuracy                           0.98     62920\n",
            "   macro avg       0.78      0.78      0.78     62920\n",
            "weighted avg       0.98      0.98      0.98     62920\n",
            "\n",
            "None\n",
            "Start epoch #4\n"
          ]
        },
        {
          "output_type": "stream",
          "name": "stderr",
          "text": [
            "/usr/local/lib/python3.7/dist-packages/sklearn/metrics/_classification.py:1318: UndefinedMetricWarning: Recall and F-score are ill-defined and being set to 0.0 in labels with no true samples. Use `zero_division` parameter to control this behavior.\n",
            "  _warn_prf(average, modifier, msg_start, len(result))\n",
            "/usr/local/lib/python3.7/dist-packages/sklearn/metrics/_classification.py:1318: UndefinedMetricWarning: Recall and F-score are ill-defined and being set to 0.0 in labels with no true samples. Use `zero_division` parameter to control this behavior.\n",
            "  _warn_prf(average, modifier, msg_start, len(result))\n",
            "/usr/local/lib/python3.7/dist-packages/sklearn/metrics/_classification.py:1318: UndefinedMetricWarning: Recall and F-score are ill-defined and being set to 0.0 in labels with no true samples. Use `zero_division` parameter to control this behavior.\n",
            "  _warn_prf(average, modifier, msg_start, len(result))\n"
          ]
        },
        {
          "output_type": "stream",
          "name": "stdout",
          "text": [
            "_________________________\n",
            "Accuracy 0.9853782581055308\n",
            "classification report:\n",
            "              precision    recall  f1-score   support\n",
            "\n",
            "           1       0.00      0.00      0.00         0\n",
            "           3       0.97      0.96      0.96      2921\n",
            "           4       0.85      0.86      0.85      1602\n",
            "           5       0.92      0.93      0.92      2933\n",
            "           6       0.99      0.99      0.99      5819\n",
            "           7       0.99      0.99      0.99     49645\n",
            "\n",
            "    accuracy                           0.99     62920\n",
            "   macro avg       0.79      0.79      0.79     62920\n",
            "weighted avg       0.99      0.99      0.99     62920\n",
            "\n",
            "None\n",
            "Start epoch #5\n"
          ]
        },
        {
          "output_type": "stream",
          "name": "stderr",
          "text": [
            "/usr/local/lib/python3.7/dist-packages/sklearn/metrics/_classification.py:1318: UndefinedMetricWarning: Recall and F-score are ill-defined and being set to 0.0 in labels with no true samples. Use `zero_division` parameter to control this behavior.\n",
            "  _warn_prf(average, modifier, msg_start, len(result))\n",
            "/usr/local/lib/python3.7/dist-packages/sklearn/metrics/_classification.py:1318: UndefinedMetricWarning: Recall and F-score are ill-defined and being set to 0.0 in labels with no true samples. Use `zero_division` parameter to control this behavior.\n",
            "  _warn_prf(average, modifier, msg_start, len(result))\n",
            "/usr/local/lib/python3.7/dist-packages/sklearn/metrics/_classification.py:1318: UndefinedMetricWarning: Recall and F-score are ill-defined and being set to 0.0 in labels with no true samples. Use `zero_division` parameter to control this behavior.\n",
            "  _warn_prf(average, modifier, msg_start, len(result))\n"
          ]
        },
        {
          "output_type": "stream",
          "name": "stdout",
          "text": [
            "_________________________\n",
            "Accuracy 0.984758423394787\n",
            "classification report:\n",
            "              precision    recall  f1-score   support\n",
            "\n",
            "           1       0.00      0.00      0.00         0\n",
            "           3       0.97      0.96      0.97      2919\n",
            "           4       0.88      0.82      0.85      1730\n",
            "           5       0.94      0.91      0.92      3044\n",
            "           6       0.99      0.99      0.99      5818\n",
            "           7       0.99      1.00      0.99     49409\n",
            "\n",
            "    accuracy                           0.98     62920\n",
            "   macro avg       0.79      0.78      0.79     62920\n",
            "weighted avg       0.98      0.98      0.98     62920\n",
            "\n",
            "None\n"
          ]
        },
        {
          "output_type": "stream",
          "name": "stderr",
          "text": [
            "/usr/local/lib/python3.7/dist-packages/sklearn/metrics/_classification.py:1318: UndefinedMetricWarning: Recall and F-score are ill-defined and being set to 0.0 in labels with no true samples. Use `zero_division` parameter to control this behavior.\n",
            "  _warn_prf(average, modifier, msg_start, len(result))\n",
            "/usr/local/lib/python3.7/dist-packages/sklearn/metrics/_classification.py:1318: UndefinedMetricWarning: Recall and F-score are ill-defined and being set to 0.0 in labels with no true samples. Use `zero_division` parameter to control this behavior.\n",
            "  _warn_prf(average, modifier, msg_start, len(result))\n",
            "/usr/local/lib/python3.7/dist-packages/sklearn/metrics/_classification.py:1318: UndefinedMetricWarning: Recall and F-score are ill-defined and being set to 0.0 in labels with no true samples. Use `zero_division` parameter to control this behavior.\n",
            "  _warn_prf(average, modifier, msg_start, len(result))\n"
          ]
        }
      ]
    },
    {
      "cell_type": "code",
      "source": [
        "os.mkdir('Model')"
      ],
      "metadata": {
        "trusted": true,
        "id": "YYav1uyuSHie"
      },
      "execution_count": null,
      "outputs": []
    },
    {
      "cell_type": "code",
      "source": [
        "model.save_pretrained('Model/')\n",
        "tokenizer.save_pretrained('Model')"
      ],
      "metadata": {
        "trusted": true,
        "id": "qSSOVy5USHie"
      },
      "execution_count": null,
      "outputs": []
    },
    {
      "cell_type": "code",
      "source": [
        "## предложение, которого, скорее всего, не было в выборках, чтобы проверить, как отрабатывает модель\n",
        "test_sentence = 'apple solded 5000 Bayerische Motoren Werke from Donald Trump this year in London'"
      ],
      "metadata": {
        "execution": {
          "iopub.status.busy": "2022-01-17T18:13:56.310968Z",
          "iopub.execute_input": "2022-01-17T18:13:56.311209Z",
          "iopub.status.idle": "2022-01-17T18:13:56.314807Z",
          "shell.execute_reply.started": "2022-01-17T18:13:56.311181Z",
          "shell.execute_reply": "2022-01-17T18:13:56.313928Z"
        },
        "trusted": true,
        "id": "LFYd7kDWSHie"
      },
      "execution_count": 34,
      "outputs": []
    },
    {
      "cell_type": "code",
      "source": [
        "\n",
        "def get_sentence_and_labels(sentence, labels_to_ids):\n",
        "    item = tokenizer(test_sentence.split(), is_split_into_words=True,\n",
        "                             #return_offsets_mapping=True, \n",
        "                             padding='max_length', \n",
        "                             truncation=True, \n",
        "#                              return_tensors='pt',\n",
        "                             max_length=128)\n",
        "    \n",
        "    inps = torch.Tensor(item['input_ids']).long().to(device)\n",
        "    mask = torch.Tensor(item['attention_mask']).long().to(device)\n",
        "    inps = inps.unsqueeze(0)\n",
        "    mask = mask.unsqueeze(0)\n",
        "    outputs = model(inps, token_type_ids = None, attention_mask=mask)\n",
        "    predicts = torch.argmax(outputs.logits,2)\n",
        "    return_sentence = ''\n",
        "    return_labels = []\n",
        "    tokens = tokenizer.convert_ids_to_tokens(inps.squeeze(0))\n",
        "    for i, (token, label) in enumerate(zip(tokens, predicts.squeeze(0).detach().cpu().numpy())):\n",
        "        if '[' in token:\n",
        "            continue\n",
        "        elif not token.startswith('##'):\n",
        "            if tokens[i+1].startswith('##'):\n",
        "                return_sentence += token\n",
        "            else:\n",
        "                return_sentence += token + ' '\n",
        "            return_labels.append(labels_to_ids[label])\n",
        "        else:\n",
        "            return_sentence += token[2:] +  ' '\n",
        "    return return_sentence, return_labels"
      ],
      "metadata": {
        "execution": {
          "iopub.status.busy": "2022-01-17T18:13:56.316031Z",
          "iopub.execute_input": "2022-01-17T18:13:56.316449Z",
          "iopub.status.idle": "2022-01-17T18:13:56.327943Z",
          "shell.execute_reply.started": "2022-01-17T18:13:56.316396Z",
          "shell.execute_reply": "2022-01-17T18:13:56.327345Z"
        },
        "trusted": true,
        "id": "NmNU4ZPRSHif"
      },
      "execution_count": 35,
      "outputs": []
    },
    {
      "cell_type": "code",
      "source": [
        "get_sentence_and_labels(test_sentence, labels_to_ids)"
      ],
      "metadata": {
        "execution": {
          "iopub.status.busy": "2022-01-17T18:13:56.329790Z",
          "iopub.execute_input": "2022-01-17T18:13:56.330173Z",
          "iopub.status.idle": "2022-01-17T18:13:56.365997Z",
          "shell.execute_reply.started": "2022-01-17T18:13:56.330140Z",
          "shell.execute_reply": "2022-01-17T18:13:56.365291Z"
        },
        "trusted": true,
        "colab": {
          "base_uri": "https://localhost:8080/"
        },
        "id": "jgb1xKsCSHif",
        "outputId": "e59639cb-512d-48e9-c353-eabc7e1b8d5e"
      },
      "execution_count": 36,
      "outputs": [
        {
          "output_type": "execute_result",
          "data": {
            "text/plain": [
              "('apple solded 5000 bayerische motoren werke from donald trump this year in london ',\n",
              " ['I-ORG',\n",
              "  'O',\n",
              "  'O',\n",
              "  'I-ORG',\n",
              "  'I-ORG',\n",
              "  'I-ORG',\n",
              "  'O',\n",
              "  'I-PER',\n",
              "  'I-PER',\n",
              "  'O',\n",
              "  'O',\n",
              "  'O',\n",
              "  'I-LOC'])"
            ]
          },
          "metadata": {},
          "execution_count": 36
        }
      ]
    },
    {
      "cell_type": "code",
      "source": [
        ""
      ],
      "metadata": {
        "id": "LcBhzGnvSHif"
      },
      "execution_count": null,
      "outputs": []
    }
  ]
}